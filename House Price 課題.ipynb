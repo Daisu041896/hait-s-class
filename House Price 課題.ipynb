{
 "cells": [
  {
   "cell_type": "markdown",
   "metadata": {},
   "source": [
    "# House Price vol 2"
   ]
  },
  {
   "cell_type": "markdown",
   "metadata": {},
   "source": [
    "# マッピングしたデータで分析してみる"
   ]
  },
  {
   "cell_type": "code",
   "execution_count": 2,
   "metadata": {
    "collapsed": true
   },
   "outputs": [],
   "source": [
    "import numpy as np\n",
    "import pandas as pd\n",
    "import matplotlib.pyplot as plt\n",
    "% matplotlib inline\n"
   ]
  },
  {
   "cell_type": "code",
   "execution_count": 3,
   "metadata": {},
   "outputs": [
    {
     "name": "stdout",
     "output_type": "stream",
     "text": [
      "(1460, 24)\n"
     ]
    },
    {
     "data": {
      "text/html": [
       "<div>\n",
       "<style>\n",
       "    .dataframe thead tr:only-child th {\n",
       "        text-align: right;\n",
       "    }\n",
       "\n",
       "    .dataframe thead th {\n",
       "        text-align: left;\n",
       "    }\n",
       "\n",
       "    .dataframe tbody tr th {\n",
       "        vertical-align: top;\n",
       "    }\n",
       "</style>\n",
       "<table border=\"1\" class=\"dataframe\">\n",
       "  <thead>\n",
       "    <tr style=\"text-align: right;\">\n",
       "      <th></th>\n",
       "      <th>MSSubClass</th>\n",
       "      <th>Neighborhood</th>\n",
       "      <th>OverallQual</th>\n",
       "      <th>YearBuilt</th>\n",
       "      <th>YearRemodAdd</th>\n",
       "      <th>MasVnrType</th>\n",
       "      <th>MasVnrArea</th>\n",
       "      <th>ExterQual</th>\n",
       "      <th>Foundation</th>\n",
       "      <th>BsmtQual</th>\n",
       "      <th>...</th>\n",
       "      <th>FullBath</th>\n",
       "      <th>KitchenQual</th>\n",
       "      <th>TotRmsAbvGrd</th>\n",
       "      <th>Fireplaces</th>\n",
       "      <th>GarageType</th>\n",
       "      <th>GarageYrBlt</th>\n",
       "      <th>GarageFinish</th>\n",
       "      <th>GarageCars</th>\n",
       "      <th>GarageArea</th>\n",
       "      <th>SalePrice</th>\n",
       "    </tr>\n",
       "  </thead>\n",
       "  <tbody>\n",
       "    <tr>\n",
       "      <th>count</th>\n",
       "      <td>1460.000000</td>\n",
       "      <td>1460.000000</td>\n",
       "      <td>1460.000000</td>\n",
       "      <td>1460.000000</td>\n",
       "      <td>1460.000000</td>\n",
       "      <td>1460.000000</td>\n",
       "      <td>1460.000000</td>\n",
       "      <td>1460.00000</td>\n",
       "      <td>1460.000000</td>\n",
       "      <td>1460.000000</td>\n",
       "      <td>...</td>\n",
       "      <td>1460.000000</td>\n",
       "      <td>1460.000000</td>\n",
       "      <td>1460.000000</td>\n",
       "      <td>1460.000000</td>\n",
       "      <td>1460.000000</td>\n",
       "      <td>1460.000000</td>\n",
       "      <td>1460.000000</td>\n",
       "      <td>1460.000000</td>\n",
       "      <td>1460.000000</td>\n",
       "      <td>1460.000000</td>\n",
       "    </tr>\n",
       "    <tr>\n",
       "      <th>mean</th>\n",
       "      <td>9.731507</td>\n",
       "      <td>11.973973</td>\n",
       "      <td>5.099315</td>\n",
       "      <td>64.708904</td>\n",
       "      <td>33.927397</td>\n",
       "      <td>1.472452</td>\n",
       "      <td>103.685262</td>\n",
       "      <td>1.39589</td>\n",
       "      <td>3.204795</td>\n",
       "      <td>1.579761</td>\n",
       "      <td>...</td>\n",
       "      <td>1.126027</td>\n",
       "      <td>1.511644</td>\n",
       "      <td>4.774658</td>\n",
       "      <td>0.613014</td>\n",
       "      <td>3.173314</td>\n",
       "      <td>59.469906</td>\n",
       "      <td>0.816534</td>\n",
       "      <td>1.887671</td>\n",
       "      <td>472.980137</td>\n",
       "      <td>180921.195890</td>\n",
       "    </tr>\n",
       "    <tr>\n",
       "      <th>std</th>\n",
       "      <td>3.884624</td>\n",
       "      <td>6.425884</td>\n",
       "      <td>1.382997</td>\n",
       "      <td>30.944680</td>\n",
       "      <td>19.890452</td>\n",
       "      <td>0.666386</td>\n",
       "      <td>180.569112</td>\n",
       "      <td>0.57428</td>\n",
       "      <td>1.648263</td>\n",
       "      <td>0.671916</td>\n",
       "      <td>...</td>\n",
       "      <td>1.022975</td>\n",
       "      <td>0.663760</td>\n",
       "      <td>2.031429</td>\n",
       "      <td>0.644666</td>\n",
       "      <td>1.389172</td>\n",
       "      <td>24.984704</td>\n",
       "      <td>0.790009</td>\n",
       "      <td>0.980823</td>\n",
       "      <td>213.804841</td>\n",
       "      <td>79442.502883</td>\n",
       "    </tr>\n",
       "    <tr>\n",
       "      <th>min</th>\n",
       "      <td>0.000000</td>\n",
       "      <td>0.000000</td>\n",
       "      <td>0.000000</td>\n",
       "      <td>0.000000</td>\n",
       "      <td>0.000000</td>\n",
       "      <td>0.000000</td>\n",
       "      <td>0.000000</td>\n",
       "      <td>0.00000</td>\n",
       "      <td>0.000000</td>\n",
       "      <td>0.000000</td>\n",
       "      <td>...</td>\n",
       "      <td>0.000000</td>\n",
       "      <td>0.000000</td>\n",
       "      <td>0.000000</td>\n",
       "      <td>0.000000</td>\n",
       "      <td>0.000000</td>\n",
       "      <td>0.000000</td>\n",
       "      <td>0.000000</td>\n",
       "      <td>0.000000</td>\n",
       "      <td>0.000000</td>\n",
       "      <td>34900.000000</td>\n",
       "    </tr>\n",
       "    <tr>\n",
       "      <th>25%</th>\n",
       "      <td>6.000000</td>\n",
       "      <td>6.000000</td>\n",
       "      <td>4.000000</td>\n",
       "      <td>40.000000</td>\n",
       "      <td>16.000000</td>\n",
       "      <td>1.000000</td>\n",
       "      <td>0.000000</td>\n",
       "      <td>1.00000</td>\n",
       "      <td>2.000000</td>\n",
       "      <td>1.000000</td>\n",
       "      <td>...</td>\n",
       "      <td>0.000000</td>\n",
       "      <td>1.000000</td>\n",
       "      <td>3.000000</td>\n",
       "      <td>0.000000</td>\n",
       "      <td>1.000000</td>\n",
       "      <td>41.000000</td>\n",
       "      <td>0.000000</td>\n",
       "      <td>1.000000</td>\n",
       "      <td>334.500000</td>\n",
       "      <td>129975.000000</td>\n",
       "    </tr>\n",
       "    <tr>\n",
       "      <th>50%</th>\n",
       "      <td>11.000000</td>\n",
       "      <td>12.000000</td>\n",
       "      <td>5.000000</td>\n",
       "      <td>67.500000</td>\n",
       "      <td>41.000000</td>\n",
       "      <td>1.000000</td>\n",
       "      <td>0.000000</td>\n",
       "      <td>1.00000</td>\n",
       "      <td>2.000000</td>\n",
       "      <td>2.000000</td>\n",
       "      <td>...</td>\n",
       "      <td>2.000000</td>\n",
       "      <td>1.000000</td>\n",
       "      <td>4.000000</td>\n",
       "      <td>1.000000</td>\n",
       "      <td>4.000000</td>\n",
       "      <td>60.000000</td>\n",
       "      <td>1.000000</td>\n",
       "      <td>2.000000</td>\n",
       "      <td>480.000000</td>\n",
       "      <td>163000.000000</td>\n",
       "    </tr>\n",
       "    <tr>\n",
       "      <th>75%</th>\n",
       "      <td>13.000000</td>\n",
       "      <td>16.000000</td>\n",
       "      <td>6.000000</td>\n",
       "      <td>95.000000</td>\n",
       "      <td>51.000000</td>\n",
       "      <td>2.000000</td>\n",
       "      <td>164.250000</td>\n",
       "      <td>2.00000</td>\n",
       "      <td>5.000000</td>\n",
       "      <td>2.000000</td>\n",
       "      <td>...</td>\n",
       "      <td>2.000000</td>\n",
       "      <td>2.000000</td>\n",
       "      <td>5.000000</td>\n",
       "      <td>1.000000</td>\n",
       "      <td>4.000000</td>\n",
       "      <td>81.000000</td>\n",
       "      <td>1.000000</td>\n",
       "      <td>2.000000</td>\n",
       "      <td>576.000000</td>\n",
       "      <td>214000.000000</td>\n",
       "    </tr>\n",
       "    <tr>\n",
       "      <th>max</th>\n",
       "      <td>14.000000</td>\n",
       "      <td>24.000000</td>\n",
       "      <td>9.000000</td>\n",
       "      <td>111.000000</td>\n",
       "      <td>60.000000</td>\n",
       "      <td>3.000000</td>\n",
       "      <td>1600.000000</td>\n",
       "      <td>3.00000</td>\n",
       "      <td>5.000000</td>\n",
       "      <td>3.000000</td>\n",
       "      <td>...</td>\n",
       "      <td>3.000000</td>\n",
       "      <td>3.000000</td>\n",
       "      <td>11.000000</td>\n",
       "      <td>3.000000</td>\n",
       "      <td>5.000000</td>\n",
       "      <td>96.000000</td>\n",
       "      <td>2.000000</td>\n",
       "      <td>4.000000</td>\n",
       "      <td>1418.000000</td>\n",
       "      <td>755000.000000</td>\n",
       "    </tr>\n",
       "  </tbody>\n",
       "</table>\n",
       "<p>8 rows × 24 columns</p>\n",
       "</div>"
      ],
      "text/plain": [
       "        MSSubClass  Neighborhood  OverallQual    YearBuilt  YearRemodAdd  \\\n",
       "count  1460.000000   1460.000000  1460.000000  1460.000000   1460.000000   \n",
       "mean      9.731507     11.973973     5.099315    64.708904     33.927397   \n",
       "std       3.884624      6.425884     1.382997    30.944680     19.890452   \n",
       "min       0.000000      0.000000     0.000000     0.000000      0.000000   \n",
       "25%       6.000000      6.000000     4.000000    40.000000     16.000000   \n",
       "50%      11.000000     12.000000     5.000000    67.500000     41.000000   \n",
       "75%      13.000000     16.000000     6.000000    95.000000     51.000000   \n",
       "max      14.000000     24.000000     9.000000   111.000000     60.000000   \n",
       "\n",
       "        MasVnrType   MasVnrArea   ExterQual   Foundation     BsmtQual  \\\n",
       "count  1460.000000  1460.000000  1460.00000  1460.000000  1460.000000   \n",
       "mean      1.472452   103.685262     1.39589     3.204795     1.579761   \n",
       "std       0.666386   180.569112     0.57428     1.648263     0.671916   \n",
       "min       0.000000     0.000000     0.00000     0.000000     0.000000   \n",
       "25%       1.000000     0.000000     1.00000     2.000000     1.000000   \n",
       "50%       1.000000     0.000000     1.00000     2.000000     2.000000   \n",
       "75%       2.000000   164.250000     2.00000     5.000000     2.000000   \n",
       "max       3.000000  1600.000000     3.00000     5.000000     3.000000   \n",
       "\n",
       "           ...           FullBath  KitchenQual  TotRmsAbvGrd   Fireplaces  \\\n",
       "count      ...        1460.000000  1460.000000   1460.000000  1460.000000   \n",
       "mean       ...           1.126027     1.511644      4.774658     0.613014   \n",
       "std        ...           1.022975     0.663760      2.031429     0.644666   \n",
       "min        ...           0.000000     0.000000      0.000000     0.000000   \n",
       "25%        ...           0.000000     1.000000      3.000000     0.000000   \n",
       "50%        ...           2.000000     1.000000      4.000000     1.000000   \n",
       "75%        ...           2.000000     2.000000      5.000000     1.000000   \n",
       "max        ...           3.000000     3.000000     11.000000     3.000000   \n",
       "\n",
       "        GarageType  GarageYrBlt  GarageFinish   GarageCars   GarageArea  \\\n",
       "count  1460.000000  1460.000000   1460.000000  1460.000000  1460.000000   \n",
       "mean      3.173314    59.469906      0.816534     1.887671   472.980137   \n",
       "std       1.389172    24.984704      0.790009     0.980823   213.804841   \n",
       "min       0.000000     0.000000      0.000000     0.000000     0.000000   \n",
       "25%       1.000000    41.000000      0.000000     1.000000   334.500000   \n",
       "50%       4.000000    60.000000      1.000000     2.000000   480.000000   \n",
       "75%       4.000000    81.000000      1.000000     2.000000   576.000000   \n",
       "max       5.000000    96.000000      2.000000     4.000000  1418.000000   \n",
       "\n",
       "           SalePrice  \n",
       "count    1460.000000  \n",
       "mean   180921.195890  \n",
       "std     79442.502883  \n",
       "min     34900.000000  \n",
       "25%    129975.000000  \n",
       "50%    163000.000000  \n",
       "75%    214000.000000  \n",
       "max    755000.000000  \n",
       "\n",
       "[8 rows x 24 columns]"
      ]
     },
     "execution_count": 3,
     "metadata": {},
     "output_type": "execute_result"
    }
   ],
   "source": [
    "data_train = pd.read_csv('House Price Mapping train.csv')\n",
    "data_test = pd.read_csv('House Price Mapping test.csv')\n",
    "data_train.head()\n",
    "print(data_train.shape)\n",
    "data_test.head()\n",
    "data_train.describe()"
   ]
  },
  {
   "cell_type": "code",
   "execution_count": 23,
   "metadata": {},
   "outputs": [
    {
     "data": {
      "text/html": [
       "<div>\n",
       "<style>\n",
       "    .dataframe thead tr:only-child th {\n",
       "        text-align: right;\n",
       "    }\n",
       "\n",
       "    .dataframe thead th {\n",
       "        text-align: left;\n",
       "    }\n",
       "\n",
       "    .dataframe tbody tr th {\n",
       "        vertical-align: top;\n",
       "    }\n",
       "</style>\n",
       "<table border=\"1\" class=\"dataframe\">\n",
       "  <thead>\n",
       "    <tr style=\"text-align: right;\">\n",
       "      <th></th>\n",
       "      <th>MSSubClass</th>\n",
       "      <th>Neighborhood</th>\n",
       "      <th>OverallQual</th>\n",
       "      <th>YearBuilt</th>\n",
       "      <th>YearRemodAdd</th>\n",
       "      <th>MasVnrType</th>\n",
       "      <th>MasVnrArea</th>\n",
       "      <th>ExterQual</th>\n",
       "      <th>Foundation</th>\n",
       "      <th>BsmtQual</th>\n",
       "      <th>...</th>\n",
       "      <th>FullBath</th>\n",
       "      <th>KitchenQual</th>\n",
       "      <th>TotRmsAbvGrd</th>\n",
       "      <th>Fireplaces</th>\n",
       "      <th>GarageType</th>\n",
       "      <th>GarageYrBlt</th>\n",
       "      <th>GarageFinish</th>\n",
       "      <th>GarageCars</th>\n",
       "      <th>GarageArea</th>\n",
       "      <th>SalePrice</th>\n",
       "    </tr>\n",
       "  </thead>\n",
       "  <tbody>\n",
       "    <tr>\n",
       "      <th>Neighborhood</th>\n",
       "      <td>0.532233</td>\n",
       "      <td>1.000000</td>\n",
       "      <td>0.667647</td>\n",
       "      <td>0.683095</td>\n",
       "      <td>0.521638</td>\n",
       "      <td>0.400196</td>\n",
       "      <td>0.368029</td>\n",
       "      <td>0.631870</td>\n",
       "      <td>0.576118</td>\n",
       "      <td>0.629227</td>\n",
       "      <td>...</td>\n",
       "      <td>0.513701</td>\n",
       "      <td>0.566358</td>\n",
       "      <td>0.282979</td>\n",
       "      <td>0.315569</td>\n",
       "      <td>0.456575</td>\n",
       "      <td>0.579489</td>\n",
       "      <td>0.466576</td>\n",
       "      <td>0.585252</td>\n",
       "      <td>0.529629</td>\n",
       "      <td>0.696882</td>\n",
       "    </tr>\n",
       "    <tr>\n",
       "      <th>OverallQual</th>\n",
       "      <td>0.471136</td>\n",
       "      <td>0.667647</td>\n",
       "      <td>1.000000</td>\n",
       "      <td>0.665203</td>\n",
       "      <td>0.552825</td>\n",
       "      <td>0.449358</td>\n",
       "      <td>0.410238</td>\n",
       "      <td>0.726278</td>\n",
       "      <td>0.568969</td>\n",
       "      <td>0.644946</td>\n",
       "      <td>...</td>\n",
       "      <td>0.552153</td>\n",
       "      <td>0.673331</td>\n",
       "      <td>0.423438</td>\n",
       "      <td>0.396765</td>\n",
       "      <td>0.420713</td>\n",
       "      <td>0.574261</td>\n",
       "      <td>0.491404</td>\n",
       "      <td>0.628715</td>\n",
       "      <td>0.562022</td>\n",
       "      <td>0.790982</td>\n",
       "    </tr>\n",
       "    <tr>\n",
       "      <th>YearBuilt</th>\n",
       "      <td>0.572252</td>\n",
       "      <td>0.683095</td>\n",
       "      <td>0.665203</td>\n",
       "      <td>1.000000</td>\n",
       "      <td>0.652419</td>\n",
       "      <td>0.420443</td>\n",
       "      <td>0.298983</td>\n",
       "      <td>0.638206</td>\n",
       "      <td>0.699337</td>\n",
       "      <td>0.707715</td>\n",
       "      <td>...</td>\n",
       "      <td>0.555510</td>\n",
       "      <td>0.575836</td>\n",
       "      <td>0.246057</td>\n",
       "      <td>0.214032</td>\n",
       "      <td>0.519992</td>\n",
       "      <td>0.768672</td>\n",
       "      <td>0.554784</td>\n",
       "      <td>0.570728</td>\n",
       "      <td>0.523139</td>\n",
       "      <td>0.619545</td>\n",
       "    </tr>\n",
       "    <tr>\n",
       "      <th>ExterQual</th>\n",
       "      <td>0.393934</td>\n",
       "      <td>0.631870</td>\n",
       "      <td>0.726278</td>\n",
       "      <td>0.638206</td>\n",
       "      <td>0.570870</td>\n",
       "      <td>0.415825</td>\n",
       "      <td>0.349637</td>\n",
       "      <td>1.000000</td>\n",
       "      <td>0.597832</td>\n",
       "      <td>0.638241</td>\n",
       "      <td>...</td>\n",
       "      <td>0.497192</td>\n",
       "      <td>0.716122</td>\n",
       "      <td>0.308004</td>\n",
       "      <td>0.249335</td>\n",
       "      <td>0.378696</td>\n",
       "      <td>0.590883</td>\n",
       "      <td>0.482143</td>\n",
       "      <td>0.557218</td>\n",
       "      <td>0.495778</td>\n",
       "      <td>0.682639</td>\n",
       "    </tr>\n",
       "    <tr>\n",
       "      <th>BsmtQual</th>\n",
       "      <td>0.423389</td>\n",
       "      <td>0.629227</td>\n",
       "      <td>0.644946</td>\n",
       "      <td>0.707715</td>\n",
       "      <td>0.545541</td>\n",
       "      <td>0.393052</td>\n",
       "      <td>0.314065</td>\n",
       "      <td>0.638241</td>\n",
       "      <td>0.621976</td>\n",
       "      <td>1.000000</td>\n",
       "      <td>...</td>\n",
       "      <td>0.523471</td>\n",
       "      <td>0.562345</td>\n",
       "      <td>0.238832</td>\n",
       "      <td>0.227714</td>\n",
       "      <td>0.424760</td>\n",
       "      <td>0.642954</td>\n",
       "      <td>0.525068</td>\n",
       "      <td>0.545306</td>\n",
       "      <td>0.458693</td>\n",
       "      <td>0.635361</td>\n",
       "    </tr>\n",
       "    <tr>\n",
       "      <th>TotalBsmtSF</th>\n",
       "      <td>0.291599</td>\n",
       "      <td>0.456092</td>\n",
       "      <td>0.537808</td>\n",
       "      <td>0.434021</td>\n",
       "      <td>0.328112</td>\n",
       "      <td>0.374961</td>\n",
       "      <td>0.362452</td>\n",
       "      <td>0.470580</td>\n",
       "      <td>0.357950</td>\n",
       "      <td>0.410438</td>\n",
       "      <td>...</td>\n",
       "      <td>0.328368</td>\n",
       "      <td>0.432630</td>\n",
       "      <td>0.265278</td>\n",
       "      <td>0.339519</td>\n",
       "      <td>0.323174</td>\n",
       "      <td>0.337550</td>\n",
       "      <td>0.335570</td>\n",
       "      <td>0.471133</td>\n",
       "      <td>0.486665</td>\n",
       "      <td>0.613581</td>\n",
       "    </tr>\n",
       "    <tr>\n",
       "      <th>1stFlrSF</th>\n",
       "      <td>0.237884</td>\n",
       "      <td>0.405290</td>\n",
       "      <td>0.476224</td>\n",
       "      <td>0.349924</td>\n",
       "      <td>0.295100</td>\n",
       "      <td>0.343786</td>\n",
       "      <td>0.342160</td>\n",
       "      <td>0.397835</td>\n",
       "      <td>0.208966</td>\n",
       "      <td>0.362984</td>\n",
       "      <td>...</td>\n",
       "      <td>0.383710</td>\n",
       "      <td>0.387027</td>\n",
       "      <td>0.392750</td>\n",
       "      <td>0.410531</td>\n",
       "      <td>0.305210</td>\n",
       "      <td>0.251468</td>\n",
       "      <td>0.296095</td>\n",
       "      <td>0.464177</td>\n",
       "      <td>0.489782</td>\n",
       "      <td>0.605852</td>\n",
       "    </tr>\n",
       "    <tr>\n",
       "      <th>GrLivArea</th>\n",
       "      <td>0.347673</td>\n",
       "      <td>0.411751</td>\n",
       "      <td>0.593007</td>\n",
       "      <td>0.369635</td>\n",
       "      <td>0.325158</td>\n",
       "      <td>0.248026</td>\n",
       "      <td>0.389893</td>\n",
       "      <td>0.435986</td>\n",
       "      <td>0.282314</td>\n",
       "      <td>0.369656</td>\n",
       "      <td>...</td>\n",
       "      <td>0.613537</td>\n",
       "      <td>0.420563</td>\n",
       "      <td>0.809778</td>\n",
       "      <td>0.461679</td>\n",
       "      <td>0.292680</td>\n",
       "      <td>0.310591</td>\n",
       "      <td>0.319453</td>\n",
       "      <td>0.490960</td>\n",
       "      <td>0.468997</td>\n",
       "      <td>0.708624</td>\n",
       "    </tr>\n",
       "    <tr>\n",
       "      <th>KitchenQual</th>\n",
       "      <td>0.391700</td>\n",
       "      <td>0.566358</td>\n",
       "      <td>0.673331</td>\n",
       "      <td>0.575836</td>\n",
       "      <td>0.611669</td>\n",
       "      <td>0.362377</td>\n",
       "      <td>0.285190</td>\n",
       "      <td>0.716122</td>\n",
       "      <td>0.533146</td>\n",
       "      <td>0.562345</td>\n",
       "      <td>...</td>\n",
       "      <td>0.439960</td>\n",
       "      <td>1.000000</td>\n",
       "      <td>0.295499</td>\n",
       "      <td>0.256409</td>\n",
       "      <td>0.339323</td>\n",
       "      <td>0.536959</td>\n",
       "      <td>0.423690</td>\n",
       "      <td>0.535777</td>\n",
       "      <td>0.489606</td>\n",
       "      <td>0.659600</td>\n",
       "    </tr>\n",
       "    <tr>\n",
       "      <th>GarageCars</th>\n",
       "      <td>0.397369</td>\n",
       "      <td>0.585252</td>\n",
       "      <td>0.628715</td>\n",
       "      <td>0.570728</td>\n",
       "      <td>0.433995</td>\n",
       "      <td>0.429343</td>\n",
       "      <td>0.404375</td>\n",
       "      <td>0.557218</td>\n",
       "      <td>0.458128</td>\n",
       "      <td>0.545306</td>\n",
       "      <td>...</td>\n",
       "      <td>0.476583</td>\n",
       "      <td>0.535777</td>\n",
       "      <td>0.399737</td>\n",
       "      <td>0.300840</td>\n",
       "      <td>0.264771</td>\n",
       "      <td>0.485292</td>\n",
       "      <td>0.365879</td>\n",
       "      <td>1.000000</td>\n",
       "      <td>0.865866</td>\n",
       "      <td>0.692360</td>\n",
       "    </tr>\n",
       "    <tr>\n",
       "      <th>GarageArea</th>\n",
       "      <td>0.387789</td>\n",
       "      <td>0.529629</td>\n",
       "      <td>0.562022</td>\n",
       "      <td>0.523139</td>\n",
       "      <td>0.390554</td>\n",
       "      <td>0.380290</td>\n",
       "      <td>0.372567</td>\n",
       "      <td>0.495778</td>\n",
       "      <td>0.398155</td>\n",
       "      <td>0.458693</td>\n",
       "      <td>...</td>\n",
       "      <td>0.416933</td>\n",
       "      <td>0.489606</td>\n",
       "      <td>0.331666</td>\n",
       "      <td>0.269141</td>\n",
       "      <td>0.209133</td>\n",
       "      <td>0.462037</td>\n",
       "      <td>0.301241</td>\n",
       "      <td>0.865866</td>\n",
       "      <td>1.000000</td>\n",
       "      <td>0.623431</td>\n",
       "    </tr>\n",
       "    <tr>\n",
       "      <th>SalePrice</th>\n",
       "      <td>0.476982</td>\n",
       "      <td>0.696882</td>\n",
       "      <td>0.790982</td>\n",
       "      <td>0.619545</td>\n",
       "      <td>0.535370</td>\n",
       "      <td>0.426997</td>\n",
       "      <td>0.475241</td>\n",
       "      <td>0.682639</td>\n",
       "      <td>0.505503</td>\n",
       "      <td>0.635361</td>\n",
       "      <td>...</td>\n",
       "      <td>0.553851</td>\n",
       "      <td>0.659600</td>\n",
       "      <td>0.537672</td>\n",
       "      <td>0.466929</td>\n",
       "      <td>0.430770</td>\n",
       "      <td>0.535419</td>\n",
       "      <td>0.496031</td>\n",
       "      <td>0.692360</td>\n",
       "      <td>0.623431</td>\n",
       "      <td>1.000000</td>\n",
       "    </tr>\n",
       "  </tbody>\n",
       "</table>\n",
       "<p>12 rows × 24 columns</p>\n",
       "</div>"
      ],
      "text/plain": [
       "              MSSubClass  Neighborhood  OverallQual  YearBuilt  YearRemodAdd  \\\n",
       "Neighborhood    0.532233      1.000000     0.667647   0.683095      0.521638   \n",
       "OverallQual     0.471136      0.667647     1.000000   0.665203      0.552825   \n",
       "YearBuilt       0.572252      0.683095     0.665203   1.000000      0.652419   \n",
       "ExterQual       0.393934      0.631870     0.726278   0.638206      0.570870   \n",
       "BsmtQual        0.423389      0.629227     0.644946   0.707715      0.545541   \n",
       "TotalBsmtSF     0.291599      0.456092     0.537808   0.434021      0.328112   \n",
       "1stFlrSF        0.237884      0.405290     0.476224   0.349924      0.295100   \n",
       "GrLivArea       0.347673      0.411751     0.593007   0.369635      0.325158   \n",
       "KitchenQual     0.391700      0.566358     0.673331   0.575836      0.611669   \n",
       "GarageCars      0.397369      0.585252     0.628715   0.570728      0.433995   \n",
       "GarageArea      0.387789      0.529629     0.562022   0.523139      0.390554   \n",
       "SalePrice       0.476982      0.696882     0.790982   0.619545      0.535370   \n",
       "\n",
       "              MasVnrType  MasVnrArea  ExterQual  Foundation  BsmtQual  \\\n",
       "Neighborhood    0.400196    0.368029   0.631870    0.576118  0.629227   \n",
       "OverallQual     0.449358    0.410238   0.726278    0.568969  0.644946   \n",
       "YearBuilt       0.420443    0.298983   0.638206    0.699337  0.707715   \n",
       "ExterQual       0.415825    0.349637   1.000000    0.597832  0.638241   \n",
       "BsmtQual        0.393052    0.314065   0.638241    0.621976  1.000000   \n",
       "TotalBsmtSF     0.374961    0.362452   0.470580    0.357950  0.410438   \n",
       "1stFlrSF        0.343786    0.342160   0.397835    0.208966  0.362984   \n",
       "GrLivArea       0.248026    0.389893   0.435986    0.282314  0.369656   \n",
       "KitchenQual     0.362377    0.285190   0.716122    0.533146  0.562345   \n",
       "GarageCars      0.429343    0.404375   0.557218    0.458128  0.545306   \n",
       "GarageArea      0.380290    0.372567   0.495778    0.398155  0.458693   \n",
       "SalePrice       0.426997    0.475241   0.682639    0.505503  0.635361   \n",
       "\n",
       "                ...      FullBath  KitchenQual  TotRmsAbvGrd  Fireplaces  \\\n",
       "Neighborhood    ...      0.513701     0.566358      0.282979    0.315569   \n",
       "OverallQual     ...      0.552153     0.673331      0.423438    0.396765   \n",
       "YearBuilt       ...      0.555510     0.575836      0.246057    0.214032   \n",
       "ExterQual       ...      0.497192     0.716122      0.308004    0.249335   \n",
       "BsmtQual        ...      0.523471     0.562345      0.238832    0.227714   \n",
       "TotalBsmtSF     ...      0.328368     0.432630      0.265278    0.339519   \n",
       "1stFlrSF        ...      0.383710     0.387027      0.392750    0.410531   \n",
       "GrLivArea       ...      0.613537     0.420563      0.809778    0.461679   \n",
       "KitchenQual     ...      0.439960     1.000000      0.295499    0.256409   \n",
       "GarageCars      ...      0.476583     0.535777      0.399737    0.300840   \n",
       "GarageArea      ...      0.416933     0.489606      0.331666    0.269141   \n",
       "SalePrice       ...      0.553851     0.659600      0.537672    0.466929   \n",
       "\n",
       "              GarageType  GarageYrBlt  GarageFinish  GarageCars  GarageArea  \\\n",
       "Neighborhood    0.456575     0.579489      0.466576    0.585252    0.529629   \n",
       "OverallQual     0.420713     0.574261      0.491404    0.628715    0.562022   \n",
       "YearBuilt       0.519992     0.768672      0.554784    0.570728    0.523139   \n",
       "ExterQual       0.378696     0.590883      0.482143    0.557218    0.495778   \n",
       "BsmtQual        0.424760     0.642954      0.525068    0.545306    0.458693   \n",
       "TotalBsmtSF     0.323174     0.337550      0.335570    0.471133    0.486665   \n",
       "1stFlrSF        0.305210     0.251468      0.296095    0.464177    0.489782   \n",
       "GrLivArea       0.292680     0.310591      0.319453    0.490960    0.468997   \n",
       "KitchenQual     0.339323     0.536959      0.423690    0.535777    0.489606   \n",
       "GarageCars      0.264771     0.485292      0.365879    1.000000    0.865866   \n",
       "GarageArea      0.209133     0.462037      0.301241    0.865866    1.000000   \n",
       "SalePrice       0.430770     0.535419      0.496031    0.692360    0.623431   \n",
       "\n",
       "              SalePrice  \n",
       "Neighborhood   0.696882  \n",
       "OverallQual    0.790982  \n",
       "YearBuilt      0.619545  \n",
       "ExterQual      0.682639  \n",
       "BsmtQual       0.635361  \n",
       "TotalBsmtSF    0.613581  \n",
       "1stFlrSF       0.605852  \n",
       "GrLivArea      0.708624  \n",
       "KitchenQual    0.659600  \n",
       "GarageCars     0.692360  \n",
       "GarageArea     0.623431  \n",
       "SalePrice      1.000000  \n",
       "\n",
       "[12 rows x 24 columns]"
      ]
     },
     "execution_count": 23,
     "metadata": {},
     "output_type": "execute_result"
    }
   ],
   "source": [
    "a = data_train.corr()\n",
    "b = a[a.SalePrice > 0.6]\n",
    "b"
   ]
  },
  {
   "cell_type": "code",
   "execution_count": 5,
   "metadata": {},
   "outputs": [
    {
     "data": {
      "text/plain": [
       "11"
      ]
     },
     "execution_count": 5,
     "metadata": {},
     "output_type": "execute_result"
    }
   ],
   "source": [
    "c = list(b.index)\n",
    "c\n",
    "c.remove('SalePrice')\n",
    "c\n",
    "d = pd.DataFrame(data_train, columns = c)\n",
    "d.head()\n",
    "e = pd.DataFrame(data_train, columns = ['SalePrice'])\n",
    "e.head()\n",
    "f = pd.concat([d, e], axis = 1)\n",
    "f.head()\n",
    "len(c)"
   ]
  },
  {
   "cell_type": "code",
   "execution_count": 24,
   "metadata": {
    "collapsed": true
   },
   "outputs": [],
   "source": [
    "from sklearn.preprocessing import StandardScaler\n",
    "sc = StandardScaler()\n",
    "X_std = sc.fit_transform(d)\n",
    "y=sc.fit_transform(e)\n"
   ]
  },
  {
   "cell_type": "code",
   "execution_count": 25,
   "metadata": {
    "collapsed": true
   },
   "outputs": [],
   "source": [
    "from sklearn.model_selection import train_test_split\n",
    "X_train, X_test, y_train, y_test = train_test_split(X_std, y, test_size = 0.3, random_state = 0)"
   ]
  },
  {
   "cell_type": "code",
   "execution_count": 26,
   "metadata": {},
   "outputs": [
    {
     "data": {
      "text/plain": [
       "LinearRegression(copy_X=True, fit_intercept=True, n_jobs=1, normalize=False)"
      ]
     },
     "execution_count": 26,
     "metadata": {},
     "output_type": "execute_result"
    }
   ],
   "source": [
    "from sklearn.linear_model import LinearRegression\n",
    "lr = LinearRegression()\n",
    "lr.fit(X_train, y_train)"
   ]
  },
  {
   "cell_type": "code",
   "execution_count": null,
   "metadata": {
    "collapsed": true
   },
   "outputs": [],
   "source": [
    "from sklearn.linear_model import "
   ]
  },
  {
   "cell_type": "code",
   "execution_count": null,
   "metadata": {
    "collapsed": true
   },
   "outputs": [],
   "source": []
  },
  {
   "cell_type": "code",
   "execution_count": 27,
   "metadata": {},
   "outputs": [
    {
     "data": {
      "text/plain": [
       "array([[ 0.1600952 ,  0.17211082, -0.01817159,  0.04553846,  0.09469509,\n",
       "         0.14770497,  0.04699898,  0.32650122,  0.10136996,  0.09072272,\n",
       "         0.02838088]])"
      ]
     },
     "execution_count": 27,
     "metadata": {},
     "output_type": "execute_result"
    }
   ],
   "source": [
    "lr.intercept_\n",
    "lr.coef_"
   ]
  },
  {
   "cell_type": "code",
   "execution_count": 28,
   "metadata": {},
   "outputs": [
    {
     "data": {
      "text/plain": [
       "0.75714582056838364"
      ]
     },
     "execution_count": 28,
     "metadata": {},
     "output_type": "execute_result"
    }
   ],
   "source": [
    "lr.score(X_train, y_train)\n",
    "lr.score(X_test, y_test)"
   ]
  },
  {
   "cell_type": "code",
   "execution_count": 29,
   "metadata": {
    "collapsed": true
   },
   "outputs": [],
   "source": [
    "def adjusted(score, n_samples, n_features):\n",
    "    adjusted = 1 - (1 - score)*((n_samples - 1)/(n_samples - n_features -1))\n",
    "    return adjusted"
   ]
  },
  {
   "cell_type": "code",
   "execution_count": 30,
   "metadata": {},
   "outputs": [
    {
     "name": "stdout",
     "output_type": "stream",
     "text": [
      "train: 0.8276\n",
      "test : 0.7509\n"
     ]
    }
   ],
   "source": [
    "print('train: %.4f' % adjusted(lr.score(X_train, y_train), len(y_train), 11 ))\n",
    "print('test : %.4f' % adjusted(lr.score(X_test, y_test), len(y_test), 11))"
   ]
  },
  {
   "cell_type": "code",
   "execution_count": 31,
   "metadata": {},
   "outputs": [
    {
     "data": {
      "text/plain": [
       "array([[  1.00000000e+00,   1.60000000e+01,   6.00000000e+00, ...,\n",
       "          1.97680023e+14,   5.41643264e+16,   1.48410254e+19],\n",
       "       [  1.00000000e+00,   2.00000000e+01,   5.00000000e+00, ...,\n",
       "          8.23851904e+13,   1.89485938e+16,   4.35817657e+18],\n",
       "       [  1.00000000e+00,   1.60000000e+01,   6.00000000e+00, ...,\n",
       "          3.32336382e+14,   1.01030260e+17,   3.07131991e+19],\n",
       "       ..., \n",
       "       [  1.00000000e+00,   1.70000000e+01,   6.00000000e+00, ...,\n",
       "          1.01625502e+12,   2.56096265e+14,   6.45362588e+16],\n",
       "       [  1.00000000e+00,   1.00000000e+01,   4.00000000e+00, ...,\n",
       "          7.96262400e+11,   1.91102976e+14,   4.58647142e+16],\n",
       "       [  1.00000000e+00,   4.00000000e+00,   4.00000000e+00, ...,\n",
       "          1.60156810e+12,   4.42032796e+14,   1.22001052e+17]])"
      ]
     },
     "execution_count": 31,
     "metadata": {},
     "output_type": "execute_result"
    }
   ],
   "source": [
    "from sklearn.preprocessing import PolynomialFeatures \n",
    "pf = PolynomialFeatures(degree = 7)\n",
    "pf_cubic = pf.fit_transform(d)\n",
    "pf_cubic"
   ]
  },
  {
   "cell_type": "code",
   "execution_count": 14,
   "metadata": {
    "collapsed": true
   },
   "outputs": [],
   "source": [
    "pf_cubic_train, pf_cubic_test, y_train, y_test = train_test_split(d, e, test_size = 0.3, random_state = 0)"
   ]
  },
  {
   "cell_type": "code",
   "execution_count": 15,
   "metadata": {},
   "outputs": [
    {
     "data": {
      "text/plain": [
       "LinearRegression(copy_X=True, fit_intercept=True, n_jobs=1, normalize=False)"
      ]
     },
     "execution_count": 15,
     "metadata": {},
     "output_type": "execute_result"
    }
   ],
   "source": [
    "from sklearn.linear_model import LinearRegression\n",
    "ld = LinearRegression()\n",
    "ld.fit(pf_cubic_train, y_train)"
   ]
  },
  {
   "cell_type": "code",
   "execution_count": 16,
   "metadata": {},
   "outputs": [
    {
     "data": {
      "text/plain": [
       "array([[  1.97923937e+03,   9.88644160e+03,  -4.66508774e+01,\n",
       "          6.29951723e+03,   1.11960583e+04,   2.67470022e+01,\n",
       "          9.65813588e+00,   4.93606902e+01,   1.21325250e+04,\n",
       "          7.34815555e+03,   1.05453572e+01]])"
      ]
     },
     "execution_count": 16,
     "metadata": {},
     "output_type": "execute_result"
    }
   ],
   "source": [
    "ld.intercept_\n",
    "ld.coef_"
   ]
  },
  {
   "cell_type": "code",
   "execution_count": 17,
   "metadata": {},
   "outputs": [
    {
     "data": {
      "text/plain": [
       "0.75714582056838842"
      ]
     },
     "execution_count": 17,
     "metadata": {},
     "output_type": "execute_result"
    }
   ],
   "source": [
    "ld.score(pf_cubic_train, y_train)\n",
    "ld.score(pf_cubic_test, y_test)"
   ]
  },
  {
   "cell_type": "code",
   "execution_count": 18,
   "metadata": {},
   "outputs": [
    {
     "data": {
      "text/plain": [
       "Lasso(alpha=1000, copy_X=True, fit_intercept=True, max_iter=1000,\n",
       "   normalize=False, positive=False, precompute=False, random_state=None,\n",
       "   selection='cyclic', tol=0.0001, warm_start=False)"
      ]
     },
     "execution_count": 18,
     "metadata": {},
     "output_type": "execute_result"
    }
   ],
   "source": [
    "from sklearn.linear_model import Lasso\n",
    "model_lasso = Lasso(alpha = 1000)\n",
    "model_lasso.fit(pf_cubic_train, y_train)"
   ]
  },
  {
   "cell_type": "code",
   "execution_count": 19,
   "metadata": {},
   "outputs": [
    {
     "data": {
      "text/plain": [
       "array([  2.16708977e+03,   1.01265081e+04,   3.16192094e+01,\n",
       "         2.43055622e+03,   8.13149276e+03,   2.86923643e+01,\n",
       "         8.53905149e+00,   5.10465465e+01,   1.02830458e+04,\n",
       "         3.45804431e+03,   2.60946435e+01])"
      ]
     },
     "execution_count": 19,
     "metadata": {},
     "output_type": "execute_result"
    }
   ],
   "source": [
    "model_lasso.intercept_\n",
    "model_lasso.coef_"
   ]
  },
  {
   "cell_type": "code",
   "execution_count": 20,
   "metadata": {},
   "outputs": [
    {
     "name": "stdout",
     "output_type": "stream",
     "text": [
      "train: 0.8274\n",
      "test : 0.7466\n"
     ]
    }
   ],
   "source": [
    "print('train: %.4f' % model_lasso.score(pf_cubic_train, y_train))\n",
    "print('test : %.4f' % model_lasso.score(pf_cubic_test, y_test))"
   ]
  },
  {
   "cell_type": "code",
   "execution_count": 21,
   "metadata": {},
   "outputs": [
    {
     "name": "stdout",
     "output_type": "stream",
     "text": [
      "train: 0.8256\n",
      "test : 0.7400\n"
     ]
    }
   ],
   "source": [
    "print('train: %.4f' % adjusted(model_lasso.score(pf_cubic_train, y_train), len(y_train), 11))\n",
    "print('test : %.4f' % adjusted(model_lasso.score(pf_cubic_test, y_test), len(y_test), 11))"
   ]
  },
  {
   "cell_type": "code",
   "execution_count": null,
   "metadata": {
    "collapsed": true
   },
   "outputs": [],
   "source": []
  },
  {
   "cell_type": "code",
   "execution_count": null,
   "metadata": {
    "collapsed": true
   },
   "outputs": [],
   "source": []
  },
  {
   "cell_type": "code",
   "execution_count": null,
   "metadata": {
    "collapsed": true
   },
   "outputs": [],
   "source": []
  }
 ],
 "metadata": {
  "kernelspec": {
   "display_name": "Python 3",
   "language": "python",
   "name": "python3"
  },
  "language_info": {
   "codemirror_mode": {
    "name": "ipython",
    "version": 3
   },
   "file_extension": ".py",
   "mimetype": "text/x-python",
   "name": "python",
   "nbconvert_exporter": "python",
   "pygments_lexer": "ipython3",
   "version": "3.6.1"
  }
 },
 "nbformat": 4,
 "nbformat_minor": 2
}
