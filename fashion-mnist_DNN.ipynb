{
 "cells": [
  {
   "cell_type": "code",
   "execution_count": 1,
   "metadata": {
    "collapsed": true
   },
   "outputs": [],
   "source": [
    "import numpy as np\n",
    "import pandas as pd\n",
    "import matplotlib.pyplot as plt\n",
    "% matplotlib inline\n",
    "import chainer\n",
    "import chainer.functions as F\n",
    "import chainer.links as L\n",
    "from chainer import computational_graph\n",
    "from chainer import serializers"
   ]
  },
  {
   "cell_type": "code",
   "execution_count": 2,
   "metadata": {
    "collapsed": true
   },
   "outputs": [],
   "source": [
    "from utils.mnist_reader import load_mnist\n"
   ]
  },
  {
   "cell_type": "code",
   "execution_count": 3,
   "metadata": {
    "collapsed": true
   },
   "outputs": [],
   "source": [
    "X_train, y_train = load_mnist('data/fashion', kind='train')\n",
    "X_test, y_test = load_mnist('data/fashion', kind='t10k')\n",
    "#X_train, y_train = load_mnist('fashion-mnist/data/fashion', kind='train')\n",
    "#X_test, y_test = load_mnist('fashion-mnist/data/fashion', kind='t10k')"
   ]
  },
  {
   "cell_type": "code",
   "execution_count": 4,
   "metadata": {},
   "outputs": [
    {
     "name": "stdout",
     "output_type": "stream",
     "text": [
      "(60000, 784)\n",
      "(60000,)\n",
      "(10000, 784)\n",
      "(10000,)\n"
     ]
    }
   ],
   "source": [
    "print(X_train.shape)\n",
    "print(y_train.shape)\n",
    "print(X_test.shape)\n",
    "print(y_test.shape)"
   ]
  },
  {
   "cell_type": "code",
   "execution_count": 5,
   "metadata": {
    "collapsed": true
   },
   "outputs": [],
   "source": [
    "X_train = X_train.astype(np.float32)\n",
    "y_train = y_train.astype(np.int32)\n",
    "X_test = X_test.astype(np.float32)\n",
    "y_test = y_test.astype(np.int32)"
   ]
  },
  {
   "cell_type": "code",
   "execution_count": 6,
   "metadata": {},
   "outputs": [
    {
     "data": {
      "text/plain": [
       "array([9, 0, 0, ..., 3, 0, 5])"
      ]
     },
     "execution_count": 6,
     "metadata": {},
     "output_type": "execute_result"
    }
   ],
   "source": [
    "X_train\n",
    "y_train"
   ]
  },
  {
   "cell_type": "code",
   "execution_count": 7,
   "metadata": {},
   "outputs": [
    {
     "data": {
      "text/plain": [
       "array([   0.,    0.,    0.,    0.,    0.,    2.,    0.,    2.,    0.,\n",
       "          0.,    0.,  177.,  168.,  170.,  166.,  166.,   42.,    0.,\n",
       "          0.,    0.,    0.,    0.,    0.,    2.,    2.,    0.,    0.,\n",
       "          0.,    0.,    0.,    0.,    0.,    0.,    0.,    2.,    0.,\n",
       "          0.,   15.,   39.,  188.,    0.,   22.,    0.,   68.,  177.,\n",
       "         77.,    0.,    0.,    0.,    4.,    4.,    2.,    0.,    0.,\n",
       "          0.,    0.,    0.,    0.,    0.,    0.,    0.,    0.,    0.,\n",
       "        106.,   64.,  221.,    0.,  150.,   75.,   66.,   31.,  126.,\n",
       "        184.,  121.,  199.,   79.,   42.,    0.,    2.,    4.,    0.,\n",
       "          0.,    0.,    0.,    0.,    0.,    0.,    0.,    0.,    0.,\n",
       "         90.,  117.,  130.,  124.,   75.,  215.,  102.,   11.,   24.,\n",
       "        159.,   68.,  146.,  117.,  146.,  124.,   13.,    0.,    6.,\n",
       "          0.,    0.,    0.,    0.,    0.,    0.,    0.,    0.,    0.,\n",
       "          0.,  121.,  172.,  115.,  104.,  102.,  164.,  128.,  141.,\n",
       "        230.,  184.,  102.,  144.,  108.,  108.,  221.,   46.,    0.,\n",
       "          2.,    0.,    0.,    0.,    0.,    0.,    0.,    0.,    0.,\n",
       "          0.,    0.,  170.,  186.,  124.,  119.,  113.,   84.,  128.,\n",
       "        139.,  155.,  106.,  150.,  119.,  115.,  119.,  177.,   59.,\n",
       "          0.,    2.,    0.,    0.,    0.,    0.,    0.,    0.,    0.,\n",
       "          0.,    0.,    0.,  172.,   75.,  161.,  121.,  115.,  110.,\n",
       "        113.,   97.,  141.,  106.,  164.,  104.,  121.,  126.,  121.,\n",
       "        153.,    0.,    2.,    0.,    0.,    0.,    0.,    0.,    0.,\n",
       "          0.,    4.,    0.,   44.,  166.,   22.,  153.,  106.,  157.,\n",
       "         93.,  110.,  121.,  175.,  102.,  150.,   68.,  110.,  137.,\n",
       "         88.,  215.,    0.,    0.,    0.,    0.,    0.,    0.,    0.,\n",
       "          0.,    0.,    2.,    0.,   88.,  177.,  144.,  133.,  128.,\n",
       "        170.,  102.,  115.,  124.,  190.,  104.,  148.,   77.,  108.,\n",
       "        153.,   22.,  155.,    0.,    0.,    0.,    0.,    0.,    0.,\n",
       "          0.,    0.,    0.,    2.,    0.,  179.,  108.,  135.,  121.,\n",
       "        108.,  159.,  119.,  146.,   79.,  139.,   75.,  137.,   88.,\n",
       "        110.,  153.,   39.,  148.,   75.,    0.,    4.,    0.,    0.,\n",
       "          0.,    0.,    0.,    0.,    0.,    0.,  190.,   35.,  161.,\n",
       "         84.,  102.,  133.,  104.,  150.,   99.,  177.,   59.,  153.,\n",
       "        108.,  159.,   62.,   51.,  146.,  137.,    0.,    2.,    0.,\n",
       "          0.,    0.,    0.,    0.,    2.,    0.,   42.,  192.,   51.,\n",
       "        159.,   79.,  141.,  130.,  133.,  150.,  108.,  206.,   66.,\n",
       "        155.,   93.,  184.,   22.,  115.,  119.,  146.,    0.,    0.,\n",
       "          0.,    0.,    0.,    0.,    0.,    2.,    0.,   90.,  119.,\n",
       "        128.,  155.,   79.,  164.,  117.,  141.,  146.,  102.,  221.,\n",
       "         59.,  155.,   99.,  195.,    6.,  148.,   88.,  144.,    4.,\n",
       "          0.,    0.,    0.,    0.,    0.,    0.,    2.,    0.,  146.,\n",
       "        130.,  157.,  130.,   86.,  184.,  113.,  128.,  153.,   82.,\n",
       "        186.,   57.,  168.,   93.,  181.,    4.,  150.,  137.,  128.,\n",
       "         77.,    0.,    2.,    0.,    0.,    0.,    0.,    0.,    0.,\n",
       "        139.,  121.,  164.,  102.,   82.,  172.,  113.,  117.,  148.,\n",
       "        106.,  206.,   42.,  161.,   86.,  175.,    0.,  128.,  177.,\n",
       "        128.,  128.,    0.,    2.,    0.,    0.,    0.,    0.,    0.,\n",
       "          8.,  133.,  146.,  104.,  108.,  108.,  164.,  110.,  117.,\n",
       "        144.,  124.,  226.,   31.,  155.,   99.,  153.,   39.,  110.,\n",
       "        150.,  128.,  155.,    0.,    0.,    0.,    0.,    0.,    0.,\n",
       "          0.,   48.,  110.,  148.,   88.,  128.,  117.,  139.,  119.,\n",
       "        115.,  146.,  119.,  223.,   53.,  181.,  124.,  130.,  113.,\n",
       "        119.,  115.,  148.,  126.,    6.,    0.,    0.,    0.,    0.,\n",
       "          0.,    0.,   68.,  117.,  146.,   70.,  141.,  104.,  146.,\n",
       "        124.,  108.,  148.,   84.,  177.,   64.,  168.,  124.,  117.,\n",
       "         95.,  135.,   95.,  159.,  108.,   53.,    0.,    0.,    0.,\n",
       "          0.,    0.,    0.,   42.,  126.,  115.,   15.,  155.,  106.,\n",
       "        144.,  126.,  113.,  137.,  106.,  255.,   84.,  157.,  121.,\n",
       "        106.,  106.,  148.,  104.,  159.,  119.,   77.,    0.,    0.,\n",
       "          0.,    0.,    0.,    0.,   26.,  201.,   62.,   59.,  146.,\n",
       "        117.,  124.,  121.,  137.,  135.,   99.,  204.,   93.,  146.,\n",
       "        113.,  102.,  106.,  148.,  115.,  133.,  146.,   53.,    0.,\n",
       "          0.,    0.,    0.,    0.,    0.,    4.,  150.,   19.,  108.,\n",
       "        119.,  130.,  121.,  115.,  146.,  126.,   97.,  241.,  104.,\n",
       "        117.,   99.,  115.,  121.,  121.,  177.,  113.,  146.,   46.,\n",
       "          0.,    0.,    0.,    0.,    0.,    0.,  126.,  188.,  157.,\n",
       "        150.,  115.,  155.,  126.,  113.,  139.,  119.,   82.,  181.,\n",
       "        115.,  108.,  108.,  126.,  139.,  110.,  186.,  201.,  166.,\n",
       "        137.,    0.,    0.,    0.,    0.,    0.,    0.,  117.,  119.,\n",
       "        135.,  141.,  108.,  150.,  126.,  113.,  135.,  106.,  108.,\n",
       "        232.,  113.,  119.,  110.,  119.,  128.,  135.,  133.,  141.,\n",
       "        106.,  161.,    0.,    0.,    0.,    0.,    0.,   11.,  144.,\n",
       "        139.,   99.,   97.,  104.,  153.,  130.,  119.,  157.,  102.,\n",
       "         79.,  177.,  104.,  121.,   97.,  139.,  133.,  128.,  113.,\n",
       "        157.,  128.,  168.,    8.,    0.,    0.,    0.,    0.,   28.,\n",
       "        130.,  137.,  130.,  135.,   59.,  119.,  126.,  126.,  168.,\n",
       "        153.,  119.,  161.,  128.,  139.,  124.,  150.,  108.,   97.,\n",
       "        170.,  157.,  115.,  148.,   37.,    0.,    0.,    0.,    0.,\n",
       "        106.,  137.,  135.,  148.,   86.,    0.,   68.,   90.,   90.,\n",
       "         88.,   84.,   79.,   39.,   66.,   70.,   77.,   59.,   73.,\n",
       "          0.,  113.,  146.,  135.,  170.,  108.,    0.,    0.,    0.,\n",
       "          0.,    0.,   70.,   93.,  170.,   28.,    0.,   77.,   97.,\n",
       "         77.,   62.,   59.,   62.,   48.,   95.,   59.,   90.,   39.,\n",
       "          0.,    0.,   55.,   97.,   53.,    2.,    0.,    0.,    0.,\n",
       "          0.,    0.,    0.,    0.,    0.,    0.,    0.,    0.,    0.,\n",
       "         19.,   35.,   31.,   26.,   64.,   44.,   46.,    0.,    0.,\n",
       "          0.,    0.,    0.,    0.,    0.,    0.,    0.,    0.,    0.,    0.], dtype=float32)"
      ]
     },
     "execution_count": 7,
     "metadata": {},
     "output_type": "execute_result"
    }
   ],
   "source": [
    "X_train[786]"
   ]
  },
  {
   "cell_type": "code",
   "execution_count": 8,
   "metadata": {
    "collapsed": true
   },
   "outputs": [],
   "source": [
    "X_train /= X_train.max()\n",
    "X_test /= X_test.max()"
   ]
  },
  {
   "cell_type": "code",
   "execution_count": 9,
   "metadata": {},
   "outputs": [
    {
     "data": {
      "text/plain": [
       "array([ 0.        ,  0.        ,  0.        ,  0.        ,  0.        ,\n",
       "        0.00784314,  0.        ,  0.00784314,  0.        ,  0.        ,\n",
       "        0.        ,  0.69411767,  0.65882355,  0.66666669,  0.65098041,\n",
       "        0.65098041,  0.16470589,  0.        ,  0.        ,  0.        ,\n",
       "        0.        ,  0.        ,  0.        ,  0.00784314,  0.00784314,\n",
       "        0.        ,  0.        ,  0.        ,  0.        ,  0.        ,\n",
       "        0.        ,  0.        ,  0.        ,  0.        ,  0.00784314,\n",
       "        0.        ,  0.        ,  0.05882353,  0.15294118,  0.73725492,\n",
       "        0.        ,  0.08627451,  0.        ,  0.26666668,  0.69411767,\n",
       "        0.3019608 ,  0.        ,  0.        ,  0.        ,  0.01568628,\n",
       "        0.01568628,  0.00784314,  0.        ,  0.        ,  0.        ,\n",
       "        0.        ,  0.        ,  0.        ,  0.        ,  0.        ,\n",
       "        0.        ,  0.        ,  0.        ,  0.41568628,  0.25098041,\n",
       "        0.86666667,  0.        ,  0.58823532,  0.29411766,  0.25882354,\n",
       "        0.12156863,  0.49411765,  0.72156864,  0.47450981,  0.78039217,\n",
       "        0.30980393,  0.16470589,  0.        ,  0.00784314,  0.01568628,\n",
       "        0.        ,  0.        ,  0.        ,  0.        ,  0.        ,\n",
       "        0.        ,  0.        ,  0.        ,  0.        ,  0.        ,\n",
       "        0.35294119,  0.45882353,  0.50980395,  0.48627451,  0.29411766,\n",
       "        0.84313726,  0.40000001,  0.04313726,  0.09411765,  0.62352943,\n",
       "        0.26666668,  0.57254905,  0.45882353,  0.57254905,  0.48627451,\n",
       "        0.05098039,  0.        ,  0.02352941,  0.        ,  0.        ,\n",
       "        0.        ,  0.        ,  0.        ,  0.        ,  0.        ,\n",
       "        0.        ,  0.        ,  0.        ,  0.47450981,  0.67450982,\n",
       "        0.4509804 ,  0.40784314,  0.40000001,  0.64313728,  0.50196081,\n",
       "        0.5529412 ,  0.90196079,  0.72156864,  0.40000001,  0.56470591,\n",
       "        0.42352942,  0.42352942,  0.86666667,  0.18039216,  0.        ,\n",
       "        0.00784314,  0.        ,  0.        ,  0.        ,  0.        ,\n",
       "        0.        ,  0.        ,  0.        ,  0.        ,  0.        ,\n",
       "        0.        ,  0.66666669,  0.72941178,  0.48627451,  0.46666667,\n",
       "        0.44313726,  0.32941177,  0.50196081,  0.54509807,  0.60784316,\n",
       "        0.41568628,  0.58823532,  0.46666667,  0.4509804 ,  0.46666667,\n",
       "        0.69411767,  0.23137255,  0.        ,  0.00784314,  0.        ,\n",
       "        0.        ,  0.        ,  0.        ,  0.        ,  0.        ,\n",
       "        0.        ,  0.        ,  0.        ,  0.        ,  0.67450982,\n",
       "        0.29411766,  0.63137257,  0.47450981,  0.4509804 ,  0.43137255,\n",
       "        0.44313726,  0.38039216,  0.5529412 ,  0.41568628,  0.64313728,\n",
       "        0.40784314,  0.47450981,  0.49411765,  0.47450981,  0.60000002,\n",
       "        0.        ,  0.00784314,  0.        ,  0.        ,  0.        ,\n",
       "        0.        ,  0.        ,  0.        ,  0.        ,  0.01568628,\n",
       "        0.        ,  0.17254902,  0.65098041,  0.08627451,  0.60000002,\n",
       "        0.41568628,  0.6156863 ,  0.36470589,  0.43137255,  0.47450981,\n",
       "        0.68627453,  0.40000001,  0.58823532,  0.26666668,  0.43137255,\n",
       "        0.53725493,  0.34509805,  0.84313726,  0.        ,  0.        ,\n",
       "        0.        ,  0.        ,  0.        ,  0.        ,  0.        ,\n",
       "        0.        ,  0.        ,  0.00784314,  0.        ,  0.34509805,\n",
       "        0.69411767,  0.56470591,  0.52156866,  0.50196081,  0.66666669,\n",
       "        0.40000001,  0.4509804 ,  0.48627451,  0.74509805,  0.40784314,\n",
       "        0.58039218,  0.3019608 ,  0.42352942,  0.60000002,  0.08627451,\n",
       "        0.60784316,  0.        ,  0.        ,  0.        ,  0.        ,\n",
       "        0.        ,  0.        ,  0.        ,  0.        ,  0.        ,\n",
       "        0.00784314,  0.        ,  0.7019608 ,  0.42352942,  0.52941179,\n",
       "        0.47450981,  0.42352942,  0.62352943,  0.46666667,  0.57254905,\n",
       "        0.30980393,  0.54509807,  0.29411766,  0.53725493,  0.34509805,\n",
       "        0.43137255,  0.60000002,  0.15294118,  0.58039218,  0.29411766,\n",
       "        0.        ,  0.01568628,  0.        ,  0.        ,  0.        ,\n",
       "        0.        ,  0.        ,  0.        ,  0.        ,  0.        ,\n",
       "        0.74509805,  0.13725491,  0.63137257,  0.32941177,  0.40000001,\n",
       "        0.52156866,  0.40784314,  0.58823532,  0.3882353 ,  0.69411767,\n",
       "        0.23137255,  0.60000002,  0.42352942,  0.62352943,  0.24313726,\n",
       "        0.2       ,  0.57254905,  0.53725493,  0.        ,  0.00784314,\n",
       "        0.        ,  0.        ,  0.        ,  0.        ,  0.        ,\n",
       "        0.00784314,  0.        ,  0.16470589,  0.75294119,  0.2       ,\n",
       "        0.62352943,  0.30980393,  0.5529412 ,  0.50980395,  0.52156866,\n",
       "        0.58823532,  0.42352942,  0.80784315,  0.25882354,  0.60784316,\n",
       "        0.36470589,  0.72156864,  0.08627451,  0.4509804 ,  0.46666667,\n",
       "        0.57254905,  0.        ,  0.        ,  0.        ,  0.        ,\n",
       "        0.        ,  0.        ,  0.        ,  0.00784314,  0.        ,\n",
       "        0.35294119,  0.46666667,  0.50196081,  0.60784316,  0.30980393,\n",
       "        0.64313728,  0.45882353,  0.5529412 ,  0.57254905,  0.40000001,\n",
       "        0.86666667,  0.23137255,  0.60784316,  0.3882353 ,  0.7647059 ,\n",
       "        0.02352941,  0.58039218,  0.34509805,  0.56470591,  0.01568628,\n",
       "        0.        ,  0.        ,  0.        ,  0.        ,  0.        ,\n",
       "        0.        ,  0.00784314,  0.        ,  0.57254905,  0.50980395,\n",
       "        0.6156863 ,  0.50980395,  0.33725491,  0.72156864,  0.44313726,\n",
       "        0.50196081,  0.60000002,  0.32156864,  0.72941178,  0.22352941,\n",
       "        0.65882355,  0.36470589,  0.70980394,  0.01568628,  0.58823532,\n",
       "        0.53725493,  0.50196081,  0.3019608 ,  0.        ,  0.00784314,\n",
       "        0.        ,  0.        ,  0.        ,  0.        ,  0.        ,\n",
       "        0.        ,  0.54509807,  0.47450981,  0.64313728,  0.40000001,\n",
       "        0.32156864,  0.67450982,  0.44313726,  0.45882353,  0.58039218,\n",
       "        0.41568628,  0.80784315,  0.16470589,  0.63137257,  0.33725491,\n",
       "        0.68627453,  0.        ,  0.50196081,  0.69411767,  0.50196081,\n",
       "        0.50196081,  0.        ,  0.00784314,  0.        ,  0.        ,\n",
       "        0.        ,  0.        ,  0.        ,  0.03137255,  0.52156866,\n",
       "        0.57254905,  0.40784314,  0.42352942,  0.42352942,  0.64313728,\n",
       "        0.43137255,  0.45882353,  0.56470591,  0.48627451,  0.88627452,\n",
       "        0.12156863,  0.60784316,  0.3882353 ,  0.60000002,  0.15294118,\n",
       "        0.43137255,  0.58823532,  0.50196081,  0.60784316,  0.        ,\n",
       "        0.        ,  0.        ,  0.        ,  0.        ,  0.        ,\n",
       "        0.        ,  0.1882353 ,  0.43137255,  0.58039218,  0.34509805,\n",
       "        0.50196081,  0.45882353,  0.54509807,  0.46666667,  0.4509804 ,\n",
       "        0.57254905,  0.46666667,  0.87450981,  0.20784314,  0.70980394,\n",
       "        0.48627451,  0.50980395,  0.44313726,  0.46666667,  0.4509804 ,\n",
       "        0.58039218,  0.49411765,  0.02352941,  0.        ,  0.        ,\n",
       "        0.        ,  0.        ,  0.        ,  0.        ,  0.26666668,\n",
       "        0.45882353,  0.57254905,  0.27450982,  0.5529412 ,  0.40784314,\n",
       "        0.57254905,  0.48627451,  0.42352942,  0.58039218,  0.32941177,\n",
       "        0.69411767,  0.25098041,  0.65882355,  0.48627451,  0.45882353,\n",
       "        0.37254903,  0.52941179,  0.37254903,  0.62352943,  0.42352942,\n",
       "        0.20784314,  0.        ,  0.        ,  0.        ,  0.        ,\n",
       "        0.        ,  0.        ,  0.16470589,  0.49411765,  0.4509804 ,\n",
       "        0.05882353,  0.60784316,  0.41568628,  0.56470591,  0.49411765,\n",
       "        0.44313726,  0.53725493,  0.41568628,  1.        ,  0.32941177,\n",
       "        0.6156863 ,  0.47450981,  0.41568628,  0.41568628,  0.58039218,\n",
       "        0.40784314,  0.62352943,  0.46666667,  0.3019608 ,  0.        ,\n",
       "        0.        ,  0.        ,  0.        ,  0.        ,  0.        ,\n",
       "        0.10196079,  0.78823531,  0.24313726,  0.23137255,  0.57254905,\n",
       "        0.45882353,  0.48627451,  0.47450981,  0.53725493,  0.52941179,\n",
       "        0.3882353 ,  0.80000001,  0.36470589,  0.57254905,  0.44313726,\n",
       "        0.40000001,  0.41568628,  0.58039218,  0.4509804 ,  0.52156866,\n",
       "        0.57254905,  0.20784314,  0.        ,  0.        ,  0.        ,\n",
       "        0.        ,  0.        ,  0.        ,  0.01568628,  0.58823532,\n",
       "        0.07450981,  0.42352942,  0.46666667,  0.50980395,  0.47450981,\n",
       "        0.4509804 ,  0.57254905,  0.49411765,  0.38039216,  0.94509804,\n",
       "        0.40784314,  0.45882353,  0.3882353 ,  0.4509804 ,  0.47450981,\n",
       "        0.47450981,  0.69411767,  0.44313726,  0.57254905,  0.18039216,\n",
       "        0.        ,  0.        ,  0.        ,  0.        ,  0.        ,\n",
       "        0.        ,  0.49411765,  0.73725492,  0.6156863 ,  0.58823532,\n",
       "        0.4509804 ,  0.60784316,  0.49411765,  0.44313726,  0.54509807,\n",
       "        0.46666667,  0.32156864,  0.70980394,  0.4509804 ,  0.42352942,\n",
       "        0.42352942,  0.49411765,  0.54509807,  0.43137255,  0.72941178,\n",
       "        0.78823531,  0.65098041,  0.53725493,  0.        ,  0.        ,\n",
       "        0.        ,  0.        ,  0.        ,  0.        ,  0.45882353,\n",
       "        0.46666667,  0.52941179,  0.5529412 ,  0.42352942,  0.58823532,\n",
       "        0.49411765,  0.44313726,  0.52941179,  0.41568628,  0.42352942,\n",
       "        0.90980393,  0.44313726,  0.46666667,  0.43137255,  0.46666667,\n",
       "        0.50196081,  0.52941179,  0.52156866,  0.5529412 ,  0.41568628,\n",
       "        0.63137257,  0.        ,  0.        ,  0.        ,  0.        ,\n",
       "        0.        ,  0.04313726,  0.56470591,  0.54509807,  0.3882353 ,\n",
       "        0.38039216,  0.40784314,  0.60000002,  0.50980395,  0.46666667,\n",
       "        0.6156863 ,  0.40000001,  0.30980393,  0.69411767,  0.40784314,\n",
       "        0.47450981,  0.38039216,  0.54509807,  0.52156866,  0.50196081,\n",
       "        0.44313726,  0.6156863 ,  0.50196081,  0.65882355,  0.03137255,\n",
       "        0.        ,  0.        ,  0.        ,  0.        ,  0.10980392,\n",
       "        0.50980395,  0.53725493,  0.50980395,  0.52941179,  0.23137255,\n",
       "        0.46666667,  0.49411765,  0.49411765,  0.65882355,  0.60000002,\n",
       "        0.46666667,  0.63137257,  0.50196081,  0.54509807,  0.48627451,\n",
       "        0.58823532,  0.42352942,  0.38039216,  0.66666669,  0.6156863 ,\n",
       "        0.4509804 ,  0.58039218,  0.14509805,  0.        ,  0.        ,\n",
       "        0.        ,  0.        ,  0.41568628,  0.53725493,  0.52941179,\n",
       "        0.58039218,  0.33725491,  0.        ,  0.26666668,  0.35294119,\n",
       "        0.35294119,  0.34509805,  0.32941177,  0.30980393,  0.15294118,\n",
       "        0.25882354,  0.27450982,  0.3019608 ,  0.23137255,  0.28627452,\n",
       "        0.        ,  0.44313726,  0.57254905,  0.52941179,  0.66666669,\n",
       "        0.42352942,  0.        ,  0.        ,  0.        ,  0.        ,\n",
       "        0.        ,  0.27450982,  0.36470589,  0.66666669,  0.10980392,\n",
       "        0.        ,  0.3019608 ,  0.38039216,  0.3019608 ,  0.24313726,\n",
       "        0.23137255,  0.24313726,  0.1882353 ,  0.37254903,  0.23137255,\n",
       "        0.35294119,  0.15294118,  0.        ,  0.        ,  0.21568628,\n",
       "        0.38039216,  0.20784314,  0.00784314,  0.        ,  0.        ,\n",
       "        0.        ,  0.        ,  0.        ,  0.        ,  0.        ,\n",
       "        0.        ,  0.        ,  0.        ,  0.        ,  0.        ,\n",
       "        0.07450981,  0.13725491,  0.12156863,  0.10196079,  0.25098041,\n",
       "        0.17254902,  0.18039216,  0.        ,  0.        ,  0.        ,\n",
       "        0.        ,  0.        ,  0.        ,  0.        ,  0.        ,\n",
       "        0.        ,  0.        ,  0.        ,  0.        ], dtype=float32)"
      ]
     },
     "execution_count": 9,
     "metadata": {},
     "output_type": "execute_result"
    }
   ],
   "source": [
    "X_train.shape\n",
    "X_train[786]"
   ]
  },
  {
   "cell_type": "code",
   "execution_count": 10,
   "metadata": {},
   "outputs": [
    {
     "data": {
      "text/plain": [
       "(60000,)"
      ]
     },
     "execution_count": 10,
     "metadata": {},
     "output_type": "execute_result"
    }
   ],
   "source": [
    "y_train.shape"
   ]
  },
  {
   "cell_type": "code",
   "execution_count": 11,
   "metadata": {
    "collapsed": true
   },
   "outputs": [],
   "source": [
    "def draw_digit(data):\n",
    "    plt.figure(figsize=(3, 3))\n",
    "    X, Y = np.meshgrid(range(28),range(28))\n",
    "    Z = data.reshape(28, 28)\n",
    "    Z = Z[::-1,:]\n",
    "    plt.pcolor(X, Y, Z)\n",
    "    plt.tick_params(labelbottom=\"off\")\n",
    "    plt.tick_params(labelleft=\"off\")\n",
    "    plt.gray()\n",
    "    plt.show()"
   ]
  },
  {
   "cell_type": "code",
   "execution_count": 12,
   "metadata": {},
   "outputs": [
    {
     "data": {
      "image/png": "[encoded data removed]",
      "text/plain": [
       "<matplotlib.figure.Figure at 0x18697b68f28>"
      ]
     },
     "metadata": {},
     "output_type": "display_data"
    }
   ],
   "source": [
    "index = 40000\n",
    "draw_digit(X_train[index])"
   ]
  },
  {
   "cell_type": "code",
   "execution_count": 13,
   "metadata": {
    "collapsed": true
   },
   "outputs": [],
   "source": [
    "y_train[index]\n",
    "def change(data):\n",
    "    a = {0 : 'T-shirt/top', 1 : 'Trouser', 2 : 'Pullover', 3 : 'Dress', 4 : 'Coat', 5 : 'Sandal', 6 : 'Shirt', 7 : 'Sneaker', 8 : 'Bag', 9 : 'Ankle boot'}\n",
    "    return a[data]"
   ]
  },
  {
   "cell_type": "code",
   "execution_count": 14,
   "metadata": {},
   "outputs": [
    {
     "data": {
      "text/plain": [
       "'Sneaker'"
      ]
     },
     "execution_count": 14,
     "metadata": {},
     "output_type": "execute_result"
    }
   ],
   "source": [
    "change(y_train[index])"
   ]
  },
  {
   "cell_type": "code",
   "execution_count": 15,
   "metadata": {},
   "outputs": [
    {
     "name": "stdout",
     "output_type": "stream",
     "text": [
      "60000\n"
     ]
    }
   ],
   "source": [
    "print(len(X_train))"
   ]
  },
  {
   "cell_type": "code",
   "execution_count": 16,
   "metadata": {
    "collapsed": true
   },
   "outputs": [],
   "source": [
    "class MLP(chainer.Chain):\n",
    "    ''' ニューラルネットの構造を定義'''\n",
    "    def __init__(self):\n",
    "        super(MLP, self).__init__()\n",
    "        with self.init_scope():\n",
    "            self.l1=L.Linear(784, 900)  # 第1層からの入力784､第2層への出力900\n",
    "            self.l2=L.Linear(900, 1000) # 第2層からの入力600､第3層への出力1000\n",
    "            self.l3=L.Linear(1000, 500) # 第3層からの入力1000､第4層への出力500\n",
    "            self.l4=L.Linear(500, 10)   # 第4層からの入力500､出力層への出力10\n",
    "        \n",
    "    \n",
    "    ''' ニューラルネットの計算規則を定義'''\n",
    "    def __call__(self, X):\n",
    "        h1 = F.relu(self.l1(X))  # 1つめの隠れ層からの出力を計算\n",
    "        h2 = F.relu(self.l2(h1)) # 2つめの隠れ層からの出力を計算\n",
    "        h3 = F.relu(self.l3(h2)) # 3つめの隠れ層からの出力を計算\n",
    "        return self.l4(h3)       # 出力層への入力を返す"
   ]
  },
  {
   "cell_type": "code",
   "execution_count": 17,
   "metadata": {
    "collapsed": true
   },
   "outputs": [],
   "source": [
    "model = L.Classifier(MLP())"
   ]
  },
  {
   "cell_type": "code",
   "execution_count": 18,
   "metadata": {
    "collapsed": true
   },
   "outputs": [],
   "source": [
    "gpu = -1"
   ]
  },
  {
   "cell_type": "code",
   "execution_count": 19,
   "metadata": {
    "collapsed": true
   },
   "outputs": [],
   "source": [
    "if gpu >= 0:\n",
    "    xp = cuda.cupy\n",
    "    cupy.cuda.Device(gpu).use()\n",
    "    model.to_gpu()\n",
    "else:\n",
    "    xp = np\n",
    "    "
   ]
  },
  {
   "cell_type": "code",
   "execution_count": 20,
   "metadata": {
    "collapsed": true
   },
   "outputs": [],
   "source": [
    "optimizer = chainer.optimizers.SGD()  # 今回はSGDを利用\n",
    "optimizer.setup(model)                # モデルを読み込ませる"
   ]
  },
  {
   "cell_type": "code",
   "execution_count": 21,
   "metadata": {
    "collapsed": true
   },
   "outputs": [],
   "source": [
    "batch_size = 100\n",
    "n_epoch = 20\n"
   ]
  },
  {
   "cell_type": "code",
   "execution_count": 22,
   "metadata": {
    "collapsed": true
   },
   "outputs": [],
   "source": [
    "from chainer.datasets import tuple_dataset\n",
    "from chainer import iterators, training\n",
    "from chainer.training import extensions"
   ]
  },
  {
   "cell_type": "code",
   "execution_count": 23,
   "metadata": {
    "collapsed": true
   },
   "outputs": [],
   "source": [
    "train = tuple_dataset.TupleDataset(X_train, y_train)\n",
    "train_iter = iterators.SerialIterator(train, batch_size=batch_size, shuffle=True)"
   ]
  },
  {
   "cell_type": "code",
   "execution_count": 24,
   "metadata": {
    "collapsed": true
   },
   "outputs": [],
   "source": [
    "updater = training.StandardUpdater(train_iter, optimizer, device=gpu)"
   ]
  },
  {
   "cell_type": "code",
   "execution_count": 25,
   "metadata": {
    "collapsed": true
   },
   "outputs": [],
   "source": [
    "trainer = training.Trainer(updater, (n_epoch,'epoch'), out='result')"
   ]
  },
  {
   "cell_type": "code",
   "execution_count": 26,
   "metadata": {
    "collapsed": true
   },
   "outputs": [],
   "source": [
    "test = tuple_dataset.TupleDataset(X_test,y_test)"
   ]
  },
  {
   "cell_type": "code",
   "execution_count": 27,
   "metadata": {
    "collapsed": true
   },
   "outputs": [],
   "source": [
    "test_iter = iterators.SerialIterator(test, batch_size=batch_size ,shuffle=False, repeat=False)"
   ]
  },
  {
   "cell_type": "code",
   "execution_count": 28,
   "metadata": {
    "collapsed": true
   },
   "outputs": [],
   "source": [
    "trainer.extend(extensions.Evaluator(test_iter, model))"
   ]
  },
  {
   "cell_type": "code",
   "execution_count": 29,
   "metadata": {
    "collapsed": true
   },
   "outputs": [],
   "source": [
    "trainer.extend(extensions.LogReport())"
   ]
  },
  {
   "cell_type": "code",
   "execution_count": 30,
   "metadata": {
    "collapsed": true
   },
   "outputs": [],
   "source": [
    "trainer.extend(extensions.PrintReport(['epoch', 'main/loss', 'main/accuracy', 'validation/main/loss','validation/main/accuracy']))"
   ]
  },
  {
   "cell_type": "code",
   "execution_count": 31,
   "metadata": {
    "collapsed": true
   },
   "outputs": [],
   "source": [
    "# trainとtestの精度のグラフを出力\n",
    "trainer.extend(extensions.PlotReport(['main/accuracy', 'validation/main/accuracy'],\n",
    "                          'epoch', file_name='accuracy.png'))\n",
    "# trainとtestの損失関数のグラフを出力\n",
    "trainer.extend(extensions.PlotReport(['main/loss', 'validation/main/loss'],\n",
    "                          'epoch', file_name='loss.png'))"
   ]
  },
  {
   "cell_type": "raw",
   "metadata": {},
   "source": []
  },
  {
   "cell_type": "code",
   "execution_count": 32,
   "metadata": {},
   "outputs": [
    {
     "name": "stdout",
     "output_type": "stream",
     "text": [
      "epoch       main/loss   main/accuracy  validation/main/loss  validation/main/accuracy\n",
      "1           1.02654     0.691733       0.674897              0.7734                    \n",
      "2           0.589843    0.800733       0.551309              0.8098                    \n",
      "3           0.512177    0.822783       0.523022              0.815                     \n",
      "4           0.475639    0.834167       0.491025              0.8286                    \n",
      "5           0.451395    0.841483       0.470736              0.8344                    \n",
      "6           0.432838    0.8487         0.454669              0.8372                    \n",
      "7           0.419193    0.8534         0.451254              0.8392                    \n",
      "8           0.404855    0.8592         0.431827              0.8488                    \n",
      "9           0.395823    0.86045        0.424217              0.8482                    \n",
      "10          0.385557    0.865667       0.410109              0.8543                    \n",
      "11          0.377252    0.8673         0.426042              0.8456                    \n",
      "12          0.369974    0.868633       0.417708              0.8517                    \n",
      "13          0.362423    0.87345        0.42412               0.8511                    \n",
      "14          0.355749    0.8743         0.399385              0.8581                    \n",
      "15          0.349066    0.8783         0.383958              0.8632                    \n",
      "16          0.344016    0.878483       0.395707              0.8569                    \n",
      "17          0.339185    0.8799         0.380936              0.8654                    \n",
      "18          0.333352    0.8816         0.38399               0.8637                    \n",
      "19          0.327646    0.883333       0.382179              0.8635                    \n",
      "20          0.322857    0.884783       0.390587              0.8568                    \n"
     ]
    }
   ],
   "source": [
    "trainer.run()"
   ]
  },
  {
   "cell_type": "raw",
   "metadata": {
    "collapsed": true
   },
   "source": []
  },
  {
   "cell_type": "code",
   "execution_count": 34,
   "metadata": {
    "collapsed": true
   },
   "outputs": [],
   "source": [
    "from pylab import box\n",
    "def show_graph(src):\n",
    "    img =  plt.imread(src)\n",
    "    xpixels,ypixels = img.shape[0],img.shape[1]\n",
    "    dpi = 100\n",
    "    margin = 0.01\n",
    "    figsize = (1 + margin) * ypixels / dpi, (1 + margin) * xpixels / dpi\n",
    "\n",
    "    fig = plt.figure(figsize=figsize, dpi=dpi)\n",
    "    ax = fig.add_axes([margin, margin, 1 - 2*margin, 1 - 2*margin])\n",
    "    ax.tick_params(labelbottom=\"off\",bottom=\"off\")\n",
    "    ax.tick_params(labelleft=\"off\",left=\"off\")\n",
    "\n",
    "    ax.imshow(img, interpolation='none')\n",
    "    box(\"off\")\n",
    "    plt.show()"
   ]
  },
  {
   "cell_type": "code",
   "execution_count": 35,
   "metadata": {},
   "outputs": [
    {
     "data": {
      "image/png": "[encoded data removed]",
      "text/plain": [
       "<matplotlib.figure.Figure at 0x186ac451f28>"
      ]
     },
     "metadata": {},
     "output_type": "display_data"
    },
    {
     "data": {
      "image/png": "[encoded data removed]",
      "text/plain": [
       "<matplotlib.figure.Figure at 0x186ac392f28>"
      ]
     },
     "metadata": {},
     "output_type": "display_data"
    }
   ],
   "source": [
    "show_graph('result/loss.png')\n",
    "show_graph('result/accuracy.png')\n",
    "#少し過学習気味"
   ]
  },
  {
   "cell_type": "code",
   "execution_count": 36,
   "metadata": {
    "collapsed": true
   },
   "outputs": [],
   "source": [
    "def predict(model, X):\n",
    "    # データ数が1の場合は、バッチサイズ分の次元を追加\n",
    "    if len(X.shape) == 1:  \n",
    "        pred = model.predictor(X[None, ...]).data.argmax()\n",
    "    # データ数が2以上の場合はそのまま\n",
    "    else:  \n",
    "        pred = model.predictor(X).data.argmax(axis=1)\n",
    "    return pred"
   ]
  },
  {
   "cell_type": "code",
   "execution_count": 37,
   "metadata": {},
   "outputs": [
    {
     "data": {
      "image/png": "[encoded data removed]",
      "text/plain": [
       "<matplotlib.figure.Figure at 0x186acb23358>"
      ]
     },
     "metadata": {},
     "output_type": "display_data"
    }
   ],
   "source": [
    "index = 123\n",
    "draw_digit(X_test[index])"
   ]
  },
  {
   "cell_type": "code",
   "execution_count": 38,
   "metadata": {},
   "outputs": [
    {
     "name": "stdout",
     "output_type": "stream",
     "text": [
      "predict:  9\n",
      "answer :  9\n",
      "正解です｡\n"
     ]
    }
   ],
   "source": [
    "pred = predict(model, X_test[index])\n",
    "ans  = y_test[index]\n",
    "\n",
    "print('predict: ', pred)\n",
    "print('answer : ', ans)\n",
    "\n",
    "if pred == ans:\n",
    "    print('正解です｡')\n",
    "else:\n",
    "    print('不正解です')\n"
   ]
  },
  {
   "cell_type": "code",
   "execution_count": 39,
   "metadata": {},
   "outputs": [
    {
     "data": {
      "text/plain": [
       "array([[678,   2,   9,  10,   0,   0,  68,   0,   1,   0],\n",
       "       [  0, 962,   1,  10,   1,   0,   1,   0,   1,   0],\n",
       "       [  8,   0, 749,   8, 100,   0,  63,   0,   3,   0],\n",
       "       [ 60,  28,  19, 906,  43,   1,  41,   0,  10,   0],\n",
       "       [  2,   2,  78,  25, 703,   0,  39,   0,   2,   0],\n",
       "       [  1,   0,   0,   0,   1, 932,   0,  16,   3,   5],\n",
       "       [239,   5, 140,  36, 144,   0, 775,   0,  17,   1],\n",
       "       [  1,   0,   0,   0,   0,  49,   0, 961,   7,  48],\n",
       "       [ 11,   1,   4,   5,   8,   1,  13,   0, 956,   0],\n",
       "       [  0,   0,   0,   0,   0,  17,   0,  23,   0, 946]])"
      ]
     },
     "execution_count": 39,
     "metadata": {},
     "output_type": "execute_result"
    }
   ],
   "source": [
    "from sklearn.metrics import confusion_matrix as cm\n",
    "result = predict(model, X_test)\n",
    "cm(result, y_test)"
   ]
  },
  {
   "cell_type": "code",
   "execution_count": 40,
   "metadata": {
    "collapsed": true
   },
   "outputs": [],
   "source": [
    "def plot_cm(y_true, y_pred):\n",
    "    confmat = cm(y_true, y_pred)\n",
    "    fig, ax = plt.subplots(figsize=(10, 10))\n",
    "    ax.matshow(confmat, cmap=plt.cm.Blues, alpha=0.3)\n",
    "    for i in range(confmat.shape[0]):\n",
    "        for j in range(confmat.shape[1]):\n",
    "            ax.text(x=j, y=i, s=confmat[i, j], va='center', ha='center')\n",
    "    plt.xticks(xp.arange(0, 10, 1)) # x軸の目盛りを指定\n",
    "    plt.yticks(xp.arange(0, 10, 1)) # y軸の目盛りを指定\n",
    "    plt.xlabel('predicted label')\n",
    "    plt.ylabel('true label')\n",
    "    plt.show()"
   ]
  },
  {
   "cell_type": "code",
   "execution_count": 41,
   "metadata": {},
   "outputs": [
    {
     "data": {
      "image/png": "[encoded data removed]",
      "text/plain": [
       "<matplotlib.figure.Figure at 0x186ab97fcc0>"
      ]
     },
     "metadata": {},
     "output_type": "display_data"
    }
   ],
   "source": [
    "plot_cm(result, y_test)"
   ]
  },
  {
   "cell_type": "code",
   "execution_count": 42,
   "metadata": {},
   "outputs": [
    {
     "name": "stdout",
     "output_type": "stream",
     "text": [
      "accuracy: 0.857\n",
      "recall: 0.857\n",
      "precision: 0.868\n",
      "f1_score: 0.858\n"
     ]
    }
   ],
   "source": [
    "from sklearn import metrics\n",
    "print('accuracy: %.3f' % metrics.accuracy_score(y_test, predict(model, X_test)))\n",
    "print('recall: %.3f' % metrics.recall_score(y_test, predict(model, X_test), average='macro'))\n",
    "print('precision: %.3f' % metrics.precision_score(y_test, predict(model, X_test), average='macro'))\n",
    "print('f1_score: %.3f' % metrics.f1_score(y_test, predict(model, X_test), average='macro'))"
   ]
  },
  {
   "cell_type": "code",
   "execution_count": 43,
   "metadata": {},
   "outputs": [
    {
     "name": "stdout",
     "output_type": "stream",
     "text": [
      "Saved the model.\n"
     ]
    }
   ],
   "source": [
    "serializers.save_npz('fashion-mnist.model', model)\n",
    "print('Saved the model.')"
   ]
  },
  {
   "cell_type": "code",
   "execution_count": 55,
   "metadata": {},
   "outputs": [
    {
     "name": "stdout",
     "output_type": "stream",
     "text": [
      "Loaded the model.\n"
     ]
    }
   ],
   "source": [
    "serializers.load_npz('fashion-mnist.model', model)\n",
    "print('Loaded the model.' )"
   ]
  },
  {
   "cell_type": "code",
   "execution_count": 56,
   "metadata": {},
   "outputs": [
    {
     "data": {
      "text/plain": [
       "<chainer.links.model.classifier.Classifier at 0x1869c9ee908>"
      ]
     },
     "execution_count": 56,
     "metadata": {},
     "output_type": "execute_result"
    }
   ],
   "source": [
    "model"
   ]
  },
  {
   "cell_type": "code",
   "execution_count": null,
   "metadata": {
    "collapsed": true
   },
   "outputs": [],
   "source": []
  }
 ],
 "metadata": {
  "kernelspec": {
   "display_name": "Python 3",
   "language": "python",
   "name": "python3"
  },
  "language_info": {
   "codemirror_mode": {
    "name": "ipython",
    "version": 3
   },
   "file_extension": ".py",
   "mimetype": "text/x-python",
   "name": "python",
   "nbconvert_exporter": "python",
   "pygments_lexer": "ipython3",
   "version": "3.6.1"
  }
 },
 "nbformat": 4,
 "nbformat_minor": 2
}
