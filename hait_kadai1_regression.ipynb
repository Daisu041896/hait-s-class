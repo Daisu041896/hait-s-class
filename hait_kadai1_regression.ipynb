{
 "cells": [
  {
   "cell_type": "code",
   "execution_count": 7,
   "metadata": {
    "collapsed": true
   },
   "outputs": [],
   "source": [
    "import os\n",
    "import numpy as np\n",
    "import pandas as pd\n",
    "import matplotlib.pyplot as plt\n",
    "% matplotlib inline "
   ]
  },
  {
   "cell_type": "code",
   "execution_count": 9,
   "metadata": {},
   "outputs": [
    {
     "data": {
      "text/html": [
       "<div>\n",
       "<style>\n",
       "    .dataframe thead tr:only-child th {\n",
       "        text-align: right;\n",
       "    }\n",
       "\n",
       "    .dataframe thead th {\n",
       "        text-align: left;\n",
       "    }\n",
       "\n",
       "    .dataframe tbody tr th {\n",
       "        vertical-align: top;\n",
       "    }\n",
       "</style>\n",
       "<table border=\"1\" class=\"dataframe\">\n",
       "  <thead>\n",
       "    <tr style=\"text-align: right;\">\n",
       "      <th></th>\n",
       "      <th>1stFlrSF</th>\n",
       "      <th>2ndFlrSF</th>\n",
       "      <th>3SsnPorch</th>\n",
       "      <th>BedroomAbvGr</th>\n",
       "      <th>BsmtFinSF1</th>\n",
       "      <th>BsmtFinSF2</th>\n",
       "      <th>BsmtFullBath</th>\n",
       "      <th>BsmtHalfBath</th>\n",
       "      <th>BsmtUnfSF</th>\n",
       "      <th>EnclosedPorch</th>\n",
       "      <th>...</th>\n",
       "      <th>SaleType_ConLI</th>\n",
       "      <th>SaleType_ConLw</th>\n",
       "      <th>SaleType_New</th>\n",
       "      <th>SaleType_Oth</th>\n",
       "      <th>SaleType_WD</th>\n",
       "      <th>Street_Grvl</th>\n",
       "      <th>Street_Pave</th>\n",
       "      <th>Utilities_AllPub</th>\n",
       "      <th>Utilities_NoSeWa</th>\n",
       "      <th>SalePrice</th>\n",
       "    </tr>\n",
       "  </thead>\n",
       "  <tbody>\n",
       "    <tr>\n",
       "      <th>0</th>\n",
       "      <td>856.0</td>\n",
       "      <td>854.0</td>\n",
       "      <td>0.0</td>\n",
       "      <td>3.0</td>\n",
       "      <td>706.0</td>\n",
       "      <td>0.0</td>\n",
       "      <td>1.0</td>\n",
       "      <td>0.0</td>\n",
       "      <td>150.0</td>\n",
       "      <td>0.0</td>\n",
       "      <td>...</td>\n",
       "      <td>0.0</td>\n",
       "      <td>0.0</td>\n",
       "      <td>0.0</td>\n",
       "      <td>0.0</td>\n",
       "      <td>1.0</td>\n",
       "      <td>0.0</td>\n",
       "      <td>1.0</td>\n",
       "      <td>1.0</td>\n",
       "      <td>0.0</td>\n",
       "      <td>208500</td>\n",
       "    </tr>\n",
       "    <tr>\n",
       "      <th>1</th>\n",
       "      <td>1262.0</td>\n",
       "      <td>0.0</td>\n",
       "      <td>0.0</td>\n",
       "      <td>3.0</td>\n",
       "      <td>978.0</td>\n",
       "      <td>0.0</td>\n",
       "      <td>0.0</td>\n",
       "      <td>1.0</td>\n",
       "      <td>284.0</td>\n",
       "      <td>0.0</td>\n",
       "      <td>...</td>\n",
       "      <td>0.0</td>\n",
       "      <td>0.0</td>\n",
       "      <td>0.0</td>\n",
       "      <td>0.0</td>\n",
       "      <td>1.0</td>\n",
       "      <td>0.0</td>\n",
       "      <td>1.0</td>\n",
       "      <td>1.0</td>\n",
       "      <td>0.0</td>\n",
       "      <td>181500</td>\n",
       "    </tr>\n",
       "    <tr>\n",
       "      <th>2</th>\n",
       "      <td>920.0</td>\n",
       "      <td>866.0</td>\n",
       "      <td>0.0</td>\n",
       "      <td>3.0</td>\n",
       "      <td>486.0</td>\n",
       "      <td>0.0</td>\n",
       "      <td>1.0</td>\n",
       "      <td>0.0</td>\n",
       "      <td>434.0</td>\n",
       "      <td>0.0</td>\n",
       "      <td>...</td>\n",
       "      <td>0.0</td>\n",
       "      <td>0.0</td>\n",
       "      <td>0.0</td>\n",
       "      <td>0.0</td>\n",
       "      <td>1.0</td>\n",
       "      <td>0.0</td>\n",
       "      <td>1.0</td>\n",
       "      <td>1.0</td>\n",
       "      <td>0.0</td>\n",
       "      <td>223500</td>\n",
       "    </tr>\n",
       "    <tr>\n",
       "      <th>3</th>\n",
       "      <td>961.0</td>\n",
       "      <td>756.0</td>\n",
       "      <td>0.0</td>\n",
       "      <td>3.0</td>\n",
       "      <td>216.0</td>\n",
       "      <td>0.0</td>\n",
       "      <td>1.0</td>\n",
       "      <td>0.0</td>\n",
       "      <td>540.0</td>\n",
       "      <td>272.0</td>\n",
       "      <td>...</td>\n",
       "      <td>0.0</td>\n",
       "      <td>0.0</td>\n",
       "      <td>0.0</td>\n",
       "      <td>0.0</td>\n",
       "      <td>1.0</td>\n",
       "      <td>0.0</td>\n",
       "      <td>1.0</td>\n",
       "      <td>1.0</td>\n",
       "      <td>0.0</td>\n",
       "      <td>140000</td>\n",
       "    </tr>\n",
       "    <tr>\n",
       "      <th>4</th>\n",
       "      <td>1145.0</td>\n",
       "      <td>1053.0</td>\n",
       "      <td>0.0</td>\n",
       "      <td>4.0</td>\n",
       "      <td>655.0</td>\n",
       "      <td>0.0</td>\n",
       "      <td>1.0</td>\n",
       "      <td>0.0</td>\n",
       "      <td>490.0</td>\n",
       "      <td>0.0</td>\n",
       "      <td>...</td>\n",
       "      <td>0.0</td>\n",
       "      <td>0.0</td>\n",
       "      <td>0.0</td>\n",
       "      <td>0.0</td>\n",
       "      <td>1.0</td>\n",
       "      <td>0.0</td>\n",
       "      <td>1.0</td>\n",
       "      <td>1.0</td>\n",
       "      <td>0.0</td>\n",
       "      <td>250000</td>\n",
       "    </tr>\n",
       "  </tbody>\n",
       "</table>\n",
       "<p>5 rows × 271 columns</p>\n",
       "</div>"
      ],
      "text/plain": [
       "   1stFlrSF  2ndFlrSF  3SsnPorch  BedroomAbvGr  BsmtFinSF1  BsmtFinSF2  \\\n",
       "0     856.0     854.0        0.0           3.0       706.0         0.0   \n",
       "1    1262.0       0.0        0.0           3.0       978.0         0.0   \n",
       "2     920.0     866.0        0.0           3.0       486.0         0.0   \n",
       "3     961.0     756.0        0.0           3.0       216.0         0.0   \n",
       "4    1145.0    1053.0        0.0           4.0       655.0         0.0   \n",
       "\n",
       "   BsmtFullBath  BsmtHalfBath  BsmtUnfSF  EnclosedPorch    ...      \\\n",
       "0           1.0           0.0      150.0            0.0    ...       \n",
       "1           0.0           1.0      284.0            0.0    ...       \n",
       "2           1.0           0.0      434.0            0.0    ...       \n",
       "3           1.0           0.0      540.0          272.0    ...       \n",
       "4           1.0           0.0      490.0            0.0    ...       \n",
       "\n",
       "   SaleType_ConLI  SaleType_ConLw  SaleType_New  SaleType_Oth  SaleType_WD  \\\n",
       "0             0.0             0.0           0.0           0.0          1.0   \n",
       "1             0.0             0.0           0.0           0.0          1.0   \n",
       "2             0.0             0.0           0.0           0.0          1.0   \n",
       "3             0.0             0.0           0.0           0.0          1.0   \n",
       "4             0.0             0.0           0.0           0.0          1.0   \n",
       "\n",
       "   Street_Grvl  Street_Pave  Utilities_AllPub  Utilities_NoSeWa  SalePrice  \n",
       "0          0.0          1.0               1.0               0.0     208500  \n",
       "1          0.0          1.0               1.0               0.0     181500  \n",
       "2          0.0          1.0               1.0               0.0     223500  \n",
       "3          0.0          1.0               1.0               0.0     140000  \n",
       "4          0.0          1.0               1.0               0.0     250000  \n",
       "\n",
       "[5 rows x 271 columns]"
      ]
     },
     "execution_count": 9,
     "metadata": {},
     "output_type": "execute_result"
    }
   ],
   "source": [
    "#csvからデータを読み込む\n",
    "data_train = pd.read_csv('House Price train.csv')\n",
    "data_test = pd.read_csv('House Price test.csv')\n",
    "data_train.head()\n"
   ]
  },
  {
   "cell_type": "code",
   "execution_count": 10,
   "metadata": {
    "scrolled": true
   },
   "outputs": [
    {
     "data": {
      "text/html": [
       "<div>\n",
       "<style>\n",
       "    .dataframe thead tr:only-child th {\n",
       "        text-align: right;\n",
       "    }\n",
       "\n",
       "    .dataframe thead th {\n",
       "        text-align: left;\n",
       "    }\n",
       "\n",
       "    .dataframe tbody tr th {\n",
       "        vertical-align: top;\n",
       "    }\n",
       "</style>\n",
       "<table border=\"1\" class=\"dataframe\">\n",
       "  <thead>\n",
       "    <tr style=\"text-align: right;\">\n",
       "      <th></th>\n",
       "      <th>1stFlrSF</th>\n",
       "      <th>2ndFlrSF</th>\n",
       "      <th>3SsnPorch</th>\n",
       "      <th>BedroomAbvGr</th>\n",
       "      <th>BsmtFinSF1</th>\n",
       "      <th>BsmtFinSF2</th>\n",
       "      <th>BsmtFullBath</th>\n",
       "      <th>BsmtHalfBath</th>\n",
       "      <th>BsmtUnfSF</th>\n",
       "      <th>EnclosedPorch</th>\n",
       "      <th>...</th>\n",
       "      <th>SaleType_ConLI</th>\n",
       "      <th>SaleType_ConLw</th>\n",
       "      <th>SaleType_New</th>\n",
       "      <th>SaleType_Oth</th>\n",
       "      <th>SaleType_WD</th>\n",
       "      <th>Street_Grvl</th>\n",
       "      <th>Street_Pave</th>\n",
       "      <th>Utilities_AllPub</th>\n",
       "      <th>Utilities_NoSeWa</th>\n",
       "      <th>SalePrice</th>\n",
       "    </tr>\n",
       "  </thead>\n",
       "  <tbody>\n",
       "    <tr>\n",
       "      <th>Street_Grvl</th>\n",
       "      <td>-0.005950</td>\n",
       "      <td>-0.046983</td>\n",
       "      <td>-0.007473</td>\n",
       "      <td>-0.028865</td>\n",
       "      <td>0.015643</td>\n",
       "      <td>0.038487</td>\n",
       "      <td>0.050524</td>\n",
       "      <td>-0.015485</td>\n",
       "      <td>-0.035229</td>\n",
       "      <td>-0.023082</td>\n",
       "      <td>...</td>\n",
       "      <td>-0.003766</td>\n",
       "      <td>-0.003766</td>\n",
       "      <td>-0.019397</td>\n",
       "      <td>-0.002915</td>\n",
       "      <td>-0.006539</td>\n",
       "      <td>1.000000</td>\n",
       "      <td>-1.000000</td>\n",
       "      <td>0.001682</td>\n",
       "      <td>-0.001682</td>\n",
       "      <td>-0.041036</td>\n",
       "    </tr>\n",
       "    <tr>\n",
       "      <th>Street_Pave</th>\n",
       "      <td>0.005950</td>\n",
       "      <td>0.046983</td>\n",
       "      <td>0.007473</td>\n",
       "      <td>0.028865</td>\n",
       "      <td>-0.015643</td>\n",
       "      <td>-0.038487</td>\n",
       "      <td>-0.050524</td>\n",
       "      <td>0.015485</td>\n",
       "      <td>0.035229</td>\n",
       "      <td>0.023082</td>\n",
       "      <td>...</td>\n",
       "      <td>0.003766</td>\n",
       "      <td>0.003766</td>\n",
       "      <td>0.019397</td>\n",
       "      <td>0.002915</td>\n",
       "      <td>0.006539</td>\n",
       "      <td>-1.000000</td>\n",
       "      <td>1.000000</td>\n",
       "      <td>-0.001682</td>\n",
       "      <td>0.001682</td>\n",
       "      <td>0.041036</td>\n",
       "    </tr>\n",
       "    <tr>\n",
       "      <th>Utilities_AllPub</th>\n",
       "      <td>-0.012287</td>\n",
       "      <td>0.020818</td>\n",
       "      <td>0.003046</td>\n",
       "      <td>-0.004288</td>\n",
       "      <td>0.019100</td>\n",
       "      <td>-0.049913</td>\n",
       "      <td>0.021467</td>\n",
       "      <td>-0.103380</td>\n",
       "      <td>0.012639</td>\n",
       "      <td>0.009407</td>\n",
       "      <td>...</td>\n",
       "      <td>0.001535</td>\n",
       "      <td>0.001535</td>\n",
       "      <td>0.007905</td>\n",
       "      <td>0.001188</td>\n",
       "      <td>0.067078</td>\n",
       "      <td>0.001682</td>\n",
       "      <td>-0.001682</td>\n",
       "      <td>1.000000</td>\n",
       "      <td>-1.000000</td>\n",
       "      <td>0.014314</td>\n",
       "    </tr>\n",
       "    <tr>\n",
       "      <th>Utilities_NoSeWa</th>\n",
       "      <td>0.012287</td>\n",
       "      <td>-0.020818</td>\n",
       "      <td>-0.003046</td>\n",
       "      <td>0.004288</td>\n",
       "      <td>-0.019100</td>\n",
       "      <td>0.049913</td>\n",
       "      <td>-0.021467</td>\n",
       "      <td>0.103380</td>\n",
       "      <td>-0.012639</td>\n",
       "      <td>-0.009407</td>\n",
       "      <td>...</td>\n",
       "      <td>-0.001535</td>\n",
       "      <td>-0.001535</td>\n",
       "      <td>-0.007905</td>\n",
       "      <td>-0.001188</td>\n",
       "      <td>-0.067078</td>\n",
       "      <td>-0.001682</td>\n",
       "      <td>0.001682</td>\n",
       "      <td>-1.000000</td>\n",
       "      <td>1.000000</td>\n",
       "      <td>-0.014314</td>\n",
       "    </tr>\n",
       "    <tr>\n",
       "      <th>SalePrice</th>\n",
       "      <td>0.605852</td>\n",
       "      <td>0.319334</td>\n",
       "      <td>0.044584</td>\n",
       "      <td>0.168213</td>\n",
       "      <td>0.386420</td>\n",
       "      <td>-0.011378</td>\n",
       "      <td>0.227122</td>\n",
       "      <td>-0.016844</td>\n",
       "      <td>0.214479</td>\n",
       "      <td>-0.128578</td>\n",
       "      <td>...</td>\n",
       "      <td>0.014371</td>\n",
       "      <td>-0.027475</td>\n",
       "      <td>0.357509</td>\n",
       "      <td>-0.034895</td>\n",
       "      <td>-0.242598</td>\n",
       "      <td>-0.041036</td>\n",
       "      <td>0.041036</td>\n",
       "      <td>0.014314</td>\n",
       "      <td>-0.014314</td>\n",
       "      <td>1.000000</td>\n",
       "    </tr>\n",
       "  </tbody>\n",
       "</table>\n",
       "<p>5 rows × 271 columns</p>\n",
       "</div>"
      ],
      "text/plain": [
       "                  1stFlrSF  2ndFlrSF  3SsnPorch  BedroomAbvGr  BsmtFinSF1  \\\n",
       "Street_Grvl      -0.005950 -0.046983  -0.007473     -0.028865    0.015643   \n",
       "Street_Pave       0.005950  0.046983   0.007473      0.028865   -0.015643   \n",
       "Utilities_AllPub -0.012287  0.020818   0.003046     -0.004288    0.019100   \n",
       "Utilities_NoSeWa  0.012287 -0.020818  -0.003046      0.004288   -0.019100   \n",
       "SalePrice         0.605852  0.319334   0.044584      0.168213    0.386420   \n",
       "\n",
       "                  BsmtFinSF2  BsmtFullBath  BsmtHalfBath  BsmtUnfSF  \\\n",
       "Street_Grvl         0.038487      0.050524     -0.015485  -0.035229   \n",
       "Street_Pave        -0.038487     -0.050524      0.015485   0.035229   \n",
       "Utilities_AllPub   -0.049913      0.021467     -0.103380   0.012639   \n",
       "Utilities_NoSeWa    0.049913     -0.021467      0.103380  -0.012639   \n",
       "SalePrice          -0.011378      0.227122     -0.016844   0.214479   \n",
       "\n",
       "                  EnclosedPorch    ...      SaleType_ConLI  SaleType_ConLw  \\\n",
       "Street_Grvl           -0.023082    ...           -0.003766       -0.003766   \n",
       "Street_Pave            0.023082    ...            0.003766        0.003766   \n",
       "Utilities_AllPub       0.009407    ...            0.001535        0.001535   \n",
       "Utilities_NoSeWa      -0.009407    ...           -0.001535       -0.001535   \n",
       "SalePrice             -0.128578    ...            0.014371       -0.027475   \n",
       "\n",
       "                  SaleType_New  SaleType_Oth  SaleType_WD  Street_Grvl  \\\n",
       "Street_Grvl          -0.019397     -0.002915    -0.006539     1.000000   \n",
       "Street_Pave           0.019397      0.002915     0.006539    -1.000000   \n",
       "Utilities_AllPub      0.007905      0.001188     0.067078     0.001682   \n",
       "Utilities_NoSeWa     -0.007905     -0.001188    -0.067078    -0.001682   \n",
       "SalePrice             0.357509     -0.034895    -0.242598    -0.041036   \n",
       "\n",
       "                  Street_Pave  Utilities_AllPub  Utilities_NoSeWa  SalePrice  \n",
       "Street_Grvl         -1.000000          0.001682         -0.001682  -0.041036  \n",
       "Street_Pave          1.000000         -0.001682          0.001682   0.041036  \n",
       "Utilities_AllPub    -0.001682          1.000000         -1.000000   0.014314  \n",
       "Utilities_NoSeWa     0.001682         -1.000000          1.000000  -0.014314  \n",
       "SalePrice            0.041036          0.014314         -0.014314   1.000000  \n",
       "\n",
       "[5 rows x 271 columns]"
      ]
     },
     "execution_count": 10,
     "metadata": {},
     "output_type": "execute_result"
    }
   ],
   "source": [
    "#相関関数を表示\n",
    "a = data_train.corr()\n",
    "data_train.corr().tail()"
   ]
  },
  {
   "cell_type": "code",
   "execution_count": 12,
   "metadata": {},
   "outputs": [
    {
     "data": {
      "text/html": [
       "<div>\n",
       "<style>\n",
       "    .dataframe thead tr:only-child th {\n",
       "        text-align: right;\n",
       "    }\n",
       "\n",
       "    .dataframe thead th {\n",
       "        text-align: left;\n",
       "    }\n",
       "\n",
       "    .dataframe tbody tr th {\n",
       "        vertical-align: top;\n",
       "    }\n",
       "</style>\n",
       "<table border=\"1\" class=\"dataframe\">\n",
       "  <thead>\n",
       "    <tr style=\"text-align: right;\">\n",
       "      <th></th>\n",
       "      <th>1stFlrSF</th>\n",
       "      <th>2ndFlrSF</th>\n",
       "      <th>3SsnPorch</th>\n",
       "      <th>BedroomAbvGr</th>\n",
       "      <th>BsmtFinSF1</th>\n",
       "      <th>BsmtFinSF2</th>\n",
       "      <th>BsmtFullBath</th>\n",
       "      <th>BsmtHalfBath</th>\n",
       "      <th>BsmtUnfSF</th>\n",
       "      <th>EnclosedPorch</th>\n",
       "      <th>...</th>\n",
       "      <th>SaleType_ConLI</th>\n",
       "      <th>SaleType_ConLw</th>\n",
       "      <th>SaleType_New</th>\n",
       "      <th>SaleType_Oth</th>\n",
       "      <th>SaleType_WD</th>\n",
       "      <th>Street_Grvl</th>\n",
       "      <th>Street_Pave</th>\n",
       "      <th>Utilities_AllPub</th>\n",
       "      <th>Utilities_NoSeWa</th>\n",
       "      <th>SalePrice</th>\n",
       "    </tr>\n",
       "  </thead>\n",
       "  <tbody>\n",
       "    <tr>\n",
       "      <th>GrLivArea</th>\n",
       "      <td>0.566024</td>\n",
       "      <td>0.687501</td>\n",
       "      <td>0.020643</td>\n",
       "      <td>0.521270</td>\n",
       "      <td>0.208171</td>\n",
       "      <td>-0.009640</td>\n",
       "      <td>0.034836</td>\n",
       "      <td>-0.018918</td>\n",
       "      <td>0.240257</td>\n",
       "      <td>0.009113</td>\n",
       "      <td>...</td>\n",
       "      <td>0.017268</td>\n",
       "      <td>-0.022348</td>\n",
       "      <td>0.168368</td>\n",
       "      <td>-0.036522</td>\n",
       "      <td>-0.121102</td>\n",
       "      <td>-0.044121</td>\n",
       "      <td>0.044121</td>\n",
       "      <td>0.008545</td>\n",
       "      <td>-0.008545</td>\n",
       "      <td>0.708624</td>\n",
       "    </tr>\n",
       "    <tr>\n",
       "      <th>OverallQual</th>\n",
       "      <td>0.476224</td>\n",
       "      <td>0.295493</td>\n",
       "      <td>0.030371</td>\n",
       "      <td>0.101676</td>\n",
       "      <td>0.239666</td>\n",
       "      <td>-0.059119</td>\n",
       "      <td>0.111098</td>\n",
       "      <td>-0.040150</td>\n",
       "      <td>0.308159</td>\n",
       "      <td>-0.113937</td>\n",
       "      <td>...</td>\n",
       "      <td>0.004269</td>\n",
       "      <td>-0.021172</td>\n",
       "      <td>0.327412</td>\n",
       "      <td>-0.057962</td>\n",
       "      <td>-0.225013</td>\n",
       "      <td>-0.058823</td>\n",
       "      <td>0.058823</td>\n",
       "      <td>0.001881</td>\n",
       "      <td>-0.001881</td>\n",
       "      <td>0.790982</td>\n",
       "    </tr>\n",
       "    <tr>\n",
       "      <th>SalePrice</th>\n",
       "      <td>0.605852</td>\n",
       "      <td>0.319334</td>\n",
       "      <td>0.044584</td>\n",
       "      <td>0.168213</td>\n",
       "      <td>0.386420</td>\n",
       "      <td>-0.011378</td>\n",
       "      <td>0.227122</td>\n",
       "      <td>-0.016844</td>\n",
       "      <td>0.214479</td>\n",
       "      <td>-0.128578</td>\n",
       "      <td>...</td>\n",
       "      <td>0.014371</td>\n",
       "      <td>-0.027475</td>\n",
       "      <td>0.357509</td>\n",
       "      <td>-0.034895</td>\n",
       "      <td>-0.242598</td>\n",
       "      <td>-0.041036</td>\n",
       "      <td>0.041036</td>\n",
       "      <td>0.014314</td>\n",
       "      <td>-0.014314</td>\n",
       "      <td>1.000000</td>\n",
       "    </tr>\n",
       "  </tbody>\n",
       "</table>\n",
       "<p>3 rows × 271 columns</p>\n",
       "</div>"
      ],
      "text/plain": [
       "             1stFlrSF  2ndFlrSF  3SsnPorch  BedroomAbvGr  BsmtFinSF1  \\\n",
       "GrLivArea    0.566024  0.687501   0.020643      0.521270    0.208171   \n",
       "OverallQual  0.476224  0.295493   0.030371      0.101676    0.239666   \n",
       "SalePrice    0.605852  0.319334   0.044584      0.168213    0.386420   \n",
       "\n",
       "             BsmtFinSF2  BsmtFullBath  BsmtHalfBath  BsmtUnfSF  EnclosedPorch  \\\n",
       "GrLivArea     -0.009640      0.034836     -0.018918   0.240257       0.009113   \n",
       "OverallQual   -0.059119      0.111098     -0.040150   0.308159      -0.113937   \n",
       "SalePrice     -0.011378      0.227122     -0.016844   0.214479      -0.128578   \n",
       "\n",
       "               ...      SaleType_ConLI  SaleType_ConLw  SaleType_New  \\\n",
       "GrLivArea      ...            0.017268       -0.022348      0.168368   \n",
       "OverallQual    ...            0.004269       -0.021172      0.327412   \n",
       "SalePrice      ...            0.014371       -0.027475      0.357509   \n",
       "\n",
       "             SaleType_Oth  SaleType_WD  Street_Grvl  Street_Pave  \\\n",
       "GrLivArea       -0.036522    -0.121102    -0.044121     0.044121   \n",
       "OverallQual     -0.057962    -0.225013    -0.058823     0.058823   \n",
       "SalePrice       -0.034895    -0.242598    -0.041036     0.041036   \n",
       "\n",
       "             Utilities_AllPub  Utilities_NoSeWa  SalePrice  \n",
       "GrLivArea            0.008545         -0.008545   0.708624  \n",
       "OverallQual          0.001881         -0.001881   0.790982  \n",
       "SalePrice            0.014314         -0.014314   1.000000  \n",
       "\n",
       "[3 rows x 271 columns]"
      ]
     },
     "execution_count": 12,
     "metadata": {},
     "output_type": "execute_result"
    }
   ],
   "source": [
    "b = a[a.SalePrice> 0.7]\n",
    "b\n",
    "#相関関数が０．７以上のものを選ぶ"
   ]
  },
  {
   "cell_type": "code",
   "execution_count": 13,
   "metadata": {},
   "outputs": [
    {
     "data": {
      "text/html": [
       "<div>\n",
       "<style>\n",
       "    .dataframe thead tr:only-child th {\n",
       "        text-align: right;\n",
       "    }\n",
       "\n",
       "    .dataframe thead th {\n",
       "        text-align: left;\n",
       "    }\n",
       "\n",
       "    .dataframe tbody tr th {\n",
       "        vertical-align: top;\n",
       "    }\n",
       "</style>\n",
       "<table border=\"1\" class=\"dataframe\">\n",
       "  <thead>\n",
       "    <tr style=\"text-align: right;\">\n",
       "      <th></th>\n",
       "      <th>1stFlrSF</th>\n",
       "      <th>2ndFlrSF</th>\n",
       "      <th>3SsnPorch</th>\n",
       "      <th>BedroomAbvGr</th>\n",
       "      <th>BsmtFinSF1</th>\n",
       "      <th>BsmtFinSF2</th>\n",
       "      <th>BsmtFullBath</th>\n",
       "      <th>BsmtHalfBath</th>\n",
       "      <th>BsmtUnfSF</th>\n",
       "      <th>EnclosedPorch</th>\n",
       "      <th>...</th>\n",
       "      <th>SaleType_ConLI</th>\n",
       "      <th>SaleType_ConLw</th>\n",
       "      <th>SaleType_New</th>\n",
       "      <th>SaleType_Oth</th>\n",
       "      <th>SaleType_WD</th>\n",
       "      <th>Street_Grvl</th>\n",
       "      <th>Street_Pave</th>\n",
       "      <th>Utilities_AllPub</th>\n",
       "      <th>Utilities_NoSeWa</th>\n",
       "      <th>SalePrice</th>\n",
       "    </tr>\n",
       "  </thead>\n",
       "  <tbody>\n",
       "  </tbody>\n",
       "</table>\n",
       "<p>0 rows × 271 columns</p>\n",
       "</div>"
      ],
      "text/plain": [
       "Empty DataFrame\n",
       "Columns: [1stFlrSF, 2ndFlrSF, 3SsnPorch, BedroomAbvGr, BsmtFinSF1, BsmtFinSF2, BsmtFullBath, BsmtHalfBath, BsmtUnfSF, EnclosedPorch, Fireplaces, FullBath, GarageArea, GarageCars, GarageYrBlt, GrLivArea, HalfBath, KitchenAbvGr, LotArea, LotFrontage, LowQualFinSF, MSSubClass, MasVnrArea, MiscVal, MoSold, OpenPorchSF, OverallCond, OverallQual, PoolArea, ScreenPorch, TotRmsAbvGrd, TotalBsmtSF, WoodDeckSF, YearBuilt, YearRemodAdd, YrSold, BldgType_1Fam, BldgType_2fmCon, BldgType_Duplex, BldgType_Twnhs, BldgType_TwnhsE, BsmtCond_Fa, BsmtCond_Gd, BsmtCond_Po, BsmtCond_TA, BsmtExposure_Av, BsmtExposure_Gd, BsmtExposure_Mn, BsmtExposure_No, BsmtFinType1_ALQ, BsmtFinType1_BLQ, BsmtFinType1_GLQ, BsmtFinType1_LwQ, BsmtFinType1_Rec, BsmtFinType1_Unf, BsmtFinType2_ALQ, BsmtFinType2_BLQ, BsmtFinType2_GLQ, BsmtFinType2_LwQ, BsmtFinType2_Rec, BsmtFinType2_Unf, BsmtQual_Ex, BsmtQual_Fa, BsmtQual_Gd, BsmtQual_TA, CentralAir_N, CentralAir_Y, Condition1_Artery, Condition1_Feedr, Condition1_Norm, Condition1_PosA, Condition1_PosN, Condition1_RRAe, Condition1_RRAn, Condition1_RRNe, Condition1_RRNn, Condition2_Artery, Condition2_Feedr, Condition2_Norm, Condition2_PosA, Condition2_PosN, Condition2_RRAe, Condition2_RRAn, Condition2_RRNn, Electrical_FuseA, Electrical_FuseF, Electrical_FuseP, Electrical_Mix, Electrical_SBrkr, ExterCond_Ex, ExterCond_Fa, ExterCond_Gd, ExterCond_Po, ExterCond_TA, ExterQual_Ex, ExterQual_Fa, ExterQual_Gd, ExterQual_TA, Exterior1st_AsbShng, Exterior1st_AsphShn, ...]\n",
       "Index: []\n",
       "\n",
       "[0 rows x 271 columns]"
      ]
     },
     "execution_count": 13,
     "metadata": {},
     "output_type": "execute_result"
    }
   ],
   "source": [
    "c = a[a.SalePrice < -0.7]\n",
    "c\n",
    "#相関関数が－0.7以下のものを選ぶ\n",
    "#そのような要素は存在しなかった"
   ]
  },
  {
   "cell_type": "code",
   "execution_count": 9,
   "metadata": {
    "collapsed": true
   },
   "outputs": [],
   "source": [
    "#相関関数が高かったものを取り出してnp.arrayの形に直す\n",
    "X = data_train.loc[:, ['GrLivArea', 'OverallQual'] ].values\n",
    "#目的変数に対しても同じ処理を行う\n",
    "y = data_train.loc[:, ['SalePrice']].values"
   ]
  },
  {
   "cell_type": "code",
   "execution_count": 10,
   "metadata": {
    "collapsed": true
   },
   "outputs": [],
   "source": [
    "#テスト用と学習用に分ける\n",
    "from sklearn.model_selection import train_test_split\n",
    "A_train, A_test, B_train, B_test = train_test_split(X, y, test_size = 0.3, random_state = 0)"
   ]
  },
  {
   "cell_type": "code",
   "execution_count": 11,
   "metadata": {},
   "outputs": [
    {
     "data": {
      "text/plain": [
       "LinearRegression(copy_X=True, fit_intercept=True, n_jobs=1, normalize=False)"
      ]
     },
     "execution_count": 11,
     "metadata": {},
     "output_type": "execute_result"
    }
   ],
   "source": [
    "#学習を行う\n",
    "from sklearn.linear_model import LinearRegression\n",
    "lr = LinearRegression()\n",
    "lr.fit(A_train, B_train)"
   ]
  },
  {
   "cell_type": "code",
   "execution_count": 12,
   "metadata": {},
   "outputs": [
    {
     "name": "stdout",
     "output_type": "stream",
     "text": [
      "[-104362.61223639]\n",
      "[[    61.36857857  31506.71506056]]\n"
     ]
    }
   ],
   "source": [
    "#切片と係数を求める\n",
    "print(lr.intercept_)\n",
    "print(lr.coef_)\n",
    "#変数が足りない可能性がある\n",
    "#OverallQualは寄与しているが、GrLivAreaはほとんど関係ない可能性がある。\n",
    "#標準化していないため一概には言えない"
   ]
  },
  {
   "cell_type": "code",
   "execution_count": 13,
   "metadata": {},
   "outputs": [
    {
     "name": "stdout",
     "output_type": "stream",
     "text": [
      "train: 0.72428\n",
      "test: 0.69027\n"
     ]
    }
   ],
   "source": [
    "#決定係数を出力\n",
    "#少し過学習気味である\n",
    "print(\"train: %.5f\" % lr.score(A_train, B_train))\n",
    "print(\"test: %.5f\" % lr.score(A_test, B_test))"
   ]
  },
  {
   "cell_type": "code",
   "execution_count": 14,
   "metadata": {
    "collapsed": true
   },
   "outputs": [],
   "source": [
    "#自由度調整済み決定係数\n",
    "def adjusted(score, n_samples, n_features):\n",
    "    adjusted_score = 1 - (1-score)*((n_samples -1 )/(n_samples - n_features -1))\n",
    "    return adjusted_score"
   ]
  },
  {
   "cell_type": "code",
   "execution_count": 15,
   "metadata": {},
   "outputs": [
    {
     "name": "stdout",
     "output_type": "stream",
     "text": [
      "0.723736997638\n",
      "0.688848753978\n"
     ]
    }
   ],
   "source": [
    "#自由度調整済み決定係数を出力\n",
    "print(adjusted(lr.score(A_train, B_train), len(B_train), 2))\n",
    "print(adjusted(lr.score(A_test, B_test), len(B_test), 2))\n",
    "#大体決定係数と同じ値が得られた\n",
    "#多少の過学習が含まれているような傾向がある\n",
    "\n"
   ]
  },
  {
   "cell_type": "code",
   "execution_count": 16,
   "metadata": {},
   "outputs": [
    {
     "name": "stdout",
     "output_type": "stream",
     "text": [
      "train: 840918005.065\n",
      "test : 1051367698.569\n"
     ]
    }
   ],
   "source": [
    "#予測に対する標準的なずれを出力\n",
    "from sklearn.metrics import mean_squared_error as mse\n",
    "print('train: %.3f' % (mse(B_train, lr.predict(A_train)) ** 1/2))\n",
    "print('test : %.3f' % (mse(B_test, lr.predict(A_test)) ** 1/2))\n",
    "#差が大きすぎる"
   ]
  },
  {
   "cell_type": "code",
   "execution_count": 17,
   "metadata": {},
   "outputs": [
    {
     "data": {
      "text/html": [
       "<div>\n",
       "<style>\n",
       "    .dataframe thead tr:only-child th {\n",
       "        text-align: right;\n",
       "    }\n",
       "\n",
       "    .dataframe thead th {\n",
       "        text-align: left;\n",
       "    }\n",
       "\n",
       "    .dataframe tbody tr th {\n",
       "        vertical-align: top;\n",
       "    }\n",
       "</style>\n",
       "<table border=\"1\" class=\"dataframe\">\n",
       "  <thead>\n",
       "    <tr style=\"text-align: right;\">\n",
       "      <th></th>\n",
       "      <th>1stFlrSF</th>\n",
       "      <th>2ndFlrSF</th>\n",
       "      <th>3SsnPorch</th>\n",
       "      <th>BedroomAbvGr</th>\n",
       "      <th>BsmtFinSF1</th>\n",
       "      <th>BsmtFinSF2</th>\n",
       "      <th>BsmtFullBath</th>\n",
       "      <th>BsmtHalfBath</th>\n",
       "      <th>BsmtUnfSF</th>\n",
       "      <th>EnclosedPorch</th>\n",
       "      <th>...</th>\n",
       "      <th>SaleType_ConLI</th>\n",
       "      <th>SaleType_ConLw</th>\n",
       "      <th>SaleType_New</th>\n",
       "      <th>SaleType_Oth</th>\n",
       "      <th>SaleType_WD</th>\n",
       "      <th>Street_Grvl</th>\n",
       "      <th>Street_Pave</th>\n",
       "      <th>Utilities_AllPub</th>\n",
       "      <th>Utilities_NoSeWa</th>\n",
       "      <th>SalePrice</th>\n",
       "    </tr>\n",
       "  </thead>\n",
       "  <tbody>\n",
       "    <tr>\n",
       "      <th>count</th>\n",
       "      <td>1460.000000</td>\n",
       "      <td>1460.000000</td>\n",
       "      <td>1460.000000</td>\n",
       "      <td>1460.000000</td>\n",
       "      <td>1460.000000</td>\n",
       "      <td>1460.000000</td>\n",
       "      <td>1460.000000</td>\n",
       "      <td>1460.000000</td>\n",
       "      <td>1460.000000</td>\n",
       "      <td>1460.000000</td>\n",
       "      <td>...</td>\n",
       "      <td>1460.000000</td>\n",
       "      <td>1460.000000</td>\n",
       "      <td>1460.000000</td>\n",
       "      <td>1460.000000</td>\n",
       "      <td>1460.000000</td>\n",
       "      <td>1460.000000</td>\n",
       "      <td>1460.000000</td>\n",
       "      <td>1460.000000</td>\n",
       "      <td>1460.000000</td>\n",
       "      <td>1460.000000</td>\n",
       "    </tr>\n",
       "    <tr>\n",
       "      <th>mean</th>\n",
       "      <td>1162.626712</td>\n",
       "      <td>346.992466</td>\n",
       "      <td>3.409589</td>\n",
       "      <td>2.866438</td>\n",
       "      <td>443.639726</td>\n",
       "      <td>46.549315</td>\n",
       "      <td>0.425342</td>\n",
       "      <td>0.057534</td>\n",
       "      <td>567.240411</td>\n",
       "      <td>21.954110</td>\n",
       "      <td>...</td>\n",
       "      <td>0.003425</td>\n",
       "      <td>0.003425</td>\n",
       "      <td>0.083562</td>\n",
       "      <td>0.002055</td>\n",
       "      <td>0.867808</td>\n",
       "      <td>0.004110</td>\n",
       "      <td>0.995890</td>\n",
       "      <td>0.999315</td>\n",
       "      <td>0.000685</td>\n",
       "      <td>180921.195890</td>\n",
       "    </tr>\n",
       "    <tr>\n",
       "      <th>std</th>\n",
       "      <td>386.587738</td>\n",
       "      <td>436.528436</td>\n",
       "      <td>29.317331</td>\n",
       "      <td>0.815778</td>\n",
       "      <td>456.098091</td>\n",
       "      <td>161.319273</td>\n",
       "      <td>0.518911</td>\n",
       "      <td>0.238753</td>\n",
       "      <td>441.866955</td>\n",
       "      <td>61.119149</td>\n",
       "      <td>...</td>\n",
       "      <td>0.058440</td>\n",
       "      <td>0.058440</td>\n",
       "      <td>0.276824</td>\n",
       "      <td>0.045299</td>\n",
       "      <td>0.338815</td>\n",
       "      <td>0.063996</td>\n",
       "      <td>0.063996</td>\n",
       "      <td>0.026171</td>\n",
       "      <td>0.026171</td>\n",
       "      <td>79442.502883</td>\n",
       "    </tr>\n",
       "    <tr>\n",
       "      <th>min</th>\n",
       "      <td>334.000000</td>\n",
       "      <td>0.000000</td>\n",
       "      <td>0.000000</td>\n",
       "      <td>0.000000</td>\n",
       "      <td>0.000000</td>\n",
       "      <td>0.000000</td>\n",
       "      <td>0.000000</td>\n",
       "      <td>0.000000</td>\n",
       "      <td>0.000000</td>\n",
       "      <td>0.000000</td>\n",
       "      <td>...</td>\n",
       "      <td>0.000000</td>\n",
       "      <td>0.000000</td>\n",
       "      <td>0.000000</td>\n",
       "      <td>0.000000</td>\n",
       "      <td>0.000000</td>\n",
       "      <td>0.000000</td>\n",
       "      <td>0.000000</td>\n",
       "      <td>0.000000</td>\n",
       "      <td>0.000000</td>\n",
       "      <td>34900.000000</td>\n",
       "    </tr>\n",
       "    <tr>\n",
       "      <th>25%</th>\n",
       "      <td>882.000000</td>\n",
       "      <td>0.000000</td>\n",
       "      <td>0.000000</td>\n",
       "      <td>2.000000</td>\n",
       "      <td>0.000000</td>\n",
       "      <td>0.000000</td>\n",
       "      <td>0.000000</td>\n",
       "      <td>0.000000</td>\n",
       "      <td>223.000000</td>\n",
       "      <td>0.000000</td>\n",
       "      <td>...</td>\n",
       "      <td>0.000000</td>\n",
       "      <td>0.000000</td>\n",
       "      <td>0.000000</td>\n",
       "      <td>0.000000</td>\n",
       "      <td>1.000000</td>\n",
       "      <td>0.000000</td>\n",
       "      <td>1.000000</td>\n",
       "      <td>1.000000</td>\n",
       "      <td>0.000000</td>\n",
       "      <td>129975.000000</td>\n",
       "    </tr>\n",
       "    <tr>\n",
       "      <th>50%</th>\n",
       "      <td>1087.000000</td>\n",
       "      <td>0.000000</td>\n",
       "      <td>0.000000</td>\n",
       "      <td>3.000000</td>\n",
       "      <td>383.500000</td>\n",
       "      <td>0.000000</td>\n",
       "      <td>0.000000</td>\n",
       "      <td>0.000000</td>\n",
       "      <td>477.500000</td>\n",
       "      <td>0.000000</td>\n",
       "      <td>...</td>\n",
       "      <td>0.000000</td>\n",
       "      <td>0.000000</td>\n",
       "      <td>0.000000</td>\n",
       "      <td>0.000000</td>\n",
       "      <td>1.000000</td>\n",
       "      <td>0.000000</td>\n",
       "      <td>1.000000</td>\n",
       "      <td>1.000000</td>\n",
       "      <td>0.000000</td>\n",
       "      <td>163000.000000</td>\n",
       "    </tr>\n",
       "    <tr>\n",
       "      <th>75%</th>\n",
       "      <td>1391.250000</td>\n",
       "      <td>728.000000</td>\n",
       "      <td>0.000000</td>\n",
       "      <td>3.000000</td>\n",
       "      <td>712.250000</td>\n",
       "      <td>0.000000</td>\n",
       "      <td>1.000000</td>\n",
       "      <td>0.000000</td>\n",
       "      <td>808.000000</td>\n",
       "      <td>0.000000</td>\n",
       "      <td>...</td>\n",
       "      <td>0.000000</td>\n",
       "      <td>0.000000</td>\n",
       "      <td>0.000000</td>\n",
       "      <td>0.000000</td>\n",
       "      <td>1.000000</td>\n",
       "      <td>0.000000</td>\n",
       "      <td>1.000000</td>\n",
       "      <td>1.000000</td>\n",
       "      <td>0.000000</td>\n",
       "      <td>214000.000000</td>\n",
       "    </tr>\n",
       "    <tr>\n",
       "      <th>max</th>\n",
       "      <td>4692.000000</td>\n",
       "      <td>2065.000000</td>\n",
       "      <td>508.000000</td>\n",
       "      <td>8.000000</td>\n",
       "      <td>5644.000000</td>\n",
       "      <td>1474.000000</td>\n",
       "      <td>3.000000</td>\n",
       "      <td>2.000000</td>\n",
       "      <td>2336.000000</td>\n",
       "      <td>552.000000</td>\n",
       "      <td>...</td>\n",
       "      <td>1.000000</td>\n",
       "      <td>1.000000</td>\n",
       "      <td>1.000000</td>\n",
       "      <td>1.000000</td>\n",
       "      <td>1.000000</td>\n",
       "      <td>1.000000</td>\n",
       "      <td>1.000000</td>\n",
       "      <td>1.000000</td>\n",
       "      <td>1.000000</td>\n",
       "      <td>755000.000000</td>\n",
       "    </tr>\n",
       "  </tbody>\n",
       "</table>\n",
       "<p>8 rows × 271 columns</p>\n",
       "</div>"
      ],
      "text/plain": [
       "          1stFlrSF     2ndFlrSF    3SsnPorch  BedroomAbvGr   BsmtFinSF1  \\\n",
       "count  1460.000000  1460.000000  1460.000000   1460.000000  1460.000000   \n",
       "mean   1162.626712   346.992466     3.409589      2.866438   443.639726   \n",
       "std     386.587738   436.528436    29.317331      0.815778   456.098091   \n",
       "min     334.000000     0.000000     0.000000      0.000000     0.000000   \n",
       "25%     882.000000     0.000000     0.000000      2.000000     0.000000   \n",
       "50%    1087.000000     0.000000     0.000000      3.000000   383.500000   \n",
       "75%    1391.250000   728.000000     0.000000      3.000000   712.250000   \n",
       "max    4692.000000  2065.000000   508.000000      8.000000  5644.000000   \n",
       "\n",
       "        BsmtFinSF2  BsmtFullBath  BsmtHalfBath    BsmtUnfSF  EnclosedPorch  \\\n",
       "count  1460.000000   1460.000000   1460.000000  1460.000000    1460.000000   \n",
       "mean     46.549315      0.425342      0.057534   567.240411      21.954110   \n",
       "std     161.319273      0.518911      0.238753   441.866955      61.119149   \n",
       "min       0.000000      0.000000      0.000000     0.000000       0.000000   \n",
       "25%       0.000000      0.000000      0.000000   223.000000       0.000000   \n",
       "50%       0.000000      0.000000      0.000000   477.500000       0.000000   \n",
       "75%       0.000000      1.000000      0.000000   808.000000       0.000000   \n",
       "max    1474.000000      3.000000      2.000000  2336.000000     552.000000   \n",
       "\n",
       "           ...        SaleType_ConLI  SaleType_ConLw  SaleType_New  \\\n",
       "count      ...           1460.000000     1460.000000   1460.000000   \n",
       "mean       ...              0.003425        0.003425      0.083562   \n",
       "std        ...              0.058440        0.058440      0.276824   \n",
       "min        ...              0.000000        0.000000      0.000000   \n",
       "25%        ...              0.000000        0.000000      0.000000   \n",
       "50%        ...              0.000000        0.000000      0.000000   \n",
       "75%        ...              0.000000        0.000000      0.000000   \n",
       "max        ...              1.000000        1.000000      1.000000   \n",
       "\n",
       "       SaleType_Oth  SaleType_WD  Street_Grvl  Street_Pave  Utilities_AllPub  \\\n",
       "count   1460.000000  1460.000000  1460.000000  1460.000000       1460.000000   \n",
       "mean       0.002055     0.867808     0.004110     0.995890          0.999315   \n",
       "std        0.045299     0.338815     0.063996     0.063996          0.026171   \n",
       "min        0.000000     0.000000     0.000000     0.000000          0.000000   \n",
       "25%        0.000000     1.000000     0.000000     1.000000          1.000000   \n",
       "50%        0.000000     1.000000     0.000000     1.000000          1.000000   \n",
       "75%        0.000000     1.000000     0.000000     1.000000          1.000000   \n",
       "max        1.000000     1.000000     1.000000     1.000000          1.000000   \n",
       "\n",
       "       Utilities_NoSeWa      SalePrice  \n",
       "count       1460.000000    1460.000000  \n",
       "mean           0.000685  180921.195890  \n",
       "std            0.026171   79442.502883  \n",
       "min            0.000000   34900.000000  \n",
       "25%            0.000000  129975.000000  \n",
       "50%            0.000000  163000.000000  \n",
       "75%            0.000000  214000.000000  \n",
       "max            1.000000  755000.000000  \n",
       "\n",
       "[8 rows x 271 columns]"
      ]
     },
     "execution_count": 17,
     "metadata": {},
     "output_type": "execute_result"
    }
   ],
   "source": [
    "data_train.describe()"
   ]
  },
  {
   "cell_type": "code",
   "execution_count": 18,
   "metadata": {
    "collapsed": true
   },
   "outputs": [],
   "source": [
    "def res_plot(y_train, y_train_pred, y_test, y_test_pred):\n",
    "    # train, testごとに残差を算出\n",
    "    res_train = y_train_pred - y_train\n",
    "    res_test  = y_test_pred - y_test\n",
    "    \n",
    "    # train, testごとに(予測値, 残差)をプロット\n",
    "    plt.figure(figsize=(8, 8))\n",
    "    plt.scatter(y_train_pred, res_train, color='blue', marker='o', label='train', alpha=0.5)\n",
    "    plt.scatter(y_test_pred, res_test, color='green', marker='s', label='test', alpha=0.5)\n",
    "    \n",
    "    plt.xlabel('Predicted Values')                  # x軸のラベルを表示\n",
    "    plt.ylabel('Residuals')                         # y軸のラベルを表示\n",
    "    plt.legend(loc='upper left')                    # 凡例を左上に表示\n",
    "    plt.hlines(y=0, xmin = 0, xmax = 500000,  color='red') # 残差0の線を表示                             # 表示する横軸の範囲を指定\n",
    "    plt.show()"
   ]
  },
  {
   "cell_type": "code",
   "execution_count": 19,
   "metadata": {},
   "outputs": [
    {
     "data": {
      "image/png": "[encoded data removed]",
      "text/plain": [
       "<matplotlib.figure.Figure at 0x16e0f06def0>"
      ]
     },
     "metadata": {},
     "output_type": "display_data"
    }
   ],
   "source": [
    "res_plot(B_train, lr.predict(A_train), B_test, lr.predict(A_test))"
   ]
  },
  {
   "cell_type": "code",
   "execution_count": 20,
   "metadata": {},
   "outputs": [
    {
     "data": {
      "text/plain": [
       "['SaleType_WD',\n",
       " 'Street_Grvl',\n",
       " 'Street_Pave',\n",
       " 'Utilities_AllPub',\n",
       " 'Utilities_NoSeWa']"
      ]
     },
     "execution_count": 20,
     "metadata": {},
     "output_type": "execute_result"
    }
   ],
   "source": [
    "#変数名のlistを作成\n",
    "a = list(data_train.columns)\n",
    "#SalePrice要素を削除\n",
    "del a[270]\n",
    "#変数をそのままにする（？）\n",
    "global a\n",
    "#listの最後の部分を出力、SalePriceが消えていることを確認\n",
    "a[265:]"
   ]
  },
  {
   "cell_type": "code",
   "execution_count": 21,
   "metadata": {
    "collapsed": true
   },
   "outputs": [],
   "source": [
    "#SalePriceを抜いたDataFrameを作成\n",
    "data_train_1 = pd.DataFrame(data_train, columns = a)\n",
    "#SalePriceだけのDataFrameを作成\n",
    "data_train_1_target = pd.DataFrame(data_train, columns = ['SalePrice'])"
   ]
  },
  {
   "cell_type": "code",
   "execution_count": 22,
   "metadata": {
    "collapsed": true
   },
   "outputs": [],
   "source": [
    "#標準化を行う\n",
    "from sklearn.preprocessing import StandardScaler\n",
    "sc = StandardScaler()\n",
    "#標準化してそれぞれを格納\n",
    "A_std = sc.fit_transform(data_train_1)\n",
    "B_std = sc.fit_transform(data_train_1_target)"
   ]
  },
  {
   "cell_type": "code",
   "execution_count": 23,
   "metadata": {},
   "outputs": [
    {
     "name": "stdout",
     "output_type": "stream",
     "text": [
      "1.0\n",
      "1.0\n"
     ]
    }
   ],
   "source": [
    "#標準偏差が1にそろえられているかを確認\n",
    "print(A_std.std())\n",
    "print(B_std.std())"
   ]
  },
  {
   "cell_type": "code",
   "execution_count": 24,
   "metadata": {},
   "outputs": [
    {
     "data": {
      "text/plain": [
       "LinearRegression(copy_X=True, fit_intercept=True, n_jobs=1, normalize=False)"
      ]
     },
     "execution_count": 24,
     "metadata": {},
     "output_type": "execute_result"
    }
   ],
   "source": [
    "#標準化された値で学習を行う\n",
    "lr_std = LinearRegression()\n",
    "lr_std.fit(A_std, B_std)"
   ]
  },
  {
   "cell_type": "code",
   "execution_count": 25,
   "metadata": {},
   "outputs": [
    {
     "data": {
      "text/plain": [
       "5686906920.4958553"
      ]
     },
     "execution_count": 25,
     "metadata": {},
     "output_type": "execute_result"
    }
   ],
   "source": [
    "#係数を出力\n",
    "b = lr_std.coef_\n",
    "b\n",
    "#過学習を起こしているため係数が高すぎる　\n",
    "#0か1で判断するものが多すぎたためだと思われる。\n",
    "#特徴量が多すぎる\n",
    "#0か1で表されているものも多い\n",
    "b[0][4]"
   ]
  },
  {
   "cell_type": "code",
   "execution_count": 26,
   "metadata": {
    "collapsed": true
   },
   "outputs": [],
   "source": [
    "#違うやり方で学習する\n",
    "#多項式回帰を利用する\n",
    "#また、抽出する特徴量を増やして実行してみる"
   ]
  },
  {
   "cell_type": "code",
   "execution_count": 34,
   "metadata": {},
   "outputs": [
    {
     "data": {
      "text/plain": [
       "array([[208500],\n",
       "       [181500],\n",
       "       [223500],\n",
       "       [140000],\n",
       "       [250000]], dtype=int64)"
      ]
     },
     "execution_count": 34,
     "metadata": {},
     "output_type": "execute_result"
    }
   ],
   "source": [
    "corr = data_train.corr()\n",
    "#相関関数の絶対値0.5以上で出力\n",
    "a = corr[corr.SalePrice > 0.5]\n",
    "#12個の特徴量変数が得られた\n",
    "b = corr[corr.SalePrice < -0.5]\n",
    "#2個の特徴量変数が得られた\n",
    "#listで得られた特徴量変数名を摘出\n",
    "c = list(a.index)\n",
    "#SalePrice要素を削除\n",
    "c.remove('SalePrice')\n",
    "#変数を固定?\n",
    "global c\n",
    "#listからDataFrameに戻す\n",
    "d = pd.DataFrame(data_train, columns = c)\n",
    "#DataFrameを出力\n",
    "#d.head()\n",
    "e = list(b.index)\n",
    "f = pd.DataFrame(data_train, columns = e)\n",
    "#確認のため、fを出力\n",
    "f.head()\n",
    "#DataFrameを横に結合して出力\n",
    "#14個の変数が得られた\n",
    "g = pd.concat([d, f], axis = 1)\n",
    "#確認のための出力\n",
    "#g.head()\n",
    "#np.array型に変換\n",
    "h = np.array(g)\n",
    "#SalePriceのDataFrame型を出力\n",
    "i = pd.DataFrame(data_train, columns = ['SalePrice'])\n",
    "\n",
    "j = np.array(i)\n",
    "#正しく変換されていることを確認\n",
    "h[:5]\n",
    "j[:5]"
   ]
  },
  {
   "cell_type": "code",
   "execution_count": 26,
   "metadata": {
    "collapsed": true
   },
   "outputs": [],
   "source": [
    "from sklearn.model_selection import train_test_split\n",
    "X_train,X_test,y_train, y_test = train_test_split(h, j, test_size = 0.3, random_state = 0 )\n"
   ]
  },
  {
   "cell_type": "code",
   "execution_count": 27,
   "metadata": {},
   "outputs": [
    {
     "data": {
      "text/plain": [
       "LinearRegression(copy_X=True, fit_intercept=True, n_jobs=1, normalize=False)"
      ]
     },
     "execution_count": 27,
     "metadata": {},
     "output_type": "execute_result"
    }
   ],
   "source": [
    "from sklearn.linear_model import LinearRegression\n",
    "lr = LinearRegression()\n",
    "lr.fit(X_train, y_train)"
   ]
  },
  {
   "cell_type": "code",
   "execution_count": 28,
   "metadata": {
    "scrolled": true
   },
   "outputs": [
    {
     "data": {
      "text/plain": [
       "array([[  7.99826554e+00,  -4.46088534e+03,   3.64517596e+01,\n",
       "          1.34246313e+03,   6.03026741e+01,   1.25890164e+04,\n",
       "         -1.66502893e+03,   2.55513670e+01,   2.62896745e+02,\n",
       "          1.84886290e+02,   4.01167542e+04,   3.00941666e+04,\n",
       "         -2.41410886e+03,  -6.31314884e+03]])"
      ]
     },
     "execution_count": 28,
     "metadata": {},
     "output_type": "execute_result"
    }
   ],
   "source": [
    "#最初に特徴量二つでやった時より係数が平均的に小さくなっているのを確認できた\n",
    "lr.coef_"
   ]
  },
  {
   "cell_type": "code",
   "execution_count": 29,
   "metadata": {},
   "outputs": [
    {
     "name": "stdout",
     "output_type": "stream",
     "text": [
      "train: 0.83197\n",
      "test : 0.72804\n"
     ]
    }
   ],
   "source": [
    "#数値は高くなったが過学習の度合いが大きくなっている\n",
    "print('train: %.5f' % lr.score(X_train, y_train))\n",
    "print('test : %.5f' % lr.score(X_test, y_test))"
   ]
  },
  {
   "cell_type": "code",
   "execution_count": 30,
   "metadata": {
    "collapsed": true
   },
   "outputs": [],
   "source": [
    "def adjusted(score, n_samples, n_features):\n",
    "    adjusted = 1 - (1-score) * ((n_samples-1)/(n_samples-n_features - 1))\n",
    "    return adjusted"
   ]
  },
  {
   "cell_type": "code",
   "execution_count": 31,
   "metadata": {},
   "outputs": [
    {
     "name": "stdout",
     "output_type": "stream",
     "text": [
      "train: 0.8296\n",
      "test : 0.7190\n"
     ]
    }
   ],
   "source": [
    "\n",
    "print('train: %.4f' % adjusted(lr.score(X_train, y_train), len(X_train), 14))\n",
    "print('test : %.4f' % adjusted(lr.score(X_test, y_test), len(X_test), 14))\n",
    "#過学習が確認できた。"
   ]
  },
  {
   "cell_type": "code",
   "execution_count": 32,
   "metadata": {
    "collapsed": true
   },
   "outputs": [],
   "source": [
    "#２次の多項式にして、学習度を上げた後に過学習を調整していく\n",
    "from sklearn.preprocessing import PolynomialFeatures\n",
    "quad = PolynomialFeatures(degree = 2)\n",
    "Quad = quad.fit_transform(h)\n",
    "Quad_train, Quad_test, y_train, y_test = train_test_split(Quad, j, test_size = 0.3, random_state = 0)\n"
   ]
  },
  {
   "cell_type": "code",
   "execution_count": 33,
   "metadata": {},
   "outputs": [
    {
     "data": {
      "text/plain": [
       "LinearRegression(copy_X=True, fit_intercept=True, n_jobs=1, normalize=False)"
      ]
     },
     "execution_count": 33,
     "metadata": {},
     "output_type": "execute_result"
    }
   ],
   "source": [
    "#学習（２次）\n",
    "model_quad = LinearRegression()\n",
    "model_quad.fit(Quad_train, y_train )"
   ]
  },
  {
   "cell_type": "code",
   "execution_count": 34,
   "metadata": {
    "collapsed": true
   },
   "outputs": [],
   "source": [
    "#3次の項式でも試す\n",
    "from sklearn.preprocessing import PolynomialFeatures\n",
    "cubic = PolynomialFeatures(degree = 3)\n",
    "Cubic = cubic.fit_transform(h)\n",
    "Cubic_train, Cubic_test, y_train, y_test = train_test_split(Cubic, j, test_size = 0.3, random_state = 0)"
   ]
  },
  {
   "cell_type": "code",
   "execution_count": 35,
   "metadata": {},
   "outputs": [
    {
     "data": {
      "text/plain": [
       "LinearRegression(copy_X=True, fit_intercept=True, n_jobs=1, normalize=False)"
      ]
     },
     "execution_count": 35,
     "metadata": {},
     "output_type": "execute_result"
    }
   ],
   "source": [
    "#学習（３次）\n",
    "model_cubic = LinearRegression()\n",
    "model_cubic.fit(Cubic_train, y_train)"
   ]
  },
  {
   "cell_type": "code",
   "execution_count": 36,
   "metadata": {},
   "outputs": [
    {
     "name": "stdout",
     "output_type": "stream",
     "text": [
      "単項式（特徴量２）\n",
      "train: 0.7237\n",
      "test : 0.6888\n",
      "単項式（特徴量14）\n",
      "train: 0.8296\n",
      "test : 0.7190\n",
      "2次項式（特徴量14）\n",
      "train: 0.8858\n",
      "test : 0.6133\n",
      "3次項式（特徴量14）\n",
      "train: 0.9524\n",
      "test : -7426.5084\n"
     ]
    }
   ],
   "source": [
    "print('単項式（特徴量２）')\n",
    "print('train: 0.7237')\n",
    "print('test : 0.6888')\n",
    "print('単項式（特徴量14）')\n",
    "print('train: %.4f' % adjusted(lr.score(X_train, y_train), len(y_train), 14))\n",
    "print('test : %.4f' % adjusted(lr.score(X_test, y_test), len(y_test), 14))\n",
    "print(\"2次項式（特徴量14）\")\n",
    "print('train: %.4f' % adjusted(model_quad.score(Quad_train, y_train), len(y_train), 14))\n",
    "print('test : %.4f' % adjusted(model_quad.score(Quad_test, y_test), len(y_test), 14))\n",
    "print(\"3次項式（特徴量14）\")\n",
    "print('train: %.4f' % adjusted(model_cubic.score(Cubic_train, y_train), len(y_train), 14))\n",
    "print('test : %.4f' % adjusted(model_cubic.score(Cubic_test, y_test), len(y_test), 14))\n",
    "#単項式の特徴量14が最も良い値を出力している。しかし、単項式の特徴量2の時とあまり変わらない。\n",
    "#また、単項式（特徴量14）だとtrainのデータが高くなりすぎていて、過学習を起こしている。\n",
    "#これより、単項式（特徴量2）についてもう少し検証する。\n",
    "#単項式（特徴量2）では係数が61と31506となっていたので標準化して試す。\n",
    "#また、OverallQualだけでも試してみる。"
   ]
  },
  {
   "cell_type": "code",
   "execution_count": 37,
   "metadata": {
    "collapsed": true
   },
   "outputs": [],
   "source": [
    "#一番初めのDataFrameを表示\n",
    "data_train.head()\n",
    "#OverallQualのみして単回帰を行う\n",
    "#SalePriceとOverallQualに分けてnp型に変換\n",
    "S = data_train.loc[:, ['OverallQual']].values\n",
    "T = data_train.loc[:, ['SalePrice']].values"
   ]
  },
  {
   "cell_type": "code",
   "execution_count": 38,
   "metadata": {},
   "outputs": [
    {
     "data": {
      "image/png": "[encoded data removed]",
      "text/plain": [
       "<matplotlib.figure.Figure at 0x1996eb6cf28>"
      ]
     },
     "metadata": {},
     "output_type": "display_data"
    }
   ],
   "source": [
    "import matplotlib.pyplot as plt\n",
    "% matplotlib inline\n",
    "plt.scatter(S,T)\n",
    "plt.title('OverallQual vs SalePrice')\n",
    "plt.xlabel('OverallQual')\n",
    "plt.ylabel('SalePrice')\n",
    "plt.show()"
   ]
  },
  {
   "cell_type": "markdown",
   "metadata": {},
   "source": []
  },
  {
   "cell_type": "code",
   "execution_count": 39,
   "metadata": {},
   "outputs": [
    {
     "data": {
      "text/plain": [
       "LinearRegression(copy_X=True, fit_intercept=True, n_jobs=1, normalize=False)"
      ]
     },
     "execution_count": 39,
     "metadata": {},
     "output_type": "execute_result"
    }
   ],
   "source": [
    "from sklearn.linear_model import LinearRegression\n",
    "lr = LinearRegression()\n",
    "lr.fit(S, T)"
   ]
  },
  {
   "cell_type": "code",
   "execution_count": 40,
   "metadata": {},
   "outputs": [
    {
     "data": {
      "image/png": "[encoded data removed]",
      "text/plain": [
       "<matplotlib.figure.Figure at 0x1996fc10d30>"
      ]
     },
     "metadata": {},
     "output_type": "display_data"
    }
   ],
   "source": [
    "import matplotlib.pyplot as plt\n",
    "% matplotlib inline\n",
    "plt.scatter(S, T,color = 'blue', marker = 'o' ,label='plot' )\n",
    "plt.plot(S, lr.predict(S), color = 'red', label = '近似線')\n",
    "plt.title('OverallQual vs SalePrice')\n",
    "plt.xlabel('OverallQual')\n",
    "plt.ylabel('SalePrice')\n",
    "plt.legend(loc = 'upper left')\n",
    "\n",
    "plt.show()"
   ]
  },
  {
   "cell_type": "code",
   "execution_count": 41,
   "metadata": {
    "collapsed": true
   },
   "outputs": [],
   "source": [
    "from sklearn.model_selection import train_test_split\n",
    "S_train, S_test, T_train, T_test = train_test_split(S, T, test_size = 0.3, random_state = 0)"
   ]
  },
  {
   "cell_type": "code",
   "execution_count": 42,
   "metadata": {},
   "outputs": [
    {
     "data": {
      "text/plain": [
       "LinearRegression(copy_X=True, fit_intercept=True, n_jobs=1, normalize=False)"
      ]
     },
     "execution_count": 42,
     "metadata": {},
     "output_type": "execute_result"
    }
   ],
   "source": [
    "lr.fit(S_train, T_train)"
   ]
  },
  {
   "cell_type": "code",
   "execution_count": 43,
   "metadata": {},
   "outputs": [
    {
     "name": "stdout",
     "output_type": "stream",
     "text": [
      "train: 0.615\n",
      "test : 0.647\n"
     ]
    }
   ],
   "source": [
    "lr.coef_\n",
    "lr.intercept_\n",
    "print('train: %.3f' % adjusted(lr.score(S_train, T_train), len(y_train), 1))\n",
    "print('test : %.3f' % adjusted(lr.score(S_test, T_test), len(y_test), 1))\n",
    "#testデータのほうが精度が高いので過学習はないが精度そのものが低い"
   ]
  },
  {
   "cell_type": "code",
   "execution_count": 44,
   "metadata": {},
   "outputs": [
    {
     "name": "stdout",
     "output_type": "stream",
     "text": [
      "['SaleType_WD', 'Street_Grvl', 'Street_Pave', 'Utilities_AllPub', 'Utilities_NoSeWa']\n"
     ]
    }
   ],
   "source": [
    "a = list(data_train.columns)\n",
    "a.remove('SalePrice')\n",
    "print(a[265:])\n",
    "data_train_1 = pd.DataFrame(data_train, columns = a)\n",
    "data_train_1_target = pd.DataFrame(data_train, columns = ['SalePrice'])\n",
    "#標準化して出力を行う作業をすべての説明変数に対して行う\n",
    "from sklearn.preprocessing import StandardScaler\n",
    "sc = StandardScaler()\n",
    "v = sc.fit_transform(data_train_1)\n",
    "w = sc.fit_transform(data_train_1_target)"
   ]
  },
  {
   "cell_type": "code",
   "execution_count": 45,
   "metadata": {},
   "outputs": [
    {
     "data": {
      "text/plain": [
       "1.3626846987180004e-16"
      ]
     },
     "execution_count": 45,
     "metadata": {},
     "output_type": "execute_result"
    }
   ],
   "source": [
    "v.std()\n",
    "w.mean()"
   ]
  },
  {
   "cell_type": "code",
   "execution_count": 46,
   "metadata": {},
   "outputs": [
    {
     "data": {
      "text/plain": [
       "LinearRegression(copy_X=True, fit_intercept=True, n_jobs=1, normalize=False)"
      ]
     },
     "execution_count": 46,
     "metadata": {},
     "output_type": "execute_result"
    }
   ],
   "source": [
    "lr_std = LinearRegression()\n",
    "lr_std.fit(v, w)"
   ]
  },
  {
   "cell_type": "raw",
   "metadata": {},
   "source": []
  },
  {
   "cell_type": "code",
   "execution_count": 47,
   "metadata": {
    "collapsed": true
   },
   "outputs": [],
   "source": [
    "#係数を出力させた\n",
    "lr_std.coef_\n",
    "#形をチェック\n",
    "lr_std.coef_.ndim\n",
    "#形を1次元に変換\n",
    "n = np.reshape(lr_std.coef_, (270, ))\n"
   ]
  },
  {
   "cell_type": "code",
   "execution_count": 48,
   "metadata": {},
   "outputs": [
    {
     "data": {
      "text/plain": [
       "1stFlrSF                 2.526130e+07\n",
       "2ndFlrSF                 2.852463e+07\n",
       "3SsnPorch                1.144898e-02\n",
       "BedroomAbvGr            -3.457265e-02\n",
       "BsmtFinSF1               5.686907e+09\n",
       "BsmtFinSF2               2.011426e+09\n",
       "BsmtFullBath             5.358748e-03\n",
       "BsmtHalfBath            -1.624875e-03\n",
       "BsmtUnfSF                5.509465e+09\n",
       "EnclosedPorch            3.052592e-03\n",
       "Fireplaces               2.066588e-02\n",
       "FullBath                 2.512658e-02\n",
       "GarageArea               4.792839e-02\n",
       "GarageCars               3.822786e-02\n",
       "GarageYrBlt             -6.044239e-03\n",
       "GrLivArea               -3.433714e+07\n",
       "HalfBath                 7.345557e-03\n",
       "KitchenAbvGr            -3.547423e-02\n",
       "LotArea                  9.441781e-02\n",
       "LotFrontage              1.266947e-02\n",
       "LowQualFinSF             3.177240e+06\n",
       "MSSubClass              -1.671326e-02\n",
       "MasVnrArea               4.269350e-02\n",
       "MiscVal                  6.900728e-04\n",
       "MoSold                  -1.472993e-02\n",
       "OpenPorchSF              2.895832e-03\n",
       "OverallCond              8.031535e-02\n",
       "OverallQual              1.141883e-01\n",
       "PoolArea                 4.231480e-02\n",
       "ScreenPorch              2.016371e-02\n",
       "                             ...     \n",
       "RoofMatl_Metal           3.010040e+08\n",
       "RoofMatl_Roll            3.010040e+08\n",
       "RoofMatl_Tar&Grv         9.948902e+08\n",
       "RoofMatl_WdShake         6.721421e+08\n",
       "RoofMatl_WdShngl         7.360417e+08\n",
       "RoofStyle_Flat           1.080021e+09\n",
       "RoofStyle_Gable          4.750775e+09\n",
       "RoofStyle_Gambrel        9.941613e+08\n",
       "RoofStyle_Hip            4.562926e+09\n",
       "RoofStyle_Mansard        7.941603e+08\n",
       "RoofStyle_Shed           4.252263e+08\n",
       "SaleCondition_Abnorml    4.639651e+09\n",
       "SaleCondition_AdjLand    9.557087e+08\n",
       "SaleCondition_Alloca     1.650782e+09\n",
       "SaleCondition_Family     2.125255e+09\n",
       "SaleCondition_Normal     7.016070e+09\n",
       "SaleCondition_Partial    5.115764e+09\n",
       "SaleType_COD            -2.907708e+08\n",
       "SaleType_CWD            -8.989640e+07\n",
       "SaleType_Con            -6.361000e+07\n",
       "SaleType_ConLD          -1.346129e+08\n",
       "SaleType_ConLI          -1.004727e+08\n",
       "SaleType_ConLw          -1.004727e+08\n",
       "SaleType_New            -4.759262e+08\n",
       "SaleType_Oth            -7.787929e+07\n",
       "SaleType_WD             -5.825035e+08\n",
       "Street_Grvl             -7.985492e+08\n",
       "Street_Pave             -7.985492e+08\n",
       "Utilities_AllPub         2.937234e+08\n",
       "Utilities_NoSeWa         2.937234e+08\n",
       "Length: 270, dtype: float64"
      ]
     },
     "execution_count": 48,
     "metadata": {},
     "output_type": "execute_result"
    }
   ],
   "source": [
    "#pandasからSeriesをインポート\n",
    "from pandas import Series\n",
    "#形を1次元に変換\n",
    "n = np.reshape(lr_std.coef_, (270, ))\n",
    "#Seriesを使って表を作成、出力\n",
    "m = Series(n, index = a)\n",
    "m"
   ]
  },
  {
   "cell_type": "code",
   "execution_count": 49,
   "metadata": {
    "collapsed": true
   },
   "outputs": [],
   "source": [
    "#相関係数が最も高かったOverallQualとGrLivAreaで検証\n",
    "#m[m>m['OverallQual']] #109個の特徴量の係数がOverallQualより大きかった。\n",
    "#m[m>m['GrLivArea']] #155個の特徴量の係数がGrLivAreaより大きかった。\n",
    "#係数が高い特徴量が多いが、相関係数では表れていなかった。\n",
    "#過学習を起こしている？\n",
    "#データを見直した結果0と1で判断されるものがとてつもなく多い。\n",
    "#0か1で判断すれば係数をいくら大きくしても0なら0になるし1でもうまく組み合わされば消える。\n",
    "#これによって、係数の絶対値が高くなっている。データ数に対して特徴量が多すぎる。\n",
    "#0か1で判断されるものをすべて特徴量から消去してからデータの抽出を行いたいと思う。\n"
   ]
  },
  {
   "cell_type": "code",
   "execution_count": 98,
   "metadata": {},
   "outputs": [
    {
     "data": {
      "text/plain": [
       "array([[208500],\n",
       "       [181500],\n",
       "       [223500],\n",
       "       ..., \n",
       "       [266500],\n",
       "       [142125],\n",
       "       [147500]], dtype=int64)"
      ]
     },
     "execution_count": 98,
     "metadata": {},
     "output_type": "execute_result"
    }
   ],
   "source": [
    "#csvのデータを見たところAJ以降は全て1か0で判断される説明変数であった。\n",
    "#AJまでの中で調べる(AJまでは36個の説明変数)、確認\n",
    "data_train.columns[0:36]\n",
    "aa = data_train.columns[0:36]\n",
    "bb = pd.DataFrame(data_train, columns = aa)\n",
    "cc = pd.DataFrame(data_train, columns = ['SalePrice'])\n",
    "dd = np.array(bb)\n",
    "ee = np.array(cc)\n",
    "ee"
   ]
  },
  {
   "cell_type": "code",
   "execution_count": 101,
   "metadata": {
    "collapsed": true
   },
   "outputs": [],
   "source": [
    "from sklearn.model_selection import train_test_split\n",
    "dd_train, dd_test, ee_train, ee_test = train_test_split(dd, ee, test_size = 0, random_state = 0)"
   ]
  },
  {
   "cell_type": "code",
   "execution_count": 113,
   "metadata": {},
   "outputs": [
    {
     "data": {
      "text/plain": [
       "LinearRegression(copy_X=True, fit_intercept=True, n_jobs=1, normalize=False)"
      ]
     },
     "execution_count": 113,
     "metadata": {},
     "output_type": "execute_result"
    }
   ],
   "source": [
    "from sklearn.linear_model import LinearRegression\n",
    "ld = LinearRegression()\n",
    "ld.fit(dd_train, ee_train)"
   ]
  },
  {
   "cell_type": "code",
   "execution_count": 115,
   "metadata": {},
   "outputs": [
    {
     "data": {
      "text/plain": [
       "0.8138697328035237"
      ]
     },
     "execution_count": 115,
     "metadata": {},
     "output_type": "execute_result"
    }
   ],
   "source": [
    "ld.score(dd_train, ee_train)"
   ]
  },
  {
   "cell_type": "code",
   "execution_count": 116,
   "metadata": {},
   "outputs": [
    {
     "ename": "ValueError",
     "evalue": "Found array with 0 sample(s) (shape=(0, 36)) while a minimum of 1 is required.",
     "output_type": "error",
     "traceback": [
      "\u001b[1;31m---------------------------------------------------------------------------\u001b[0m",
      "\u001b[1;31mValueError\u001b[0m                                Traceback (most recent call last)",
      "\u001b[1;32m<ipython-input-116-0aefc5b9cd93>\u001b[0m in \u001b[0;36m<module>\u001b[1;34m()\u001b[0m\n\u001b[1;32m----> 1\u001b[1;33m \u001b[0mld\u001b[0m\u001b[1;33m.\u001b[0m\u001b[0mscore\u001b[0m\u001b[1;33m(\u001b[0m\u001b[0mdd_test\u001b[0m\u001b[1;33m,\u001b[0m \u001b[0mee_test\u001b[0m\u001b[1;33m)\u001b[0m\u001b[1;33m\u001b[0m\u001b[0m\n\u001b[0m",
      "\u001b[1;32mC:\\Users\\daisu\\Anaconda3\\lib\\site-packages\\sklearn\\base.py\u001b[0m in \u001b[0;36mscore\u001b[1;34m(self, X, y, sample_weight)\u001b[0m\n\u001b[0;32m    384\u001b[0m \u001b[1;33m\u001b[0m\u001b[0m\n\u001b[0;32m    385\u001b[0m         \u001b[1;32mfrom\u001b[0m \u001b[1;33m.\u001b[0m\u001b[0mmetrics\u001b[0m \u001b[1;32mimport\u001b[0m \u001b[0mr2_score\u001b[0m\u001b[1;33m\u001b[0m\u001b[0m\n\u001b[1;32m--> 386\u001b[1;33m         return r2_score(y, self.predict(X), sample_weight=sample_weight,\n\u001b[0m\u001b[0;32m    387\u001b[0m                         multioutput='variance_weighted')\n\u001b[0;32m    388\u001b[0m \u001b[1;33m\u001b[0m\u001b[0m\n",
      "\u001b[1;32mC:\\Users\\daisu\\Anaconda3\\lib\\site-packages\\sklearn\\linear_model\\base.py\u001b[0m in \u001b[0;36mpredict\u001b[1;34m(self, X)\u001b[0m\n\u001b[0;32m    266\u001b[0m             \u001b[0mReturns\u001b[0m \u001b[0mpredicted\u001b[0m \u001b[0mvalues\u001b[0m\u001b[1;33m.\u001b[0m\u001b[1;33m\u001b[0m\u001b[0m\n\u001b[0;32m    267\u001b[0m         \"\"\"\n\u001b[1;32m--> 268\u001b[1;33m         \u001b[1;32mreturn\u001b[0m \u001b[0mself\u001b[0m\u001b[1;33m.\u001b[0m\u001b[0m_decision_function\u001b[0m\u001b[1;33m(\u001b[0m\u001b[0mX\u001b[0m\u001b[1;33m)\u001b[0m\u001b[1;33m\u001b[0m\u001b[0m\n\u001b[0m\u001b[0;32m    269\u001b[0m \u001b[1;33m\u001b[0m\u001b[0m\n\u001b[0;32m    270\u001b[0m     \u001b[0m_preprocess_data\u001b[0m \u001b[1;33m=\u001b[0m \u001b[0mstaticmethod\u001b[0m\u001b[1;33m(\u001b[0m\u001b[0m_preprocess_data\u001b[0m\u001b[1;33m)\u001b[0m\u001b[1;33m\u001b[0m\u001b[0m\n",
      "\u001b[1;32mC:\\Users\\daisu\\Anaconda3\\lib\\site-packages\\sklearn\\linear_model\\base.py\u001b[0m in \u001b[0;36m_decision_function\u001b[1;34m(self, X)\u001b[0m\n\u001b[0;32m    249\u001b[0m         \u001b[0mcheck_is_fitted\u001b[0m\u001b[1;33m(\u001b[0m\u001b[0mself\u001b[0m\u001b[1;33m,\u001b[0m \u001b[1;34m\"coef_\"\u001b[0m\u001b[1;33m)\u001b[0m\u001b[1;33m\u001b[0m\u001b[0m\n\u001b[0;32m    250\u001b[0m \u001b[1;33m\u001b[0m\u001b[0m\n\u001b[1;32m--> 251\u001b[1;33m         \u001b[0mX\u001b[0m \u001b[1;33m=\u001b[0m \u001b[0mcheck_array\u001b[0m\u001b[1;33m(\u001b[0m\u001b[0mX\u001b[0m\u001b[1;33m,\u001b[0m \u001b[0maccept_sparse\u001b[0m\u001b[1;33m=\u001b[0m\u001b[1;33m[\u001b[0m\u001b[1;34m'csr'\u001b[0m\u001b[1;33m,\u001b[0m \u001b[1;34m'csc'\u001b[0m\u001b[1;33m,\u001b[0m \u001b[1;34m'coo'\u001b[0m\u001b[1;33m]\u001b[0m\u001b[1;33m)\u001b[0m\u001b[1;33m\u001b[0m\u001b[0m\n\u001b[0m\u001b[0;32m    252\u001b[0m         return safe_sparse_dot(X, self.coef_.T,\n\u001b[0;32m    253\u001b[0m                                dense_output=True) + self.intercept_\n",
      "\u001b[1;32mC:\\Users\\daisu\\Anaconda3\\lib\\site-packages\\sklearn\\utils\\validation.py\u001b[0m in \u001b[0;36mcheck_array\u001b[1;34m(array, accept_sparse, dtype, order, copy, force_all_finite, ensure_2d, allow_nd, ensure_min_samples, ensure_min_features, warn_on_dtype, estimator)\u001b[0m\n\u001b[0;32m    414\u001b[0m                              \u001b[1;34m\" minimum of %d is required%s.\"\u001b[0m\u001b[1;33m\u001b[0m\u001b[0m\n\u001b[0;32m    415\u001b[0m                              % (n_samples, shape_repr, ensure_min_samples,\n\u001b[1;32m--> 416\u001b[1;33m                                 context))\n\u001b[0m\u001b[0;32m    417\u001b[0m \u001b[1;33m\u001b[0m\u001b[0m\n\u001b[0;32m    418\u001b[0m     \u001b[1;32mif\u001b[0m \u001b[0mensure_min_features\u001b[0m \u001b[1;33m>\u001b[0m \u001b[1;36m0\u001b[0m \u001b[1;32mand\u001b[0m \u001b[0marray\u001b[0m\u001b[1;33m.\u001b[0m\u001b[0mndim\u001b[0m \u001b[1;33m==\u001b[0m \u001b[1;36m2\u001b[0m\u001b[1;33m:\u001b[0m\u001b[1;33m\u001b[0m\u001b[0m\n",
      "\u001b[1;31mValueError\u001b[0m: Found array with 0 sample(s) (shape=(0, 36)) while a minimum of 1 is required."
     ]
    }
   ],
   "source": [
    "ld.score(dd_test, ee_test)\n",
    "#?"
   ]
  },
  {
   "cell_type": "code",
   "execution_count": null,
   "metadata": {
    "collapsed": true
   },
   "outputs": [],
   "source": []
  },
  {
   "cell_type": "code",
   "execution_count": 119,
   "metadata": {
    "collapsed": true
   },
   "outputs": [],
   "source": [
    "from sklearn.preprocessing import StandardScaler\n",
    "sd = StandardScaler()\n",
    "X_sd = sd.fit_transform(bb)\n",
    "y_sd = sd.fit_transform(cc)"
   ]
  },
  {
   "cell_type": "code",
   "execution_count": 122,
   "metadata": {},
   "outputs": [
    {
     "data": {
      "text/plain": [
       "1.0"
      ]
     },
     "execution_count": 122,
     "metadata": {},
     "output_type": "execute_result"
    }
   ],
   "source": [
    "X_sd.mean()\n",
    "X_sd.std()"
   ]
  },
  {
   "cell_type": "code",
   "execution_count": 124,
   "metadata": {},
   "outputs": [
    {
     "data": {
      "text/plain": [
       "0.99999999999999978"
      ]
     },
     "execution_count": 124,
     "metadata": {},
     "output_type": "execute_result"
    }
   ],
   "source": [
    "y_sd.mean()\n",
    "y_sd.std()"
   ]
  },
  {
   "cell_type": "code",
   "execution_count": 136,
   "metadata": {
    "collapsed": true
   },
   "outputs": [],
   "source": [
    "X_sd_train, X_sd_test, y_sd_train, y_sd_test = train_test_split(X_sd, y_sd, test_size = 0.3, random_state = 0)"
   ]
  },
  {
   "cell_type": "code",
   "execution_count": 179,
   "metadata": {},
   "outputs": [
    {
     "data": {
      "text/plain": [
       "LinearRegression(copy_X=True, fit_intercept=True, n_jobs=1, normalize=False)"
      ]
     },
     "execution_count": 179,
     "metadata": {},
     "output_type": "execute_result"
    }
   ],
   "source": [
    "lr_sd = LinearRegression()\n",
    "lr_sd.fit(X_sd_train, y_sd_train)"
   ]
  },
  {
   "cell_type": "code",
   "execution_count": 177,
   "metadata": {},
   "outputs": [
    {
     "name": "stdout",
     "output_type": "stream",
     "text": [
      "[ 0.00158423]\n"
     ]
    }
   ],
   "source": [
    "print(lr_sd.intercept_)"
   ]
  },
  {
   "cell_type": "code",
   "execution_count": 178,
   "metadata": {},
   "outputs": [
    {
     "ename": "AttributeError",
     "evalue": "'PolynomialFeatures' object has no attribute 'coef_'",
     "output_type": "error",
     "traceback": [
      "\u001b[1;31m---------------------------------------------------------------------------\u001b[0m",
      "\u001b[1;31mAttributeError\u001b[0m                            Traceback (most recent call last)",
      "\u001b[1;32m<ipython-input-178-cc893bc2c9aa>\u001b[0m in \u001b[0;36m<module>\u001b[1;34m()\u001b[0m\n\u001b[0;32m      1\u001b[0m \u001b[0mlr_sd\u001b[0m\u001b[1;33m.\u001b[0m\u001b[0mcoef_\u001b[0m\u001b[1;33m\u001b[0m\u001b[0m\n\u001b[1;32m----> 2\u001b[1;33m \u001b[0mpl_sd\u001b[0m\u001b[1;33m.\u001b[0m\u001b[0mcoef_\u001b[0m\u001b[1;33m\u001b[0m\u001b[0m\n\u001b[0m\u001b[0;32m      3\u001b[0m \u001b[1;31m#16個目と28個目が高くなっていることがわかるがこれはGrLivAreaとOverallQualである。\u001b[0m\u001b[1;33m\u001b[0m\u001b[1;33m\u001b[0m\u001b[0m\n",
      "\u001b[1;31mAttributeError\u001b[0m: 'PolynomialFeatures' object has no attribute 'coef_'"
     ]
    }
   ],
   "source": [
    "lr_sd.coef_\n",
    "#16個目と28個目が高くなっていることがわかるがこれはGrLivAreaとOverallQualである。\n"
   ]
  },
  {
   "cell_type": "code",
   "execution_count": 140,
   "metadata": {},
   "outputs": [
    {
     "data": {
      "text/plain": [
       "0.84289699348262137"
      ]
     },
     "execution_count": 140,
     "metadata": {},
     "output_type": "execute_result"
    }
   ],
   "source": [
    "lr_sd.score(X_sd_train, y_sd_train)"
   ]
  },
  {
   "cell_type": "code",
   "execution_count": 141,
   "metadata": {},
   "outputs": [
    {
     "data": {
      "text/plain": [
       "0.71983443361643151"
      ]
     },
     "execution_count": 141,
     "metadata": {},
     "output_type": "execute_result"
    }
   ],
   "source": [
    "lr_sd.score(X_sd_test, y_sd_test)\n",
    "#変数が多すぎた\n",
    "#過学習を起こしているので、係数が高いものだけ抽出する"
   ]
  },
  {
   "cell_type": "code",
   "execution_count": 145,
   "metadata": {
    "collapsed": true
   },
   "outputs": [],
   "source": [
    "ff = pd.concat([bb,cc], axis = 1)\n",
    "gg = ff.corr()"
   ]
  },
  {
   "cell_type": "code",
   "execution_count": 155,
   "metadata": {
    "collapsed": true
   },
   "outputs": [],
   "source": [
    "gg[gg.SalePrice>0.6] #[1stFlrSF, 2ndFlrSF, 3SsnPorch, BedroomAbvGr, BsmtFinSF1, BsmtFinSF2,BsmtFullBath]\n",
    "#gg[gg.SalePrice<-0.6] #何もなかった\n",
    "#6つの変数が得られた\n",
    "#list型に格納する\n",
    "hh = pd.DataFrame(data_train, columns = ['1stFlrSF', '2ndFlrSF', '3SsnPorch', 'BedroomAbvGr', 'BsmtFinSF1', 'BsmtFinSF2','BsmtFullBath'])"
   ]
  },
  {
   "cell_type": "code",
   "execution_count": 157,
   "metadata": {
    "collapsed": true
   },
   "outputs": [],
   "source": [
    "ii = np.array(hh)"
   ]
  },
  {
   "cell_type": "code",
   "execution_count": 162,
   "metadata": {
    "collapsed": true
   },
   "outputs": [],
   "source": [
    "from sklearn.preprocessing import StandardScaler\n",
    "se = StandardScaler()\n",
    "hh_se = se.fit_transform(hh)\n",
    "cc_se = se.fit_transform(cc)"
   ]
  },
  {
   "cell_type": "code",
   "execution_count": 164,
   "metadata": {
    "collapsed": true
   },
   "outputs": [],
   "source": [
    "hh_se_train, hh_se_test, cc_se_train, cc_se_test = train_test_split(hh_se, cc_se, test_size = 0.3, random_state= 0)"
   ]
  },
  {
   "cell_type": "code",
   "execution_count": 165,
   "metadata": {},
   "outputs": [
    {
     "data": {
      "text/plain": [
       "LinearRegression(copy_X=True, fit_intercept=True, n_jobs=1, normalize=False)"
      ]
     },
     "execution_count": 165,
     "metadata": {},
     "output_type": "execute_result"
    }
   ],
   "source": [
    "from sklearn.linear_model import LinearRegression\n",
    "lse = LinearRegression()\n",
    "lse.fit(hh_se_train, cc_se_train)"
   ]
  },
  {
   "cell_type": "code",
   "execution_count": 166,
   "metadata": {},
   "outputs": [
    {
     "data": {
      "text/plain": [
       "array([[ 0.70156439,  0.58678959,  0.01829633, -0.186612  ,  0.1642175 ,\n",
       "        -0.01409143,  0.04463035]])"
      ]
     },
     "execution_count": 166,
     "metadata": {},
     "output_type": "execute_result"
    }
   ],
   "source": [
    "lse.coef_"
   ]
  },
  {
   "cell_type": "code",
   "execution_count": 167,
   "metadata": {},
   "outputs": [
    {
     "data": {
      "text/plain": [
       "array([-0.00541554])"
      ]
     },
     "execution_count": 167,
     "metadata": {},
     "output_type": "execute_result"
    }
   ],
   "source": [
    "lse.intercept_"
   ]
  },
  {
   "cell_type": "code",
   "execution_count": 169,
   "metadata": {},
   "outputs": [
    {
     "data": {
      "text/plain": [
       "0.66172077148773401"
      ]
     },
     "execution_count": 169,
     "metadata": {},
     "output_type": "execute_result"
    }
   ],
   "source": [
    "lse.score(hh_se_train, cc_se_train)"
   ]
  },
  {
   "cell_type": "code",
   "execution_count": 170,
   "metadata": {},
   "outputs": [
    {
     "data": {
      "text/plain": [
       "0.52751856584875112"
      ]
     },
     "execution_count": 170,
     "metadata": {},
     "output_type": "execute_result"
    }
   ],
   "source": [
    "lse.score(hh_se_test, cc_se_test)"
   ]
  },
  {
   "cell_type": "code",
   "execution_count": 185,
   "metadata": {},
   "outputs": [
    {
     "name": "stdout",
     "output_type": "stream",
     "text": [
      "train: 0.8429\n",
      "test : 0.7198\n"
     ]
    }
   ],
   "source": [
    "print('train: %.4f' % lr_sd.score(X_sd_train, y_sd_train))\n",
    "print('test : %.4f' % lr_sd.score(X_sd_test, y_sd_test))"
   ]
  },
  {
   "cell_type": "code",
   "execution_count": 202,
   "metadata": {},
   "outputs": [
    {
     "data": {
      "text/plain": [
       "Ridge(alpha=1000, copy_X=True, fit_intercept=True, max_iter=None,\n",
       "   normalize=False, random_state=None, solver='auto', tol=0.001)"
      ]
     },
     "execution_count": 202,
     "metadata": {},
     "output_type": "execute_result"
    }
   ],
   "source": [
    "from sklearn.linear_model import Ridge\n",
    "model_ridge = Ridge(alpha = 1000)\n",
    "model_ridge.fit(X_sd_train, y_sd_train)"
   ]
  },
  {
   "cell_type": "code",
   "execution_count": 203,
   "metadata": {},
   "outputs": [
    {
     "data": {
      "text/plain": [
       "array([[ 0.08235124,  0.05819989,  0.00839024, -0.01241883,  0.06571296,\n",
       "         0.00085688,  0.0336028 ,  0.00276979,  0.01647   ,  0.00062525,\n",
       "         0.06165308,  0.05986528,  0.07111328,  0.06631032,  0.04231546,\n",
       "         0.1092149 ,  0.02907611, -0.0400729 ,  0.04006519,  0.03766166,\n",
       "         0.00305204, -0.02650932,  0.07052235, -0.0005735 , -0.00211199,\n",
       "         0.02639251,  0.0276635 ,  0.14092344,  0.00761684,  0.01582019,\n",
       "         0.07006267,  0.08522198,  0.0353525 ,  0.05581754,  0.06406626,\n",
       "        -0.00573425]])"
      ]
     },
     "execution_count": 203,
     "metadata": {},
     "output_type": "execute_result"
    }
   ],
   "source": [
    "model_ridge.coef_"
   ]
  },
  {
   "cell_type": "code",
   "execution_count": 204,
   "metadata": {},
   "outputs": [
    {
     "data": {
      "text/plain": [
       "array([-0.00188824])"
      ]
     },
     "execution_count": 204,
     "metadata": {},
     "output_type": "execute_result"
    }
   ],
   "source": [
    "model_ridge.intercept_"
   ]
  },
  {
   "cell_type": "code",
   "execution_count": 205,
   "metadata": {},
   "outputs": [
    {
     "data": {
      "text/plain": [
       "0.80946477980903819"
      ]
     },
     "execution_count": 205,
     "metadata": {},
     "output_type": "execute_result"
    }
   ],
   "source": [
    "model_ridge.score(X_sd_train, y_sd_train)"
   ]
  },
  {
   "cell_type": "code",
   "execution_count": 206,
   "metadata": {},
   "outputs": [
    {
     "data": {
      "text/plain": [
       "0.72129994146676779"
      ]
     },
     "execution_count": 206,
     "metadata": {},
     "output_type": "execute_result"
    }
   ],
   "source": [
    "model_ridge.score(X_sd_test, y_sd_test)"
   ]
  },
  {
   "cell_type": "code",
   "execution_count": 213,
   "metadata": {},
   "outputs": [
    {
     "data": {
      "text/plain": [
       "Lasso(alpha=100, copy_X=True, fit_intercept=True, max_iter=1000,\n",
       "   normalize=False, positive=False, precompute=False, random_state=None,\n",
       "   selection='cyclic', tol=0.0001, warm_start=False)"
      ]
     },
     "execution_count": 213,
     "metadata": {},
     "output_type": "execute_result"
    }
   ],
   "source": [
    "from sklearn.linear_model import Lasso\n",
    "model_lasso = Lasso(alpha = 100)\n",
    "model_lasso.fit(X_sd_train, y_sd_train)"
   ]
  },
  {
   "cell_type": "code",
   "execution_count": 214,
   "metadata": {},
   "outputs": [
    {
     "data": {
      "text/plain": [
       "array([-0.00421791])"
      ]
     },
     "execution_count": 214,
     "metadata": {},
     "output_type": "execute_result"
    }
   ],
   "source": [
    "model_lasso.intercept_"
   ]
  },
  {
   "cell_type": "code",
   "execution_count": 215,
   "metadata": {},
   "outputs": [
    {
     "data": {
      "text/plain": [
       "array([ 0.,  0.,  0.,  0.,  0., -0.,  0., -0.,  0., -0.,  0.,  0.,  0.,\n",
       "        0.,  0.,  0.,  0., -0.,  0.,  0., -0., -0.,  0., -0.,  0.,  0.,\n",
       "       -0.,  0.,  0.,  0.,  0.,  0.,  0.,  0.,  0., -0.])"
      ]
     },
     "execution_count": 215,
     "metadata": {},
     "output_type": "execute_result"
    }
   ],
   "source": [
    "model_lasso.coef_"
   ]
  },
  {
   "cell_type": "code",
   "execution_count": 216,
   "metadata": {},
   "outputs": [
    {
     "data": {
      "text/plain": [
       "0.0"
      ]
     },
     "execution_count": 216,
     "metadata": {},
     "output_type": "execute_result"
    }
   ],
   "source": [
    "model_lasso.score(X_sd_train, y_sd_train)"
   ]
  },
  {
   "cell_type": "code",
   "execution_count": 217,
   "metadata": {},
   "outputs": [
    {
     "data": {
      "text/plain": [
       "-0.00018363526626030691"
      ]
     },
     "execution_count": 217,
     "metadata": {},
     "output_type": "execute_result"
    }
   ],
   "source": [
    "model_lasso.score(X_sd_test, y_sd_test)"
   ]
  },
  {
   "cell_type": "code",
   "execution_count": 30,
   "metadata": {
    "collapsed": true
   },
   "outputs": [],
   "source": [
    "data_train = pd.read_csv('House Price train.csv')\n",
    "data_test = pd.read_csv('House Price test.csv')\n",
    "cor = data_train.corr()\n",
    "#確認\n",
    "#cor.head() \n"
   ]
  },
  {
   "cell_type": "code",
   "execution_count": 33,
   "metadata": {},
   "outputs": [
    {
     "data": {
      "text/plain": [
       "['1stFlrSF',\n",
       " 'GarageArea',\n",
       " 'GarageCars',\n",
       " 'GrLivArea',\n",
       " 'OverallQual',\n",
       " 'TotalBsmtSF',\n",
       " 'SalePrice']"
      ]
     },
     "execution_count": 33,
     "metadata": {},
     "output_type": "execute_result"
    }
   ],
   "source": [
    "b = cor[cor.SalePrice > 0.6]\n",
    "b #1stFlrSF, GarageCars, GrLivArea, OverallQual, TotalBsmtSFが得られた\n",
    "c = cor[cor.SalePrice <-0.6]\n",
    "c #なし\n",
    "d = list(b.index)\n",
    "d"
   ]
  },
  {
   "cell_type": "code",
   "execution_count": 44,
   "metadata": {},
   "outputs": [
    {
     "data": {
      "text/plain": [
       "(1460, 6)"
      ]
     },
     "execution_count": 44,
     "metadata": {},
     "output_type": "execute_result"
    }
   ],
   "source": [
    "e = pd.DataFrame(data_train, columns = ['1stFlrSF', 'GarageArea', 'GarageCars', 'GrLivArea', 'OverallQual', 'TotalBsmtSF'])\n",
    "#確認\n",
    "e.head()\n",
    "f = np.array(e)\n",
    "f.shape"
   ]
  },
  {
   "cell_type": "code",
   "execution_count": 58,
   "metadata": {},
   "outputs": [
    {
     "name": "stdout",
     "output_type": "stream",
     "text": [
      "(1460, 24)\n",
      "(1459, 23)\n"
     ]
    },
    {
     "data": {
      "text/html": [
       "<div>\n",
       "<style>\n",
       "    .dataframe thead tr:only-child th {\n",
       "        text-align: right;\n",
       "    }\n",
       "\n",
       "    .dataframe thead th {\n",
       "        text-align: left;\n",
       "    }\n",
       "\n",
       "    .dataframe tbody tr th {\n",
       "        vertical-align: top;\n",
       "    }\n",
       "</style>\n",
       "<table border=\"1\" class=\"dataframe\">\n",
       "  <thead>\n",
       "    <tr style=\"text-align: right;\">\n",
       "      <th></th>\n",
       "      <th>MSSubClass</th>\n",
       "      <th>Neighborhood</th>\n",
       "      <th>OverallQual</th>\n",
       "      <th>YearBuilt</th>\n",
       "      <th>YearRemodAdd</th>\n",
       "      <th>MasVnrType</th>\n",
       "      <th>MasVnrArea</th>\n",
       "      <th>ExterQual</th>\n",
       "      <th>Foundation</th>\n",
       "      <th>BsmtQual</th>\n",
       "      <th>...</th>\n",
       "      <th>FullBath</th>\n",
       "      <th>KitchenQual</th>\n",
       "      <th>TotRmsAbvGrd</th>\n",
       "      <th>Fireplaces</th>\n",
       "      <th>GarageType</th>\n",
       "      <th>GarageYrBlt</th>\n",
       "      <th>GarageFinish</th>\n",
       "      <th>GarageCars</th>\n",
       "      <th>GarageArea</th>\n",
       "      <th>SalePrice</th>\n",
       "    </tr>\n",
       "  </thead>\n",
       "  <tbody>\n",
       "    <tr>\n",
       "      <th>MSSubClass</th>\n",
       "      <td>1.000000</td>\n",
       "      <td>0.532233</td>\n",
       "      <td>0.471136</td>\n",
       "      <td>0.572252</td>\n",
       "      <td>0.415910</td>\n",
       "      <td>0.246813</td>\n",
       "      <td>0.212010</td>\n",
       "      <td>0.393934</td>\n",
       "      <td>0.445768</td>\n",
       "      <td>0.423389</td>\n",
       "      <td>...</td>\n",
       "      <td>0.329673</td>\n",
       "      <td>0.391700</td>\n",
       "      <td>0.253413</td>\n",
       "      <td>0.283353</td>\n",
       "      <td>0.510706</td>\n",
       "      <td>0.408647</td>\n",
       "      <td>0.438262</td>\n",
       "      <td>0.397369</td>\n",
       "      <td>0.387789</td>\n",
       "      <td>0.476982</td>\n",
       "    </tr>\n",
       "    <tr>\n",
       "      <th>Neighborhood</th>\n",
       "      <td>0.532233</td>\n",
       "      <td>1.000000</td>\n",
       "      <td>0.667647</td>\n",
       "      <td>0.683095</td>\n",
       "      <td>0.521638</td>\n",
       "      <td>0.400196</td>\n",
       "      <td>0.368029</td>\n",
       "      <td>0.631870</td>\n",
       "      <td>0.576118</td>\n",
       "      <td>0.629227</td>\n",
       "      <td>...</td>\n",
       "      <td>0.513701</td>\n",
       "      <td>0.566358</td>\n",
       "      <td>0.282979</td>\n",
       "      <td>0.315569</td>\n",
       "      <td>0.456575</td>\n",
       "      <td>0.579489</td>\n",
       "      <td>0.466576</td>\n",
       "      <td>0.585252</td>\n",
       "      <td>0.529629</td>\n",
       "      <td>0.696882</td>\n",
       "    </tr>\n",
       "    <tr>\n",
       "      <th>OverallQual</th>\n",
       "      <td>0.471136</td>\n",
       "      <td>0.667647</td>\n",
       "      <td>1.000000</td>\n",
       "      <td>0.665203</td>\n",
       "      <td>0.552825</td>\n",
       "      <td>0.449358</td>\n",
       "      <td>0.410238</td>\n",
       "      <td>0.726278</td>\n",
       "      <td>0.568969</td>\n",
       "      <td>0.644946</td>\n",
       "      <td>...</td>\n",
       "      <td>0.552153</td>\n",
       "      <td>0.673331</td>\n",
       "      <td>0.423438</td>\n",
       "      <td>0.396765</td>\n",
       "      <td>0.420713</td>\n",
       "      <td>0.574261</td>\n",
       "      <td>0.491404</td>\n",
       "      <td>0.628715</td>\n",
       "      <td>0.562022</td>\n",
       "      <td>0.790982</td>\n",
       "    </tr>\n",
       "    <tr>\n",
       "      <th>YearBuilt</th>\n",
       "      <td>0.572252</td>\n",
       "      <td>0.683095</td>\n",
       "      <td>0.665203</td>\n",
       "      <td>1.000000</td>\n",
       "      <td>0.652419</td>\n",
       "      <td>0.420443</td>\n",
       "      <td>0.298983</td>\n",
       "      <td>0.638206</td>\n",
       "      <td>0.699337</td>\n",
       "      <td>0.707715</td>\n",
       "      <td>...</td>\n",
       "      <td>0.555510</td>\n",
       "      <td>0.575836</td>\n",
       "      <td>0.246057</td>\n",
       "      <td>0.214032</td>\n",
       "      <td>0.519992</td>\n",
       "      <td>0.768672</td>\n",
       "      <td>0.554784</td>\n",
       "      <td>0.570728</td>\n",
       "      <td>0.523139</td>\n",
       "      <td>0.619545</td>\n",
       "    </tr>\n",
       "    <tr>\n",
       "      <th>YearRemodAdd</th>\n",
       "      <td>0.415910</td>\n",
       "      <td>0.521638</td>\n",
       "      <td>0.552825</td>\n",
       "      <td>0.652419</td>\n",
       "      <td>1.000000</td>\n",
       "      <td>0.310870</td>\n",
       "      <td>0.193044</td>\n",
       "      <td>0.570870</td>\n",
       "      <td>0.551916</td>\n",
       "      <td>0.545541</td>\n",
       "      <td>...</td>\n",
       "      <td>0.452501</td>\n",
       "      <td>0.611669</td>\n",
       "      <td>0.217923</td>\n",
       "      <td>0.162493</td>\n",
       "      <td>0.387933</td>\n",
       "      <td>0.617250</td>\n",
       "      <td>0.446760</td>\n",
       "      <td>0.433995</td>\n",
       "      <td>0.390554</td>\n",
       "      <td>0.535370</td>\n",
       "    </tr>\n",
       "    <tr>\n",
       "      <th>MasVnrType</th>\n",
       "      <td>0.246813</td>\n",
       "      <td>0.400196</td>\n",
       "      <td>0.449358</td>\n",
       "      <td>0.420443</td>\n",
       "      <td>0.310870</td>\n",
       "      <td>1.000000</td>\n",
       "      <td>0.579165</td>\n",
       "      <td>0.415825</td>\n",
       "      <td>0.310319</td>\n",
       "      <td>0.393052</td>\n",
       "      <td>...</td>\n",
       "      <td>0.305025</td>\n",
       "      <td>0.362377</td>\n",
       "      <td>0.194912</td>\n",
       "      <td>0.199416</td>\n",
       "      <td>0.315218</td>\n",
       "      <td>0.343755</td>\n",
       "      <td>0.323321</td>\n",
       "      <td>0.429343</td>\n",
       "      <td>0.380290</td>\n",
       "      <td>0.426997</td>\n",
       "    </tr>\n",
       "    <tr>\n",
       "      <th>MasVnrArea</th>\n",
       "      <td>0.212010</td>\n",
       "      <td>0.368029</td>\n",
       "      <td>0.410238</td>\n",
       "      <td>0.298983</td>\n",
       "      <td>0.193044</td>\n",
       "      <td>0.579165</td>\n",
       "      <td>1.000000</td>\n",
       "      <td>0.349637</td>\n",
       "      <td>0.209916</td>\n",
       "      <td>0.314065</td>\n",
       "      <td>...</td>\n",
       "      <td>0.266274</td>\n",
       "      <td>0.285190</td>\n",
       "      <td>0.280041</td>\n",
       "      <td>0.247906</td>\n",
       "      <td>0.221484</td>\n",
       "      <td>0.229848</td>\n",
       "      <td>0.251678</td>\n",
       "      <td>0.404375</td>\n",
       "      <td>0.372567</td>\n",
       "      <td>0.475241</td>\n",
       "    </tr>\n",
       "    <tr>\n",
       "      <th>ExterQual</th>\n",
       "      <td>0.393934</td>\n",
       "      <td>0.631870</td>\n",
       "      <td>0.726278</td>\n",
       "      <td>0.638206</td>\n",
       "      <td>0.570870</td>\n",
       "      <td>0.415825</td>\n",
       "      <td>0.349637</td>\n",
       "      <td>1.000000</td>\n",
       "      <td>0.597832</td>\n",
       "      <td>0.638241</td>\n",
       "      <td>...</td>\n",
       "      <td>0.497192</td>\n",
       "      <td>0.716122</td>\n",
       "      <td>0.308004</td>\n",
       "      <td>0.249335</td>\n",
       "      <td>0.378696</td>\n",
       "      <td>0.590883</td>\n",
       "      <td>0.482143</td>\n",
       "      <td>0.557218</td>\n",
       "      <td>0.495778</td>\n",
       "      <td>0.682639</td>\n",
       "    </tr>\n",
       "    <tr>\n",
       "      <th>Foundation</th>\n",
       "      <td>0.445768</td>\n",
       "      <td>0.576118</td>\n",
       "      <td>0.568969</td>\n",
       "      <td>0.699337</td>\n",
       "      <td>0.551916</td>\n",
       "      <td>0.310319</td>\n",
       "      <td>0.209916</td>\n",
       "      <td>0.597832</td>\n",
       "      <td>1.000000</td>\n",
       "      <td>0.621976</td>\n",
       "      <td>...</td>\n",
       "      <td>0.462312</td>\n",
       "      <td>0.533146</td>\n",
       "      <td>0.180213</td>\n",
       "      <td>0.113338</td>\n",
       "      <td>0.401139</td>\n",
       "      <td>0.644742</td>\n",
       "      <td>0.487728</td>\n",
       "      <td>0.458128</td>\n",
       "      <td>0.398155</td>\n",
       "      <td>0.505503</td>\n",
       "    </tr>\n",
       "    <tr>\n",
       "      <th>BsmtQual</th>\n",
       "      <td>0.423389</td>\n",
       "      <td>0.629227</td>\n",
       "      <td>0.644946</td>\n",
       "      <td>0.707715</td>\n",
       "      <td>0.545541</td>\n",
       "      <td>0.393052</td>\n",
       "      <td>0.314065</td>\n",
       "      <td>0.638241</td>\n",
       "      <td>0.621976</td>\n",
       "      <td>1.000000</td>\n",
       "      <td>...</td>\n",
       "      <td>0.523471</td>\n",
       "      <td>0.562345</td>\n",
       "      <td>0.238832</td>\n",
       "      <td>0.227714</td>\n",
       "      <td>0.424760</td>\n",
       "      <td>0.642954</td>\n",
       "      <td>0.525068</td>\n",
       "      <td>0.545306</td>\n",
       "      <td>0.458693</td>\n",
       "      <td>0.635361</td>\n",
       "    </tr>\n",
       "    <tr>\n",
       "      <th>TotalBsmtSF</th>\n",
       "      <td>0.291599</td>\n",
       "      <td>0.456092</td>\n",
       "      <td>0.537808</td>\n",
       "      <td>0.434021</td>\n",
       "      <td>0.328112</td>\n",
       "      <td>0.374961</td>\n",
       "      <td>0.362452</td>\n",
       "      <td>0.470580</td>\n",
       "      <td>0.357950</td>\n",
       "      <td>0.410438</td>\n",
       "      <td>...</td>\n",
       "      <td>0.328368</td>\n",
       "      <td>0.432630</td>\n",
       "      <td>0.265278</td>\n",
       "      <td>0.339519</td>\n",
       "      <td>0.323174</td>\n",
       "      <td>0.337550</td>\n",
       "      <td>0.335570</td>\n",
       "      <td>0.471133</td>\n",
       "      <td>0.486665</td>\n",
       "      <td>0.613581</td>\n",
       "    </tr>\n",
       "    <tr>\n",
       "      <th>HeatingQC</th>\n",
       "      <td>0.305789</td>\n",
       "      <td>0.420371</td>\n",
       "      <td>0.457083</td>\n",
       "      <td>0.479935</td>\n",
       "      <td>0.519679</td>\n",
       "      <td>0.245128</td>\n",
       "      <td>0.159256</td>\n",
       "      <td>0.520027</td>\n",
       "      <td>0.519447</td>\n",
       "      <td>0.410107</td>\n",
       "      <td>...</td>\n",
       "      <td>0.342358</td>\n",
       "      <td>0.504228</td>\n",
       "      <td>0.159916</td>\n",
       "      <td>0.129689</td>\n",
       "      <td>0.276766</td>\n",
       "      <td>0.476886</td>\n",
       "      <td>0.376344</td>\n",
       "      <td>0.337794</td>\n",
       "      <td>0.295462</td>\n",
       "      <td>0.427649</td>\n",
       "    </tr>\n",
       "    <tr>\n",
       "      <th>1stFlrSF</th>\n",
       "      <td>0.237884</td>\n",
       "      <td>0.405290</td>\n",
       "      <td>0.476224</td>\n",
       "      <td>0.349924</td>\n",
       "      <td>0.295100</td>\n",
       "      <td>0.343786</td>\n",
       "      <td>0.342160</td>\n",
       "      <td>0.397835</td>\n",
       "      <td>0.208966</td>\n",
       "      <td>0.362984</td>\n",
       "      <td>...</td>\n",
       "      <td>0.383710</td>\n",
       "      <td>0.387027</td>\n",
       "      <td>0.392750</td>\n",
       "      <td>0.410531</td>\n",
       "      <td>0.305210</td>\n",
       "      <td>0.251468</td>\n",
       "      <td>0.296095</td>\n",
       "      <td>0.464177</td>\n",
       "      <td>0.489782</td>\n",
       "      <td>0.605852</td>\n",
       "    </tr>\n",
       "    <tr>\n",
       "      <th>GrLivArea</th>\n",
       "      <td>0.347673</td>\n",
       "      <td>0.411751</td>\n",
       "      <td>0.593007</td>\n",
       "      <td>0.369635</td>\n",
       "      <td>0.325158</td>\n",
       "      <td>0.248026</td>\n",
       "      <td>0.389893</td>\n",
       "      <td>0.435986</td>\n",
       "      <td>0.282314</td>\n",
       "      <td>0.369656</td>\n",
       "      <td>...</td>\n",
       "      <td>0.613537</td>\n",
       "      <td>0.420563</td>\n",
       "      <td>0.809778</td>\n",
       "      <td>0.461679</td>\n",
       "      <td>0.292680</td>\n",
       "      <td>0.310591</td>\n",
       "      <td>0.319453</td>\n",
       "      <td>0.490960</td>\n",
       "      <td>0.468997</td>\n",
       "      <td>0.708624</td>\n",
       "    </tr>\n",
       "    <tr>\n",
       "      <th>FullBath</th>\n",
       "      <td>0.329673</td>\n",
       "      <td>0.513701</td>\n",
       "      <td>0.552153</td>\n",
       "      <td>0.555510</td>\n",
       "      <td>0.452501</td>\n",
       "      <td>0.305025</td>\n",
       "      <td>0.266274</td>\n",
       "      <td>0.497192</td>\n",
       "      <td>0.462312</td>\n",
       "      <td>0.523471</td>\n",
       "      <td>...</td>\n",
       "      <td>1.000000</td>\n",
       "      <td>0.439960</td>\n",
       "      <td>0.522919</td>\n",
       "      <td>0.244451</td>\n",
       "      <td>0.364099</td>\n",
       "      <td>0.497623</td>\n",
       "      <td>0.420880</td>\n",
       "      <td>0.476583</td>\n",
       "      <td>0.416933</td>\n",
       "      <td>0.553851</td>\n",
       "    </tr>\n",
       "    <tr>\n",
       "      <th>KitchenQual</th>\n",
       "      <td>0.391700</td>\n",
       "      <td>0.566358</td>\n",
       "      <td>0.673331</td>\n",
       "      <td>0.575836</td>\n",
       "      <td>0.611669</td>\n",
       "      <td>0.362377</td>\n",
       "      <td>0.285190</td>\n",
       "      <td>0.716122</td>\n",
       "      <td>0.533146</td>\n",
       "      <td>0.562345</td>\n",
       "      <td>...</td>\n",
       "      <td>0.439960</td>\n",
       "      <td>1.000000</td>\n",
       "      <td>0.295499</td>\n",
       "      <td>0.256409</td>\n",
       "      <td>0.339323</td>\n",
       "      <td>0.536959</td>\n",
       "      <td>0.423690</td>\n",
       "      <td>0.535777</td>\n",
       "      <td>0.489606</td>\n",
       "      <td>0.659600</td>\n",
       "    </tr>\n",
       "    <tr>\n",
       "      <th>TotRmsAbvGrd</th>\n",
       "      <td>0.253413</td>\n",
       "      <td>0.282979</td>\n",
       "      <td>0.423438</td>\n",
       "      <td>0.246057</td>\n",
       "      <td>0.217923</td>\n",
       "      <td>0.194912</td>\n",
       "      <td>0.280041</td>\n",
       "      <td>0.308004</td>\n",
       "      <td>0.180213</td>\n",
       "      <td>0.238832</td>\n",
       "      <td>...</td>\n",
       "      <td>0.522919</td>\n",
       "      <td>0.295499</td>\n",
       "      <td>1.000000</td>\n",
       "      <td>0.319088</td>\n",
       "      <td>0.203209</td>\n",
       "      <td>0.213629</td>\n",
       "      <td>0.224545</td>\n",
       "      <td>0.399737</td>\n",
       "      <td>0.331666</td>\n",
       "      <td>0.537672</td>\n",
       "    </tr>\n",
       "    <tr>\n",
       "      <th>Fireplaces</th>\n",
       "      <td>0.283353</td>\n",
       "      <td>0.315569</td>\n",
       "      <td>0.396765</td>\n",
       "      <td>0.214032</td>\n",
       "      <td>0.162493</td>\n",
       "      <td>0.199416</td>\n",
       "      <td>0.247906</td>\n",
       "      <td>0.249335</td>\n",
       "      <td>0.113338</td>\n",
       "      <td>0.227714</td>\n",
       "      <td>...</td>\n",
       "      <td>0.244451</td>\n",
       "      <td>0.256409</td>\n",
       "      <td>0.319088</td>\n",
       "      <td>1.000000</td>\n",
       "      <td>0.289770</td>\n",
       "      <td>0.127751</td>\n",
       "      <td>0.269653</td>\n",
       "      <td>0.300840</td>\n",
       "      <td>0.269141</td>\n",
       "      <td>0.466929</td>\n",
       "    </tr>\n",
       "    <tr>\n",
       "      <th>GarageType</th>\n",
       "      <td>0.510706</td>\n",
       "      <td>0.456575</td>\n",
       "      <td>0.420713</td>\n",
       "      <td>0.519992</td>\n",
       "      <td>0.387933</td>\n",
       "      <td>0.315218</td>\n",
       "      <td>0.221484</td>\n",
       "      <td>0.378696</td>\n",
       "      <td>0.401139</td>\n",
       "      <td>0.424760</td>\n",
       "      <td>...</td>\n",
       "      <td>0.364099</td>\n",
       "      <td>0.339323</td>\n",
       "      <td>0.203209</td>\n",
       "      <td>0.289770</td>\n",
       "      <td>1.000000</td>\n",
       "      <td>0.387758</td>\n",
       "      <td>0.568232</td>\n",
       "      <td>0.264771</td>\n",
       "      <td>0.209133</td>\n",
       "      <td>0.430770</td>\n",
       "    </tr>\n",
       "    <tr>\n",
       "      <th>GarageYrBlt</th>\n",
       "      <td>0.408647</td>\n",
       "      <td>0.579489</td>\n",
       "      <td>0.574261</td>\n",
       "      <td>0.768672</td>\n",
       "      <td>0.617250</td>\n",
       "      <td>0.343755</td>\n",
       "      <td>0.229848</td>\n",
       "      <td>0.590883</td>\n",
       "      <td>0.644742</td>\n",
       "      <td>0.642954</td>\n",
       "      <td>...</td>\n",
       "      <td>0.497623</td>\n",
       "      <td>0.536959</td>\n",
       "      <td>0.213629</td>\n",
       "      <td>0.127751</td>\n",
       "      <td>0.387758</td>\n",
       "      <td>1.000000</td>\n",
       "      <td>0.500379</td>\n",
       "      <td>0.485292</td>\n",
       "      <td>0.462037</td>\n",
       "      <td>0.535419</td>\n",
       "    </tr>\n",
       "    <tr>\n",
       "      <th>GarageFinish</th>\n",
       "      <td>0.438262</td>\n",
       "      <td>0.466576</td>\n",
       "      <td>0.491404</td>\n",
       "      <td>0.554784</td>\n",
       "      <td>0.446760</td>\n",
       "      <td>0.323321</td>\n",
       "      <td>0.251678</td>\n",
       "      <td>0.482143</td>\n",
       "      <td>0.487728</td>\n",
       "      <td>0.525068</td>\n",
       "      <td>...</td>\n",
       "      <td>0.420880</td>\n",
       "      <td>0.423690</td>\n",
       "      <td>0.224545</td>\n",
       "      <td>0.269653</td>\n",
       "      <td>0.568232</td>\n",
       "      <td>0.500379</td>\n",
       "      <td>1.000000</td>\n",
       "      <td>0.365879</td>\n",
       "      <td>0.301241</td>\n",
       "      <td>0.496031</td>\n",
       "    </tr>\n",
       "    <tr>\n",
       "      <th>GarageCars</th>\n",
       "      <td>0.397369</td>\n",
       "      <td>0.585252</td>\n",
       "      <td>0.628715</td>\n",
       "      <td>0.570728</td>\n",
       "      <td>0.433995</td>\n",
       "      <td>0.429343</td>\n",
       "      <td>0.404375</td>\n",
       "      <td>0.557218</td>\n",
       "      <td>0.458128</td>\n",
       "      <td>0.545306</td>\n",
       "      <td>...</td>\n",
       "      <td>0.476583</td>\n",
       "      <td>0.535777</td>\n",
       "      <td>0.399737</td>\n",
       "      <td>0.300840</td>\n",
       "      <td>0.264771</td>\n",
       "      <td>0.485292</td>\n",
       "      <td>0.365879</td>\n",
       "      <td>1.000000</td>\n",
       "      <td>0.865866</td>\n",
       "      <td>0.692360</td>\n",
       "    </tr>\n",
       "    <tr>\n",
       "      <th>GarageArea</th>\n",
       "      <td>0.387789</td>\n",
       "      <td>0.529629</td>\n",
       "      <td>0.562022</td>\n",
       "      <td>0.523139</td>\n",
       "      <td>0.390554</td>\n",
       "      <td>0.380290</td>\n",
       "      <td>0.372567</td>\n",
       "      <td>0.495778</td>\n",
       "      <td>0.398155</td>\n",
       "      <td>0.458693</td>\n",
       "      <td>...</td>\n",
       "      <td>0.416933</td>\n",
       "      <td>0.489606</td>\n",
       "      <td>0.331666</td>\n",
       "      <td>0.269141</td>\n",
       "      <td>0.209133</td>\n",
       "      <td>0.462037</td>\n",
       "      <td>0.301241</td>\n",
       "      <td>0.865866</td>\n",
       "      <td>1.000000</td>\n",
       "      <td>0.623431</td>\n",
       "    </tr>\n",
       "    <tr>\n",
       "      <th>SalePrice</th>\n",
       "      <td>0.476982</td>\n",
       "      <td>0.696882</td>\n",
       "      <td>0.790982</td>\n",
       "      <td>0.619545</td>\n",
       "      <td>0.535370</td>\n",
       "      <td>0.426997</td>\n",
       "      <td>0.475241</td>\n",
       "      <td>0.682639</td>\n",
       "      <td>0.505503</td>\n",
       "      <td>0.635361</td>\n",
       "      <td>...</td>\n",
       "      <td>0.553851</td>\n",
       "      <td>0.659600</td>\n",
       "      <td>0.537672</td>\n",
       "      <td>0.466929</td>\n",
       "      <td>0.430770</td>\n",
       "      <td>0.535419</td>\n",
       "      <td>0.496031</td>\n",
       "      <td>0.692360</td>\n",
       "      <td>0.623431</td>\n",
       "      <td>1.000000</td>\n",
       "    </tr>\n",
       "  </tbody>\n",
       "</table>\n",
       "<p>24 rows × 24 columns</p>\n",
       "</div>"
      ],
      "text/plain": [
       "              MSSubClass  Neighborhood  OverallQual  YearBuilt  YearRemodAdd  \\\n",
       "MSSubClass      1.000000      0.532233     0.471136   0.572252      0.415910   \n",
       "Neighborhood    0.532233      1.000000     0.667647   0.683095      0.521638   \n",
       "OverallQual     0.471136      0.667647     1.000000   0.665203      0.552825   \n",
       "YearBuilt       0.572252      0.683095     0.665203   1.000000      0.652419   \n",
       "YearRemodAdd    0.415910      0.521638     0.552825   0.652419      1.000000   \n",
       "MasVnrType      0.246813      0.400196     0.449358   0.420443      0.310870   \n",
       "MasVnrArea      0.212010      0.368029     0.410238   0.298983      0.193044   \n",
       "ExterQual       0.393934      0.631870     0.726278   0.638206      0.570870   \n",
       "Foundation      0.445768      0.576118     0.568969   0.699337      0.551916   \n",
       "BsmtQual        0.423389      0.629227     0.644946   0.707715      0.545541   \n",
       "TotalBsmtSF     0.291599      0.456092     0.537808   0.434021      0.328112   \n",
       "HeatingQC       0.305789      0.420371     0.457083   0.479935      0.519679   \n",
       "1stFlrSF        0.237884      0.405290     0.476224   0.349924      0.295100   \n",
       "GrLivArea       0.347673      0.411751     0.593007   0.369635      0.325158   \n",
       "FullBath        0.329673      0.513701     0.552153   0.555510      0.452501   \n",
       "KitchenQual     0.391700      0.566358     0.673331   0.575836      0.611669   \n",
       "TotRmsAbvGrd    0.253413      0.282979     0.423438   0.246057      0.217923   \n",
       "Fireplaces      0.283353      0.315569     0.396765   0.214032      0.162493   \n",
       "GarageType      0.510706      0.456575     0.420713   0.519992      0.387933   \n",
       "GarageYrBlt     0.408647      0.579489     0.574261   0.768672      0.617250   \n",
       "GarageFinish    0.438262      0.466576     0.491404   0.554784      0.446760   \n",
       "GarageCars      0.397369      0.585252     0.628715   0.570728      0.433995   \n",
       "GarageArea      0.387789      0.529629     0.562022   0.523139      0.390554   \n",
       "SalePrice       0.476982      0.696882     0.790982   0.619545      0.535370   \n",
       "\n",
       "              MasVnrType  MasVnrArea  ExterQual  Foundation  BsmtQual  \\\n",
       "MSSubClass      0.246813    0.212010   0.393934    0.445768  0.423389   \n",
       "Neighborhood    0.400196    0.368029   0.631870    0.576118  0.629227   \n",
       "OverallQual     0.449358    0.410238   0.726278    0.568969  0.644946   \n",
       "YearBuilt       0.420443    0.298983   0.638206    0.699337  0.707715   \n",
       "YearRemodAdd    0.310870    0.193044   0.570870    0.551916  0.545541   \n",
       "MasVnrType      1.000000    0.579165   0.415825    0.310319  0.393052   \n",
       "MasVnrArea      0.579165    1.000000   0.349637    0.209916  0.314065   \n",
       "ExterQual       0.415825    0.349637   1.000000    0.597832  0.638241   \n",
       "Foundation      0.310319    0.209916   0.597832    1.000000  0.621976   \n",
       "BsmtQual        0.393052    0.314065   0.638241    0.621976  1.000000   \n",
       "TotalBsmtSF     0.374961    0.362452   0.470580    0.357950  0.410438   \n",
       "HeatingQC       0.245128    0.159256   0.520027    0.519447  0.410107   \n",
       "1stFlrSF        0.343786    0.342160   0.397835    0.208966  0.362984   \n",
       "GrLivArea       0.248026    0.389893   0.435986    0.282314  0.369656   \n",
       "FullBath        0.305025    0.266274   0.497192    0.462312  0.523471   \n",
       "KitchenQual     0.362377    0.285190   0.716122    0.533146  0.562345   \n",
       "TotRmsAbvGrd    0.194912    0.280041   0.308004    0.180213  0.238832   \n",
       "Fireplaces      0.199416    0.247906   0.249335    0.113338  0.227714   \n",
       "GarageType      0.315218    0.221484   0.378696    0.401139  0.424760   \n",
       "GarageYrBlt     0.343755    0.229848   0.590883    0.644742  0.642954   \n",
       "GarageFinish    0.323321    0.251678   0.482143    0.487728  0.525068   \n",
       "GarageCars      0.429343    0.404375   0.557218    0.458128  0.545306   \n",
       "GarageArea      0.380290    0.372567   0.495778    0.398155  0.458693   \n",
       "SalePrice       0.426997    0.475241   0.682639    0.505503  0.635361   \n",
       "\n",
       "                ...      FullBath  KitchenQual  TotRmsAbvGrd  Fireplaces  \\\n",
       "MSSubClass      ...      0.329673     0.391700      0.253413    0.283353   \n",
       "Neighborhood    ...      0.513701     0.566358      0.282979    0.315569   \n",
       "OverallQual     ...      0.552153     0.673331      0.423438    0.396765   \n",
       "YearBuilt       ...      0.555510     0.575836      0.246057    0.214032   \n",
       "YearRemodAdd    ...      0.452501     0.611669      0.217923    0.162493   \n",
       "MasVnrType      ...      0.305025     0.362377      0.194912    0.199416   \n",
       "MasVnrArea      ...      0.266274     0.285190      0.280041    0.247906   \n",
       "ExterQual       ...      0.497192     0.716122      0.308004    0.249335   \n",
       "Foundation      ...      0.462312     0.533146      0.180213    0.113338   \n",
       "BsmtQual        ...      0.523471     0.562345      0.238832    0.227714   \n",
       "TotalBsmtSF     ...      0.328368     0.432630      0.265278    0.339519   \n",
       "HeatingQC       ...      0.342358     0.504228      0.159916    0.129689   \n",
       "1stFlrSF        ...      0.383710     0.387027      0.392750    0.410531   \n",
       "GrLivArea       ...      0.613537     0.420563      0.809778    0.461679   \n",
       "FullBath        ...      1.000000     0.439960      0.522919    0.244451   \n",
       "KitchenQual     ...      0.439960     1.000000      0.295499    0.256409   \n",
       "TotRmsAbvGrd    ...      0.522919     0.295499      1.000000    0.319088   \n",
       "Fireplaces      ...      0.244451     0.256409      0.319088    1.000000   \n",
       "GarageType      ...      0.364099     0.339323      0.203209    0.289770   \n",
       "GarageYrBlt     ...      0.497623     0.536959      0.213629    0.127751   \n",
       "GarageFinish    ...      0.420880     0.423690      0.224545    0.269653   \n",
       "GarageCars      ...      0.476583     0.535777      0.399737    0.300840   \n",
       "GarageArea      ...      0.416933     0.489606      0.331666    0.269141   \n",
       "SalePrice       ...      0.553851     0.659600      0.537672    0.466929   \n",
       "\n",
       "              GarageType  GarageYrBlt  GarageFinish  GarageCars  GarageArea  \\\n",
       "MSSubClass      0.510706     0.408647      0.438262    0.397369    0.387789   \n",
       "Neighborhood    0.456575     0.579489      0.466576    0.585252    0.529629   \n",
       "OverallQual     0.420713     0.574261      0.491404    0.628715    0.562022   \n",
       "YearBuilt       0.519992     0.768672      0.554784    0.570728    0.523139   \n",
       "YearRemodAdd    0.387933     0.617250      0.446760    0.433995    0.390554   \n",
       "MasVnrType      0.315218     0.343755      0.323321    0.429343    0.380290   \n",
       "MasVnrArea      0.221484     0.229848      0.251678    0.404375    0.372567   \n",
       "ExterQual       0.378696     0.590883      0.482143    0.557218    0.495778   \n",
       "Foundation      0.401139     0.644742      0.487728    0.458128    0.398155   \n",
       "BsmtQual        0.424760     0.642954      0.525068    0.545306    0.458693   \n",
       "TotalBsmtSF     0.323174     0.337550      0.335570    0.471133    0.486665   \n",
       "HeatingQC       0.276766     0.476886      0.376344    0.337794    0.295462   \n",
       "1stFlrSF        0.305210     0.251468      0.296095    0.464177    0.489782   \n",
       "GrLivArea       0.292680     0.310591      0.319453    0.490960    0.468997   \n",
       "FullBath        0.364099     0.497623      0.420880    0.476583    0.416933   \n",
       "KitchenQual     0.339323     0.536959      0.423690    0.535777    0.489606   \n",
       "TotRmsAbvGrd    0.203209     0.213629      0.224545    0.399737    0.331666   \n",
       "Fireplaces      0.289770     0.127751      0.269653    0.300840    0.269141   \n",
       "GarageType      1.000000     0.387758      0.568232    0.264771    0.209133   \n",
       "GarageYrBlt     0.387758     1.000000      0.500379    0.485292    0.462037   \n",
       "GarageFinish    0.568232     0.500379      1.000000    0.365879    0.301241   \n",
       "GarageCars      0.264771     0.485292      0.365879    1.000000    0.865866   \n",
       "GarageArea      0.209133     0.462037      0.301241    0.865866    1.000000   \n",
       "SalePrice       0.430770     0.535419      0.496031    0.692360    0.623431   \n",
       "\n",
       "              SalePrice  \n",
       "MSSubClass     0.476982  \n",
       "Neighborhood   0.696882  \n",
       "OverallQual    0.790982  \n",
       "YearBuilt      0.619545  \n",
       "YearRemodAdd   0.535370  \n",
       "MasVnrType     0.426997  \n",
       "MasVnrArea     0.475241  \n",
       "ExterQual      0.682639  \n",
       "Foundation     0.505503  \n",
       "BsmtQual       0.635361  \n",
       "TotalBsmtSF    0.613581  \n",
       "HeatingQC      0.427649  \n",
       "1stFlrSF       0.605852  \n",
       "GrLivArea      0.708624  \n",
       "FullBath       0.553851  \n",
       "KitchenQual    0.659600  \n",
       "TotRmsAbvGrd   0.537672  \n",
       "Fireplaces     0.466929  \n",
       "GarageType     0.430770  \n",
       "GarageYrBlt    0.535419  \n",
       "GarageFinish   0.496031  \n",
       "GarageCars     0.692360  \n",
       "GarageArea     0.623431  \n",
       "SalePrice      1.000000  \n",
       "\n",
       "[24 rows x 24 columns]"
      ]
     },
     "execution_count": 58,
     "metadata": {},
     "output_type": "execute_result"
    }
   ],
   "source": [
    "data_train = pd.read_csv('House Price Mapping train.csv')\n",
    "data_test = pd.read_csv('House Price Mapping test.csv')\n",
    "print(data_train.shape)\n",
    "print(data_test.shape)\n",
    "data_train.corr()"
   ]
  },
  {
   "cell_type": "code",
   "execution_count": null,
   "metadata": {
    "collapsed": true
   },
   "outputs": [],
   "source": [
    "#一番最初"
   ]
  }
 ],
 "metadata": {
  "kernelspec": {
   "display_name": "Python 3",
   "language": "python",
   "name": "python3"
  },
  "language_info": {
   "codemirror_mode": {
    "name": "ipython",
    "version": 3
   },
   "file_extension": ".py",
   "mimetype": "text/x-python",
   "name": "python",
   "nbconvert_exporter": "python",
   "pygments_lexer": "ipython3",
   "version": "3.6.1"
  }
 },
 "nbformat": 4,
 "nbformat_minor": 2
}
