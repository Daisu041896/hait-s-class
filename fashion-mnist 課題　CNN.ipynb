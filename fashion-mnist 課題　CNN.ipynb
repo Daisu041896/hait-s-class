{
 "cells": [
  {
   "cell_type": "code",
   "execution_count": 1,
   "metadata": {
    "collapsed": true
   },
   "outputs": [],
   "source": [
    "#numpyなどとデータをインポート\n",
    "import numpy as np\n",
    "import matplotlib.pyplot as plt\n",
    "% matplotlib inline\n",
    "from utils import mnist_reader\n",
    "from utils.mnist_reader import load_mnist"
   ]
  },
  {
   "cell_type": "code",
   "execution_count": 2,
   "metadata": {
    "collapsed": true
   },
   "outputs": [],
   "source": [
    "#データを変数に格納\n",
    "X_train, y_train = mnist_reader.load_mnist('data/fashion', kind='train')\n",
    "X_test, y_test = mnist_reader.load_mnist('data/fashion', kind='t10k')"
   ]
  },
  {
   "cell_type": "code",
   "execution_count": 3,
   "metadata": {
    "collapsed": true
   },
   "outputs": [],
   "source": [
    "#全てのデータをchainerで扱える型に変更\n",
    "X_train = X_train.astype(np.float32)\n",
    "X_test = X_test.astype(np.float32)\n",
    "y_train = y_train.astype(np.int32)\n",
    "y_test = y_test.astype(np.int32)"
   ]
  },
  {
   "cell_type": "code",
   "execution_count": 4,
   "metadata": {},
   "outputs": [
    {
     "name": "stdout",
     "output_type": "stream",
     "text": [
      "(60000, 784)\n",
      "(60000,)\n",
      "(10000, 784)\n",
      "(10000,)\n"
     ]
    }
   ],
   "source": [
    "print(X_train.shape)\n",
    "print(y_train.shape)\n",
    "print(X_test.shape)\n",
    "print(y_test.shape)"
   ]
  },
  {
   "cell_type": "code",
   "execution_count": 5,
   "metadata": {},
   "outputs": [
    {
     "data": {
      "text/plain": [
       "['T-shirt/top',\n",
       " 'Trouser',\n",
       " 'Pullover',\n",
       " 'Dress',\n",
       " 'Coat',\n",
       " 'Sandal',\n",
       " 'Shirt',\n",
       " 'Sneaker',\n",
       " 'Bag',\n",
       " 'Ankle Boot']"
      ]
     },
     "execution_count": 5,
     "metadata": {},
     "output_type": "execute_result"
    }
   ],
   "source": [
    "label = {0: 'T-shirt/top', 1: 'Trouser', 2: 'Pullover', 3: 'Dress', 4: 'Coat', 5: 'Sandal', 6: 'Shirt', 7: 'Sneaker', 8: 'Bag', 9:'Ankle Boot'}\n",
    "class_label = list(label.values())\n",
    "class_label"
   ]
  },
  {
   "cell_type": "code",
   "execution_count": 6,
   "metadata": {},
   "outputs": [
    {
     "name": "stdout",
     "output_type": "stream",
     "text": [
      "255.0\n",
      "255.0\n"
     ]
    }
   ],
   "source": [
    "#正規化\n",
    "print(X_train.max())\n",
    "print(X_test.max())\n",
    "X_train_1 = X_train /255\n",
    "X_test_1 = X_test /255"
   ]
  },
  {
   "cell_type": "code",
   "execution_count": 8,
   "metadata": {},
   "outputs": [
    {
     "name": "stdout",
     "output_type": "stream",
     "text": [
      "4 4\n"
     ]
    }
   ],
   "source": [
    "X_train = X_train.reshape(60000, 1, 28, 28)\n",
    "X_test = X_test.reshape(10000, 1, 28, 28)\n",
    "print(X_train.ndim, X_test.ndim)"
   ]
  },
  {
   "cell_type": "code",
   "execution_count": 9,
   "metadata": {
    "collapsed": true
   },
   "outputs": [],
   "source": [
    "import chainer\n",
    "import chainer.functions as F\n",
    "import chainer.links as L\n",
    "from chainer import optimizers"
   ]
  },
  {
   "cell_type": "code",
   "execution_count": 10,
   "metadata": {
    "collapsed": true
   },
   "outputs": [],
   "source": [
    "class CNN(chainer.Chain):\n",
    "    def __init__(self):\n",
    "        super().__init__()\n",
    "        with self.init_scope():\n",
    "            self.conv1 = L.Convolution2D(in_channels=1, out_channels=64, ksize=4, stride=1, pad=2)\n",
    "            self.conv2 = L.Convolution2D(in_channels=64, out_channels=128, ksize=4, stride=1, pad=2)\n",
    "            self.conv3 = L.Convolution2D(in_channels=None, out_channels=128, ksize=4, stride=1, pad=2) # in_channelをNoneで省略\n",
    "            self.fc4 = L.Linear(None, 512)\n",
    "            self.fc5 = L.Linear(None, 10) \n",
    "\n",
    "    def __call__(self, X):\n",
    "        h = F.relu(F.max_pooling_2d(self.conv1(X), ksize=2)) # conv1の畳み込みのあとにMaxPoolingを実行\n",
    "        h = F.relu(F.max_pooling_2d(self.conv2(h), ksize=2)) # conv2の畳み込みのあとにMaxPpoolingを実行\n",
    "        h = F.relu(F.max_pooling_2d(self.conv3(h), ksize=2)) # conv3の畳み込みのあとにMaxPoolingを実行\n",
    "        h = F.relu(self.fc4(h))\n",
    "        return self.fc5(h)"
   ]
  },
  {
   "cell_type": "code",
   "execution_count": 11,
   "metadata": {
    "collapsed": true
   },
   "outputs": [],
   "source": [
    "from chainer.datasets import tuple_dataset\n",
    "from chainer.training import extensions\n",
    "from chainer import optimizers, serializers, training, iterators"
   ]
  },
  {
   "cell_type": "code",
   "execution_count": 12,
   "metadata": {
    "collapsed": true
   },
   "outputs": [],
   "source": [
    "# 分類器インスタンスの生成\n",
    "model = L.Classifier(CNN())\n",
    "\n",
    "# optimizerの生成\n",
    "optimizer = chainer.optimizers.SGD() # 今回はSGDを採用\n",
    "optimizer.setup(model)               # モデルの構造を読み込ませる\n",
    "\n",
    "# ミニバッチに含まれるサンプル数を指定\n",
    "batchsize = 100\n",
    "\n",
    "# epoch数を指定\n",
    "n_epoch = 20"
   ]
  },
  {
   "cell_type": "code",
   "execution_count": 13,
   "metadata": {
    "collapsed": true
   },
   "outputs": [],
   "source": [
    "train = tuple_dataset.TupleDataset(X_train,y_train)\n",
    "train_iter = iterators.SerialIterator(train,batch_size=batchsize,shuffle=True)\n",
    "updater = training.StandardUpdater(train_iter,optimizer)\n",
    "trainer = training.Trainer(updater,(n_epoch,'epoch'),out = 'result')"
   ]
  },
  {
   "cell_type": "code",
   "execution_count": 14,
   "metadata": {
    "collapsed": true
   },
   "outputs": [],
   "source": [
    "test = tuple_dataset.TupleDataset(X_test,y_test)\n",
    "test_iter = iterators.SerialIterator(test,batch_size=batchsize,shuffle=False,repeat=False)\n",
    "trainer.extend(extensions.Evaluator(test_iter, model))\n",
    "trainer.extend(extensions.LogReport())\n",
    "trainer.extend(extensions.PrintReport(['epoch', 'main/accuracy', 'main/loss', 'validation/main/accuracy', 'validation/main/loss']))\n",
    "trainer.extend(extensions.ProgressBar())\n",
    "trainer.extend(extensions.PlotReport(['main/accuracy', 'validation/main/accuracy'],\n",
    "                          'epoch', file_name='accuracy.png'))\n",
    "trainer.extend(extensions.PlotReport(['main/loss', 'validation/main/loss'],\n",
    "                          'epoch', file_name='loss.png'))"
   ]
  },
  {
   "cell_type": "code",
   "execution_count": null,
   "metadata": {},
   "outputs": [
    {
     "name": "stdout",
     "output_type": "stream",
     "text": [
      "epoch       main/accuracy  main/loss   validation/main/accuracy  validation/main/loss\n"
     ]
    },
    {
     "name": "stderr",
     "output_type": "stream",
     "text": [
      "C:\\Users\\daisu\\Anaconda3\\lib\\site-packages\\chainer\\reporter.py:273: RuntimeWarning: overflow encountered in multiply\n",
      "  self._x2 += value * value\n",
      "C:\\Users\\daisu\\Anaconda3\\lib\\site-packages\\chainer\\functions\\activation\\relu.py:31: RuntimeWarning: invalid value encountered in maximum\n",
      "  return utils.force_array(numpy.maximum(x[0], 0, dtype=x[0].dtype)),\n",
      "C:\\Users\\daisu\\Anaconda3\\lib\\site-packages\\chainer\\functions\\activation\\relu.py:48: RuntimeWarning: invalid value encountered in greater\n",
      "  return utils.force_array(gy[0] * (y > 0)),\n"
     ]
    },
    {
     "name": "stdout",
     "output_type": "stream",
     "text": [
      "     total [..................................................]  0.83%\n",
      "this epoch [########..........................................] 16.67%\n",
      "       100 iter, 0 epoch / 20 epochs\n",
      "       inf iters/sec. Estimated time to finish: 0:00:00.\n",
      "     total [..................................................]  1.67%\n",
      "this epoch [################..................................] 33.33%\n",
      "       200 iter, 0 epoch / 20 epochs\n",
      "   0.68459 iters/sec. Estimated time to finish: 4:47:16.547600.\n",
      "     total [#.................................................]  2.50%\n",
      "this epoch [#########################.........................] 50.00%\n",
      "       300 iter, 0 epoch / 20 epochs\n",
      "   0.67245 iters/sec. Estimated time to finish: 4:49:59.157204.\n",
      "     total [#.................................................]  3.33%\n",
      "this epoch [#################################.................] 66.67%\n",
      "       400 iter, 0 epoch / 20 epochs\n",
      "   0.67711 iters/sec. Estimated time to finish: 4:45:31.511453.\n",
      "     total [##................................................]  4.17%\n",
      "this epoch [#########################################.........] 83.33%\n",
      "       500 iter, 0 epoch / 20 epochs\n",
      "   0.67395 iters/sec. Estimated time to finish: 4:44:23.578283.\n",
      "1           0.09995        nan         0.1                       nan                   \n",
      "     total [##................................................]  5.00%\n",
      "this epoch [..................................................]  0.00%\n",
      "       600 iter, 1 epoch / 20 epochs\n",
      "   0.53882 iters/sec. Estimated time to finish: 5:52:37.237388.\n",
      "     total [##................................................]  5.83%\n",
      "this epoch [########..........................................] 16.67%\n",
      "       700 iter, 1 epoch / 20 epochs\n",
      "   0.55671 iters/sec. Estimated time to finish: 5:38:17.986763.\n",
      "     total [###...............................................]  6.67%\n",
      "this epoch [################..................................] 33.33%\n",
      "       800 iter, 1 epoch / 20 epochs\n",
      "   0.56754 iters/sec. Estimated time to finish: 5:28:54.126202.\n",
      "     total [###...............................................]  7.50%\n",
      "this epoch [#########################.........................] 50.00%\n",
      "       900 iter, 1 epoch / 20 epochs\n",
      "   0.58232 iters/sec. Estimated time to finish: 5:17:41.756571.\n",
      "     total [####..............................................]  8.33%\n",
      "this epoch [#################################.................] 66.67%\n",
      "      1000 iter, 1 epoch / 20 epochs\n",
      "   0.59685 iters/sec. Estimated time to finish: 5:07:10.174206.\n",
      "     total [####..............................................]  9.17%\n",
      "this epoch [#########################################.........] 83.33%\n",
      "      1100 iter, 1 epoch / 20 epochs\n",
      "   0.60802 iters/sec. Estimated time to finish: 4:58:47.023108.\n",
      "2           0.1            nan         0.1                       nan                   \n",
      "     total [#####.............................................] 10.00%\n",
      "this epoch [..................................................]  0.00%\n",
      "      1200 iter, 2 epoch / 20 epochs\n",
      "   0.59706 iters/sec. Estimated time to finish: 5:01:28.546443.\n",
      "     total [#####.............................................] 10.83%\n",
      "this epoch [########..........................................] 16.67%\n",
      "      1300 iter, 2 epoch / 20 epochs\n",
      "   0.60731 iters/sec. Estimated time to finish: 4:53:38.536668.\n",
      "     total [#####.............................................] 11.67%\n",
      "this epoch [################..................................] 33.33%\n",
      "      1400 iter, 2 epoch / 20 epochs\n",
      "   0.61635 iters/sec. Estimated time to finish: 4:46:37.894579.\n",
      "     total [######............................................] 12.50%\n",
      "this epoch [#########################.........................] 50.00%\n",
      "      1500 iter, 2 epoch / 20 epochs\n",
      "   0.62391 iters/sec. Estimated time to finish: 4:40:29.287030.\n",
      "     total [######............................................] 13.33%\n",
      "this epoch [#################################.................] 66.67%\n",
      "      1600 iter, 2 epoch / 20 epochs\n",
      "   0.62993 iters/sec. Estimated time to finish: 4:35:09.661141.\n",
      "     total [#######...........................................] 14.17%\n",
      "this epoch [#########################################.........] 83.33%\n",
      "      1700 iter, 2 epoch / 20 epochs\n",
      "    0.6351 iters/sec. Estimated time to finish: 4:30:18.011199.\n",
      "3           0.1            nan         0.1                       nan                   \n",
      "     total [#######...........................................] 15.00%\n",
      "this epoch [..................................................]  0.00%\n",
      "      1800 iter, 3 epoch / 20 epochs\n",
      "   0.62386 iters/sec. Estimated time to finish: 4:32:29.801986.\n",
      "     total [#######...........................................] 15.83%\n",
      "this epoch [########..........................................] 16.67%\n",
      "      1900 iter, 3 epoch / 20 epochs\n",
      "   0.62658 iters/sec. Estimated time to finish: 4:28:39.266121.\n",
      "     total [########..........................................] 16.67%\n",
      "this epoch [################..................................] 33.33%\n",
      "      2000 iter, 3 epoch / 20 epochs\n",
      "   0.63096 iters/sec. Estimated time to finish: 4:24:08.890527.\n",
      "     total [########..........................................] 17.50%\n",
      "this epoch [#########################.........................] 50.00%\n",
      "      2100 iter, 3 epoch / 20 epochs\n",
      "   0.63491 iters/sec. Estimated time to finish: 4:19:52.712203.\n",
      "     total [#########.........................................] 18.33%\n",
      "this epoch [#################################.................] 66.67%\n",
      "      2200 iter, 3 epoch / 20 epochs\n",
      "   0.63841 iters/sec. Estimated time to finish: 4:15:50.558014.\n",
      "     total [#########.........................................] 19.17%\n",
      "this epoch [#########################################.........] 83.33%\n",
      "      2300 iter, 3 epoch / 20 epochs\n",
      "   0.64169 iters/sec. Estimated time to finish: 4:11:56.384169.\n",
      "4           0.1            nan         0.1                       nan                   \n",
      "     total [##########........................................] 20.00%\n",
      "this epoch [..................................................]  0.00%\n",
      "      2400 iter, 4 epoch / 20 epochs\n",
      "   0.63283 iters/sec. Estimated time to finish: 4:12:49.925312.\n",
      "     total [##########........................................] 20.83%\n",
      "this epoch [########..........................................] 16.67%\n",
      "      2500 iter, 4 epoch / 20 epochs\n",
      "   0.63596 iters/sec. Estimated time to finish: 4:08:58.047482.\n",
      "     total [##########........................................] 21.67%\n",
      "this epoch [################..................................] 33.33%\n",
      "      2600 iter, 4 epoch / 20 epochs\n",
      "   0.63895 iters/sec. Estimated time to finish: 4:05:11.574319.\n",
      "     total [###########.......................................] 22.50%\n",
      "this epoch [#########################.........................] 50.00%\n",
      "      2700 iter, 4 epoch / 20 epochs\n",
      "    0.6418 iters/sec. Estimated time to finish: 4:01:30.438294.\n",
      "     total [###########.......................................] 23.33%\n",
      "this epoch [#################################.................] 66.67%\n",
      "      2800 iter, 4 epoch / 20 epochs\n",
      "   0.64453 iters/sec. Estimated time to finish: 3:57:54.042076.\n",
      "     total [############......................................] 24.17%\n",
      "this epoch [#########################################.........] 83.33%\n",
      "      2900 iter, 4 epoch / 20 epochs\n",
      "   0.64703 iters/sec. Estimated time to finish: 3:54:24.275566.\n",
      "5           0.1            nan         0.1                       nan                   \n",
      "     total [############......................................] 25.00%\n",
      "this epoch [..................................................]  0.00%\n",
      "      3000 iter, 5 epoch / 20 epochs\n",
      "   0.63999 iters/sec. Estimated time to finish: 3:54:22.706535.\n"
     ]
    },
    {
     "ename": "KeyboardInterrupt",
     "evalue": "",
     "output_type": "error",
     "traceback": [
      "\u001b[1;31m---------------------------------------------------------------------------\u001b[0m",
      "\u001b[1;31mKeyboardInterrupt\u001b[0m                         Traceback (most recent call last)",
      "\u001b[1;32m<ipython-input-15-3287ea1d3afc>\u001b[0m in \u001b[0;36m<module>\u001b[1;34m()\u001b[0m\n\u001b[1;32m----> 1\u001b[1;33m \u001b[0mtrainer\u001b[0m\u001b[1;33m.\u001b[0m\u001b[0mrun\u001b[0m\u001b[1;33m(\u001b[0m\u001b[1;33m)\u001b[0m\u001b[1;33m\u001b[0m\u001b[0m\n\u001b[0m",
      "\u001b[1;32mC:\\Users\\daisu\\Anaconda3\\lib\\site-packages\\chainer\\training\\trainer.py\u001b[0m in \u001b[0;36mrun\u001b[1;34m(self)\u001b[0m\n\u001b[0;32m    294\u001b[0m                 \u001b[0mself\u001b[0m\u001b[1;33m.\u001b[0m\u001b[0mobservation\u001b[0m \u001b[1;33m=\u001b[0m \u001b[1;33m{\u001b[0m\u001b[1;33m}\u001b[0m\u001b[1;33m\u001b[0m\u001b[0m\n\u001b[0;32m    295\u001b[0m                 \u001b[1;32mwith\u001b[0m \u001b[0mreporter\u001b[0m\u001b[1;33m.\u001b[0m\u001b[0mscope\u001b[0m\u001b[1;33m(\u001b[0m\u001b[0mself\u001b[0m\u001b[1;33m.\u001b[0m\u001b[0mobservation\u001b[0m\u001b[1;33m)\u001b[0m\u001b[1;33m:\u001b[0m\u001b[1;33m\u001b[0m\u001b[0m\n\u001b[1;32m--> 296\u001b[1;33m                     \u001b[0mupdate\u001b[0m\u001b[1;33m(\u001b[0m\u001b[1;33m)\u001b[0m\u001b[1;33m\u001b[0m\u001b[0m\n\u001b[0m\u001b[0;32m    297\u001b[0m                     \u001b[1;32mfor\u001b[0m \u001b[0mname\u001b[0m\u001b[1;33m,\u001b[0m \u001b[0mentry\u001b[0m \u001b[1;32min\u001b[0m \u001b[0mextensions\u001b[0m\u001b[1;33m:\u001b[0m\u001b[1;33m\u001b[0m\u001b[0m\n\u001b[0;32m    298\u001b[0m                         \u001b[1;32mif\u001b[0m \u001b[0mentry\u001b[0m\u001b[1;33m.\u001b[0m\u001b[0mtrigger\u001b[0m\u001b[1;33m(\u001b[0m\u001b[0mself\u001b[0m\u001b[1;33m)\u001b[0m\u001b[1;33m:\u001b[0m\u001b[1;33m\u001b[0m\u001b[0m\n",
      "\u001b[1;32mC:\\Users\\daisu\\Anaconda3\\lib\\site-packages\\chainer\\training\\updater.py\u001b[0m in \u001b[0;36mupdate\u001b[1;34m(self)\u001b[0m\n\u001b[0;32m    175\u001b[0m \u001b[1;33m\u001b[0m\u001b[0m\n\u001b[0;32m    176\u001b[0m     \u001b[1;32mdef\u001b[0m \u001b[0mupdate\u001b[0m\u001b[1;33m(\u001b[0m\u001b[0mself\u001b[0m\u001b[1;33m)\u001b[0m\u001b[1;33m:\u001b[0m\u001b[1;33m\u001b[0m\u001b[0m\n\u001b[1;32m--> 177\u001b[1;33m         \u001b[0mself\u001b[0m\u001b[1;33m.\u001b[0m\u001b[0mupdate_core\u001b[0m\u001b[1;33m(\u001b[0m\u001b[1;33m)\u001b[0m\u001b[1;33m\u001b[0m\u001b[0m\n\u001b[0m\u001b[0;32m    178\u001b[0m         \u001b[0mself\u001b[0m\u001b[1;33m.\u001b[0m\u001b[0miteration\u001b[0m \u001b[1;33m+=\u001b[0m \u001b[1;36m1\u001b[0m\u001b[1;33m\u001b[0m\u001b[0m\n\u001b[0;32m    179\u001b[0m \u001b[1;33m\u001b[0m\u001b[0m\n",
      "\u001b[1;32mC:\\Users\\daisu\\Anaconda3\\lib\\site-packages\\chainer\\training\\updater.py\u001b[0m in \u001b[0;36mupdate_core\u001b[1;34m(self)\u001b[0m\n\u001b[0;32m    186\u001b[0m \u001b[1;33m\u001b[0m\u001b[0m\n\u001b[0;32m    187\u001b[0m         \u001b[1;32mif\u001b[0m \u001b[0misinstance\u001b[0m\u001b[1;33m(\u001b[0m\u001b[0min_arrays\u001b[0m\u001b[1;33m,\u001b[0m \u001b[0mtuple\u001b[0m\u001b[1;33m)\u001b[0m\u001b[1;33m:\u001b[0m\u001b[1;33m\u001b[0m\u001b[0m\n\u001b[1;32m--> 188\u001b[1;33m             \u001b[0moptimizer\u001b[0m\u001b[1;33m.\u001b[0m\u001b[0mupdate\u001b[0m\u001b[1;33m(\u001b[0m\u001b[0mloss_func\u001b[0m\u001b[1;33m,\u001b[0m \u001b[1;33m*\u001b[0m\u001b[0min_arrays\u001b[0m\u001b[1;33m)\u001b[0m\u001b[1;33m\u001b[0m\u001b[0m\n\u001b[0m\u001b[0;32m    189\u001b[0m         \u001b[1;32melif\u001b[0m \u001b[0misinstance\u001b[0m\u001b[1;33m(\u001b[0m\u001b[0min_arrays\u001b[0m\u001b[1;33m,\u001b[0m \u001b[0mdict\u001b[0m\u001b[1;33m)\u001b[0m\u001b[1;33m:\u001b[0m\u001b[1;33m\u001b[0m\u001b[0m\n\u001b[0;32m    190\u001b[0m             \u001b[0moptimizer\u001b[0m\u001b[1;33m.\u001b[0m\u001b[0mupdate\u001b[0m\u001b[1;33m(\u001b[0m\u001b[0mloss_func\u001b[0m\u001b[1;33m,\u001b[0m \u001b[1;33m**\u001b[0m\u001b[0min_arrays\u001b[0m\u001b[1;33m)\u001b[0m\u001b[1;33m\u001b[0m\u001b[0m\n",
      "\u001b[1;32mC:\\Users\\daisu\\Anaconda3\\lib\\site-packages\\chainer\\optimizer.py\u001b[0m in \u001b[0;36mupdate\u001b[1;34m(self, lossfun, *args, **kwds)\u001b[0m\n\u001b[0;32m    530\u001b[0m             \u001b[1;32melse\u001b[0m\u001b[1;33m:\u001b[0m\u001b[1;33m\u001b[0m\u001b[0m\n\u001b[0;32m    531\u001b[0m                 \u001b[0mself\u001b[0m\u001b[1;33m.\u001b[0m\u001b[0mtarget\u001b[0m\u001b[1;33m.\u001b[0m\u001b[0mzerograds\u001b[0m\u001b[1;33m(\u001b[0m\u001b[1;33m)\u001b[0m\u001b[1;33m\u001b[0m\u001b[0m\n\u001b[1;32m--> 532\u001b[1;33m             \u001b[0mloss\u001b[0m\u001b[1;33m.\u001b[0m\u001b[0mbackward\u001b[0m\u001b[1;33m(\u001b[0m\u001b[1;33m)\u001b[0m\u001b[1;33m\u001b[0m\u001b[0m\n\u001b[0m\u001b[0;32m    533\u001b[0m             \u001b[1;32mdel\u001b[0m \u001b[0mloss\u001b[0m\u001b[1;33m\u001b[0m\u001b[0m\n\u001b[0;32m    534\u001b[0m \u001b[1;33m\u001b[0m\u001b[0m\n",
      "\u001b[1;32mC:\\Users\\daisu\\Anaconda3\\lib\\site-packages\\chainer\\variable.py\u001b[0m in \u001b[0;36mbackward\u001b[1;34m(self, retain_grad)\u001b[0m\n\u001b[0;32m    707\u001b[0m             func.output_data = tuple(\n\u001b[0;32m    708\u001b[0m                 [None if y is None else y.data for y in outputs])\n\u001b[1;32m--> 709\u001b[1;33m             \u001b[0mgxs\u001b[0m \u001b[1;33m=\u001b[0m \u001b[0mfunc\u001b[0m\u001b[1;33m.\u001b[0m\u001b[0mbackward\u001b[0m\u001b[1;33m(\u001b[0m\u001b[0min_data\u001b[0m\u001b[1;33m,\u001b[0m \u001b[0mout_grad\u001b[0m\u001b[1;33m)\u001b[0m\u001b[1;33m\u001b[0m\u001b[0m\n\u001b[0m\u001b[0;32m    710\u001b[0m             \u001b[1;32massert\u001b[0m \u001b[0mlen\u001b[0m\u001b[1;33m(\u001b[0m\u001b[0mgxs\u001b[0m\u001b[1;33m)\u001b[0m \u001b[1;33m==\u001b[0m \u001b[0mlen\u001b[0m\u001b[1;33m(\u001b[0m\u001b[0min_data\u001b[0m\u001b[1;33m)\u001b[0m\u001b[1;33m\u001b[0m\u001b[0m\n\u001b[0;32m    711\u001b[0m             \u001b[1;32mif\u001b[0m \u001b[1;32mnot\u001b[0m \u001b[0mgetattr\u001b[0m\u001b[1;33m(\u001b[0m\u001b[0mfunc\u001b[0m\u001b[1;33m,\u001b[0m \u001b[1;34m'_retain_after_backward'\u001b[0m\u001b[1;33m,\u001b[0m \u001b[1;32mFalse\u001b[0m\u001b[1;33m)\u001b[0m\u001b[1;33m:\u001b[0m\u001b[1;33m\u001b[0m\u001b[0m\n",
      "\u001b[1;32mC:\\Users\\daisu\\Anaconda3\\lib\\site-packages\\chainer\\function.py\u001b[0m in \u001b[0;36mbackward\u001b[1;34m(self, inputs, grad_outputs)\u001b[0m\n\u001b[0;32m    390\u001b[0m             \u001b[1;32mreturn\u001b[0m \u001b[0mself\u001b[0m\u001b[1;33m.\u001b[0m\u001b[0mbackward_gpu\u001b[0m\u001b[1;33m(\u001b[0m\u001b[0minputs\u001b[0m\u001b[1;33m,\u001b[0m \u001b[0mgrad_outputs\u001b[0m\u001b[1;33m)\u001b[0m\u001b[1;33m\u001b[0m\u001b[0m\n\u001b[0;32m    391\u001b[0m         \u001b[1;32melse\u001b[0m\u001b[1;33m:\u001b[0m\u001b[1;33m\u001b[0m\u001b[0m\n\u001b[1;32m--> 392\u001b[1;33m             \u001b[1;32mreturn\u001b[0m \u001b[0mself\u001b[0m\u001b[1;33m.\u001b[0m\u001b[0mbackward_cpu\u001b[0m\u001b[1;33m(\u001b[0m\u001b[0minputs\u001b[0m\u001b[1;33m,\u001b[0m \u001b[0mgrad_outputs\u001b[0m\u001b[1;33m)\u001b[0m\u001b[1;33m\u001b[0m\u001b[0m\n\u001b[0m\u001b[0;32m    393\u001b[0m \u001b[1;33m\u001b[0m\u001b[0m\n\u001b[0;32m    394\u001b[0m     \u001b[1;32mdef\u001b[0m \u001b[0mbackward_cpu\u001b[0m\u001b[1;33m(\u001b[0m\u001b[0mself\u001b[0m\u001b[1;33m,\u001b[0m \u001b[0minputs\u001b[0m\u001b[1;33m,\u001b[0m \u001b[0mgrad_outputs\u001b[0m\u001b[1;33m)\u001b[0m\u001b[1;33m:\u001b[0m\u001b[1;33m\u001b[0m\u001b[0m\n",
      "\u001b[1;32mC:\\Users\\daisu\\Anaconda3\\lib\\site-packages\\chainer\\functions\\pooling\\max_pooling_2d.py\u001b[0m in \u001b[0;36mbackward_cpu\u001b[1;34m(self, x, gy)\u001b[0m\n\u001b[0;32m    105\u001b[0m         \u001b[0mgcol\u001b[0m \u001b[1;33m=\u001b[0m \u001b[0mnumpy\u001b[0m\u001b[1;33m.\u001b[0m\u001b[0mswapaxes\u001b[0m\u001b[1;33m(\u001b[0m\u001b[0mgcol\u001b[0m\u001b[1;33m,\u001b[0m \u001b[1;36m3\u001b[0m\u001b[1;33m,\u001b[0m \u001b[1;36m5\u001b[0m\u001b[1;33m)\u001b[0m\u001b[1;33m\u001b[0m\u001b[0m\n\u001b[0;32m    106\u001b[0m \u001b[1;33m\u001b[0m\u001b[0m\n\u001b[1;32m--> 107\u001b[1;33m         \u001b[0mgx\u001b[0m \u001b[1;33m=\u001b[0m \u001b[0mconv\u001b[0m\u001b[1;33m.\u001b[0m\u001b[0mcol2im_cpu\u001b[0m\u001b[1;33m(\u001b[0m\u001b[0mgcol\u001b[0m\u001b[1;33m,\u001b[0m \u001b[0mself\u001b[0m\u001b[1;33m.\u001b[0m\u001b[0msy\u001b[0m\u001b[1;33m,\u001b[0m \u001b[0mself\u001b[0m\u001b[1;33m.\u001b[0m\u001b[0msx\u001b[0m\u001b[1;33m,\u001b[0m \u001b[0mself\u001b[0m\u001b[1;33m.\u001b[0m\u001b[0mph\u001b[0m\u001b[1;33m,\u001b[0m \u001b[0mself\u001b[0m\u001b[1;33m.\u001b[0m\u001b[0mpw\u001b[0m\u001b[1;33m,\u001b[0m \u001b[0mh\u001b[0m\u001b[1;33m,\u001b[0m \u001b[0mw\u001b[0m\u001b[1;33m)\u001b[0m\u001b[1;33m\u001b[0m\u001b[0m\n\u001b[0m\u001b[0;32m    108\u001b[0m         \u001b[1;32mreturn\u001b[0m \u001b[0mgx\u001b[0m\u001b[1;33m,\u001b[0m\u001b[1;33m\u001b[0m\u001b[0m\n\u001b[0;32m    109\u001b[0m \u001b[1;33m\u001b[0m\u001b[0m\n",
      "\u001b[1;32mC:\\Users\\daisu\\Anaconda3\\lib\\site-packages\\chainer\\utils\\conv.py\u001b[0m in \u001b[0;36mcol2im_cpu\u001b[1;34m(col, sy, sx, ph, pw, h, w, dy, dx)\u001b[0m\n\u001b[0;32m     86\u001b[0m             \u001b[0midx\u001b[0m \u001b[1;33m=\u001b[0m \u001b[0mi\u001b[0m \u001b[1;33m*\u001b[0m \u001b[0mdx\u001b[0m\u001b[1;33m\u001b[0m\u001b[0m\n\u001b[0;32m     87\u001b[0m             \u001b[0mi_lim\u001b[0m \u001b[1;33m=\u001b[0m \u001b[0midx\u001b[0m \u001b[1;33m+\u001b[0m \u001b[0msx\u001b[0m \u001b[1;33m*\u001b[0m \u001b[0mout_w\u001b[0m\u001b[1;33m\u001b[0m\u001b[0m\n\u001b[1;32m---> 88\u001b[1;33m             \u001b[0mimg\u001b[0m\u001b[1;33m[\u001b[0m\u001b[1;33m:\u001b[0m\u001b[1;33m,\u001b[0m \u001b[1;33m:\u001b[0m\u001b[1;33m,\u001b[0m \u001b[0mjdy\u001b[0m\u001b[1;33m:\u001b[0m\u001b[0mj_lim\u001b[0m\u001b[1;33m:\u001b[0m\u001b[0msy\u001b[0m\u001b[1;33m,\u001b[0m \u001b[0midx\u001b[0m\u001b[1;33m:\u001b[0m\u001b[0mi_lim\u001b[0m\u001b[1;33m:\u001b[0m\u001b[0msx\u001b[0m\u001b[1;33m]\u001b[0m \u001b[1;33m+=\u001b[0m \u001b[0mcol\u001b[0m\u001b[1;33m[\u001b[0m\u001b[1;33m:\u001b[0m\u001b[1;33m,\u001b[0m \u001b[1;33m:\u001b[0m\u001b[1;33m,\u001b[0m \u001b[0mj\u001b[0m\u001b[1;33m,\u001b[0m \u001b[0mi\u001b[0m\u001b[1;33m]\u001b[0m\u001b[1;33m\u001b[0m\u001b[0m\n\u001b[0m\u001b[0;32m     89\u001b[0m     \u001b[1;32mreturn\u001b[0m \u001b[0mimg\u001b[0m\u001b[1;33m[\u001b[0m\u001b[1;33m:\u001b[0m\u001b[1;33m,\u001b[0m \u001b[1;33m:\u001b[0m\u001b[1;33m,\u001b[0m \u001b[0mph\u001b[0m\u001b[1;33m:\u001b[0m\u001b[0mh\u001b[0m \u001b[1;33m+\u001b[0m \u001b[0mph\u001b[0m\u001b[1;33m,\u001b[0m \u001b[0mpw\u001b[0m\u001b[1;33m:\u001b[0m\u001b[0mw\u001b[0m \u001b[1;33m+\u001b[0m \u001b[0mpw\u001b[0m\u001b[1;33m]\u001b[0m\u001b[1;33m\u001b[0m\u001b[0m\n\u001b[0;32m     90\u001b[0m \u001b[1;33m\u001b[0m\u001b[0m\n",
      "\u001b[1;31mKeyboardInterrupt\u001b[0m: "
     ]
    }
   ],
   "source": [
    "trainer.run()"
   ]
  },
  {
   "cell_type": "code",
   "execution_count": null,
   "metadata": {
    "collapsed": true
   },
   "outputs": [],
   "source": []
  },
  {
   "cell_type": "code",
   "execution_count": null,
   "metadata": {
    "collapsed": true
   },
   "outputs": [],
   "source": []
  }
 ],
 "metadata": {
  "kernelspec": {
   "display_name": "Python 3",
   "language": "python",
   "name": "python3"
  },
  "language_info": {
   "codemirror_mode": {
    "name": "ipython",
    "version": 3
   },
   "file_extension": ".py",
   "mimetype": "text/x-python",
   "name": "python",
   "nbconvert_exporter": "python",
   "pygments_lexer": "ipython3",
   "version": "3.6.1"
  }
 },
 "nbformat": 4,
 "nbformat_minor": 2
}
