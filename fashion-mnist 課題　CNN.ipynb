{
 "cells": [
  {
   "cell_type": "code",
   "execution_count": 10,
   "metadata": {
    "collapsed": true
   },
   "outputs": [],
   "source": [
    "#numpyなどとデータをインポート\n",
    "import numpy as np\n",
    "import matplotlib.pyplot as plt\n",
    "% matplotlib inline\n",
    "from utils import mnist_reader\n",
    "from utils.mnist_reader import load_mnist"
   ]
  },
  {
   "cell_type": "code",
   "execution_count": 11,
   "metadata": {
    "collapsed": true
   },
   "outputs": [],
   "source": [
    "#データを変数に格納\n",
    "X_train, y_train = mnist_reader.load_mnist('data/fashion', kind='train')\n",
    "X_test, y_test = mnist_reader.load_mnist('data/fashion', kind='t10k')"
   ]
  },
  {
   "cell_type": "code",
   "execution_count": 12,
   "metadata": {
    "collapsed": true
   },
   "outputs": [],
   "source": [
    "#全てのデータをchainerで扱える型に変更\n",
    "X_train = X_train.astype(np.float32)\n",
    "X_test = X_test.astype(np.float32)\n",
    "y_train = y_train.astype(np.int32)\n",
    "y_test = y_test.astype(np.int32)"
   ]
  },
  {
   "cell_type": "code",
   "execution_count": 13,
   "metadata": {},
   "outputs": [
    {
     "name": "stdout",
     "output_type": "stream",
     "text": [
      "(60000, 784)\n",
      "(60000,)\n",
      "(10000, 784)\n",
      "(10000,)\n"
     ]
    }
   ],
   "source": [
    "#それぞれの行列の形を出力\n",
    "print(X_train.shape)\n",
    "print(y_train.shape)\n",
    "print(X_test.shape)\n",
    "print(y_test.shape)"
   ]
  },
  {
   "cell_type": "code",
   "execution_count": 29,
   "metadata": {},
   "outputs": [
    {
     "data": {
      "text/plain": [
       "{0: 'T-shirt/top',\n",
       " 1: 'Trouser',\n",
       " 2: 'Pullover',\n",
       " 3: 'Dress',\n",
       " 4: 'Coat',\n",
       " 5: 'Sandal',\n",
       " 6: 'Shirt',\n",
       " 7: 'Sneaker',\n",
       " 8: 'Bag',\n",
       " 9: 'Ankle Boot'}"
      ]
     },
     "execution_count": 29,
     "metadata": {},
     "output_type": "execute_result"
    }
   ],
   "source": [
    "#数値に対するlabelを与える\n",
    "label = {0: 'T-shirt/top', 1: 'Trouser', 2: 'Pullover', 3: 'Dress', 4: 'Coat', 5: 'Sandal', 6: 'Shirt', 7: 'Sneaker', 8: 'Bag', 9:'Ankle Boot'}\n",
    "#出力\n",
    "label"
   ]
  },
  {
   "cell_type": "code",
   "execution_count": 15,
   "metadata": {},
   "outputs": [
    {
     "name": "stdout",
     "output_type": "stream",
     "text": [
      "255.0\n",
      "255.0\n"
     ]
    }
   ],
   "source": [
    "#正規化\n",
    "#最大値で全ての数を割る\n",
    "print(X_train.max())\n",
    "print(X_test.max())\n",
    "X_train_1 = X_train /255\n",
    "X_test_1 = X_test /255"
   ]
  },
  {
   "cell_type": "code",
   "execution_count": 16,
   "metadata": {},
   "outputs": [
    {
     "name": "stdout",
     "output_type": "stream",
     "text": [
      "4 4\n"
     ]
    }
   ],
   "source": [
    "#形を変化させて4次元にする\n",
    "X_train = X_train.reshape(60000, 1, 28, 28)\n",
    "X_test = X_test.reshape(10000, 1, 28, 28)\n",
    "#次元数を確認\n",
    "print(X_train.ndim, X_test.ndim)"
   ]
  },
  {
   "cell_type": "code",
   "execution_count": 17,
   "metadata": {
    "collapsed": true
   },
   "outputs": [],
   "source": [
    "#chainerのインポート\n",
    "import chainer\n",
    "import chainer.functions as F\n",
    "import chainer.links as L\n",
    "from chainer import optimizers"
   ]
  },
  {
   "cell_type": "code",
   "execution_count": 18,
   "metadata": {
    "collapsed": true
   },
   "outputs": [],
   "source": [
    "#CNNの構造と計算規則を指定\n",
    "class CNN(chainer.Chain):\n",
    "    def __init__(self):\n",
    "        super().__init__()\n",
    "        with self.init_scope():\n",
    "            self.conv1 = L.Convolution2D(in_channels=1, out_channels=64, ksize=4, stride=1, pad=2)\n",
    "            self.conv2 = L.Convolution2D(in_channels=64, out_channels=128, ksize=4, stride=1, pad=2)\n",
    "            self.conv3 = L.Convolution2D(in_channels=None, out_channels=128, ksize=4, stride=1, pad=2) \n",
    "            self.fc4 = L.Linear(None, 512)\n",
    "            self.fc5 = L.Linear(None, 10) \n",
    "\n",
    "    def __call__(self, X):\n",
    "        h = F.relu(F.max_pooling_2d(self.conv1(X), ksize=2)) \n",
    "        h = F.relu(F.max_pooling_2d(self.conv2(h), ksize=2)) \n",
    "        h = F.relu(F.max_pooling_2d(self.conv3(h), ksize=2)) \n",
    "        h = F.relu(self.fc4(h))\n",
    "        return self.fc5(h)"
   ]
  },
  {
   "cell_type": "code",
   "execution_count": 19,
   "metadata": {
    "collapsed": true
   },
   "outputs": [],
   "source": [
    "#chainerのクラスのインポート\n",
    "from chainer.datasets import tuple_dataset\n",
    "from chainer.training import extensions\n",
    "from chainer import optimizers, serializers, training, iterators"
   ]
  },
  {
   "cell_type": "code",
   "execution_count": 24,
   "metadata": {},
   "outputs": [],
   "source": [
    "# 分類器インスタンスの生成\n",
    "model = L.Classifier(CNN())\n",
    "\n",
    "# optimizerの生成\n",
    "#SGDを利用する\n",
    "#デフォルトより学習率を低く設定（デフォルト＝0.01)\n",
    "optimizer = chainer.optimizers.SGD(lr = 0.001) \n",
    "# モデルの構造を読み込ませる\n",
    "optimizer.setup(model)               \n",
    "\n",
    "# ミニバッチに含まれるサンプル数を指定\n",
    "batchsize = 100\n",
    "\n",
    "# epoch数を指定\n",
    "#fashion-mnistの画像数が多いため計算量が膨大になるので、10でとどめた。\n",
    "#回数を増やせば精度は単調に上がっていくはず\n",
    "n_epoch = 10"
   ]
  },
  {
   "cell_type": "code",
   "execution_count": 25,
   "metadata": {
    "collapsed": true
   },
   "outputs": [],
   "source": [
    "#X_trainとy_trainをTupleDatasetにまとめていれる\n",
    "train = tuple_dataset.TupleDataset(X_train,y_train)\n",
    "#作成したtrainから、batchsize = 100ごとにランダムにデータをサンプリング\n",
    "train_iter = iterators.SerialIterator(train,batch_size=batchsize,shuffle=True)\n",
    "#どのデータを参照してどのようなモデルと最適手法（SGD)でパラメータを更新するのかを定義\n",
    "updater = training.StandardUpdater(train_iter,optimizer)\n",
    "#学習規則、回数、どこへ報告するかを定義\n",
    "trainer = training.Trainer(updater,(n_epoch,'epoch'),out = 'result')"
   ]
  },
  {
   "cell_type": "code",
   "execution_count": 26,
   "metadata": {
    "collapsed": true
   },
   "outputs": [],
   "source": [
    "#検証のためのtestも用意する。\n",
    "#trainとおなじようにtestも作成\n",
    "test = tuple_dataset.TupleDataset(X_test,y_test)\n",
    "#testデータに対して同じ評価方法で、繰り返しをしないように定義\n",
    "test_iter = iterators.SerialIterator(test,batch_size=batchsize,shuffle=False,repeat=False)\n",
    "#どのモデルを利用して、どのデータのテスト精度を出せばよいかを定義\n",
    "trainer.extend(extensions.Evaluator(test_iter, model))\n",
    "#ここからは、進捗を表す機能と画像にする機能の拡張\n",
    "trainer.extend(extensions.LogReport())\n",
    "trainer.extend(extensions.PrintReport(['epoch', 'main/accuracy', 'main/loss', 'validation/main/accuracy', 'validation/main/loss']))\n",
    "trainer.extend(extensions.ProgressBar())\n",
    "trainer.extend(extensions.PlotReport(['main/accuracy', 'validation/main/accuracy'],\n",
    "                          'epoch', file_name='accuracy.png'))\n",
    "trainer.extend(extensions.PlotReport(['main/loss', 'validation/main/loss'],\n",
    "                          'epoch', file_name='loss.png'))"
   ]
  },
  {
   "cell_type": "code",
   "execution_count": 27,
   "metadata": {
    "scrolled": false
   },
   "outputs": [
    {
     "name": "stdout",
     "output_type": "stream",
     "text": [
      "epoch       main/accuracy  main/loss   validation/main/accuracy  validation/main/loss\n",
      "     total [..................................................]  1.67%\n",
      "this epoch [########..........................................] 16.67%\n",
      "       100 iter, 0 epoch / 10 epochs\n",
      "       inf iters/sec. Estimated time to finish: 0:00:00.\n",
      "     total [#.................................................]  3.33%\n",
      "this epoch [################..................................] 33.33%\n",
      "       200 iter, 0 epoch / 10 epochs\n",
      "   0.65571 iters/sec. Estimated time to finish: 2:27:25.403053.\n",
      "     total [##................................................]  5.00%\n",
      "this epoch [#########################.........................] 50.00%\n",
      "       300 iter, 0 epoch / 10 epochs\n",
      "   0.65616 iters/sec. Estimated time to finish: 2:24:46.849880.\n",
      "     total [###...............................................]  6.67%\n",
      "this epoch [#################################.................] 66.67%\n",
      "       400 iter, 0 epoch / 10 epochs\n",
      "   0.66341 iters/sec. Estimated time to finish: 2:20:41.182304.\n",
      "     total [####..............................................]  8.33%\n",
      "this epoch [#########################################.........] 83.33%\n",
      "       500 iter, 0 epoch / 10 epochs\n",
      "   0.67213 iters/sec. Estimated time to finish: 2:16:22.888210.\n",
      "1           0.800917       1.68207     0.8508                    0.427066              \n",
      "     total [#####.............................................] 10.00%\n",
      "this epoch [..................................................]  0.00%\n",
      "       600 iter, 1 epoch / 10 epochs\n",
      "   0.61543 iters/sec. Estimated time to finish: 2:26:14.389556.\n",
      "     total [#####.............................................] 11.67%\n",
      "this epoch [########..........................................] 16.67%\n",
      "       700 iter, 1 epoch / 10 epochs\n",
      "    0.6267 iters/sec. Estimated time to finish: 2:20:56.930286.\n",
      "     total [######............................................] 13.33%\n",
      "this epoch [################..................................] 33.33%\n",
      "       800 iter, 1 epoch / 10 epochs\n",
      "   0.63609 iters/sec. Estimated time to finish: 2:16:15.004780.\n",
      "     total [#######...........................................] 15.00%\n",
      "this epoch [#########################.........................] 50.00%\n",
      "       900 iter, 1 epoch / 10 epochs\n",
      "   0.64393 iters/sec. Estimated time to finish: 2:12:00.161892.\n",
      "     total [########..........................................] 16.67%\n",
      "this epoch [#################################.................] 66.67%\n",
      "      1000 iter, 1 epoch / 10 epochs\n",
      "   0.65056 iters/sec. Estimated time to finish: 2:08:05.714130.\n",
      "     total [#########.........................................] 18.33%\n",
      "this epoch [#########################################.........] 83.33%\n",
      "      1100 iter, 1 epoch / 10 epochs\n",
      "   0.65339 iters/sec. Estimated time to finish: 2:04:59.359880.\n",
      "2           0.865967       0.3766      0.8656                    0.380388              \n",
      "     total [##########........................................] 20.00%\n",
      "this epoch [..................................................]  0.00%\n",
      "      1200 iter, 2 epoch / 10 epochs\n",
      "   0.63295 iters/sec. Estimated time to finish: 2:06:23.487619.\n",
      "     total [##########........................................] 21.67%\n",
      "this epoch [########..........................................] 16.67%\n",
      "      1300 iter, 2 epoch / 10 epochs\n",
      "   0.63872 iters/sec. Estimated time to finish: 2:02:38.515900.\n",
      "     total [###########.......................................] 23.33%\n",
      "this epoch [################..................................] 33.33%\n",
      "      1400 iter, 2 epoch / 10 epochs\n",
      "   0.64433 iters/sec. Estimated time to finish: 1:58:59.178679.\n",
      "     total [############......................................] 25.00%\n",
      "this epoch [#########################.........................] 50.00%\n",
      "      1500 iter, 2 epoch / 10 epochs\n",
      "   0.64914 iters/sec. Estimated time to finish: 1:55:32.298470.\n",
      "     total [#############.....................................] 26.67%\n",
      "this epoch [#################################.................] 66.67%\n",
      "      1600 iter, 2 epoch / 10 epochs\n",
      "   0.65358 iters/sec. Estimated time to finish: 1:52:12.122920.\n",
      "     total [##############....................................] 28.33%\n",
      "this epoch [#########################################.........] 83.33%\n",
      "      1700 iter, 2 epoch / 10 epochs\n",
      "   0.65753 iters/sec. Estimated time to finish: 1:48:59.645684.\n",
      "3           0.8815         0.330398    0.871                     0.361444              \n",
      "     total [###############...................................] 30.00%\n",
      "this epoch [..................................................]  0.00%\n",
      "      1800 iter, 3 epoch / 10 epochs\n",
      "   0.64379 iters/sec. Estimated time to finish: 1:48:43.913052.\n",
      "     total [###############...................................] 31.67%\n",
      "this epoch [########..........................................] 16.67%\n",
      "      1900 iter, 3 epoch / 10 epochs\n",
      "   0.64734 iters/sec. Estimated time to finish: 1:45:33.639468.\n",
      "     total [################..................................] 33.33%\n",
      "this epoch [################..................................] 33.33%\n",
      "      2000 iter, 3 epoch / 10 epochs\n",
      "   0.65083 iters/sec. Estimated time to finish: 1:42:25.987243.\n",
      "     total [#################.................................] 35.00%\n",
      "this epoch [#########################.........................] 50.00%\n",
      "      2100 iter, 3 epoch / 10 epochs\n",
      "   0.65406 iters/sec. Estimated time to finish: 1:39:22.770185.\n",
      "     total [##################................................] 36.67%\n",
      "this epoch [#################################.................] 66.67%\n",
      "      2200 iter, 3 epoch / 10 epochs\n",
      "   0.65332 iters/sec. Estimated time to finish: 1:36:56.404235.\n",
      "     total [###################...............................] 38.33%\n",
      "this epoch [#########################################.........] 83.33%\n",
      "      2300 iter, 3 epoch / 10 epochs\n",
      "   0.65599 iters/sec. Estimated time to finish: 1:34:00.294005.\n",
      "4           0.891483       0.299185    0.8766                    0.349251              \n",
      "     total [####################..............................] 40.00%\n",
      "this epoch [..................................................]  0.00%\n",
      "      2400 iter, 4 epoch / 10 epochs\n",
      "   0.64542 iters/sec. Estimated time to finish: 1:32:57.788742.\n",
      "     total [####################..............................] 41.67%\n",
      "this epoch [########..........................................] 16.67%\n",
      "      2500 iter, 4 epoch / 10 epochs\n",
      "   0.64399 iters/sec. Estimated time to finish: 1:30:34.846862.\n",
      "     total [#####################.............................] 43.33%\n",
      "this epoch [################..................................] 33.33%\n",
      "      2600 iter, 4 epoch / 10 epochs\n",
      "   0.64511 iters/sec. Estimated time to finish: 1:27:50.407975.\n",
      "     total [######################............................] 45.00%\n",
      "this epoch [#########################.........................] 50.00%\n",
      "      2700 iter, 4 epoch / 10 epochs\n",
      "   0.64523 iters/sec. Estimated time to finish: 1:25:14.422425.\n",
      "     total [#######################...........................] 46.67%\n",
      "this epoch [#################################.................] 66.67%\n",
      "      2800 iter, 4 epoch / 10 epochs\n",
      "   0.64654 iters/sec. Estimated time to finish: 1:22:29.439255.\n",
      "     total [########################..........................] 48.33%\n",
      "this epoch [#########################################.........] 83.33%\n",
      "      2900 iter, 4 epoch / 10 epochs\n",
      "   0.64661 iters/sec. Estimated time to finish: 1:19:54.239683.\n",
      "5           0.898967       0.27777     0.8808                    0.330834              \n",
      "     total [#########################.........................] 50.00%\n",
      "this epoch [..................................................]  0.00%\n",
      "      3000 iter, 5 epoch / 10 epochs\n",
      "    0.6372 iters/sec. Estimated time to finish: 1:18:28.133054.\n",
      "     total [#########################.........................] 51.67%\n",
      "this epoch [########..........................................] 16.67%\n",
      "      3100 iter, 5 epoch / 10 epochs\n",
      "   0.63689 iters/sec. Estimated time to finish: 1:15:53.408158.\n",
      "     total [##########################........................] 53.33%\n",
      "this epoch [################..................................] 33.33%\n",
      "      3200 iter, 5 epoch / 10 epochs\n",
      "    0.6373 iters/sec. Estimated time to finish: 1:13:13.539735.\n"
     ]
    },
    {
     "name": "stdout",
     "output_type": "stream",
     "text": [
      "     total [###########################.......................] 55.00%\n",
      "this epoch [#########################.........................] 50.00%\n",
      "      3300 iter, 5 epoch / 10 epochs\n",
      "   0.63803 iters/sec. Estimated time to finish: 1:10:31.754221.\n",
      "     total [############################......................] 56.67%\n",
      "this epoch [#################################.................] 66.67%\n",
      "      3400 iter, 5 epoch / 10 epochs\n",
      "   0.63769 iters/sec. Estimated time to finish: 1:07:57.196355.\n",
      "     total [#############################.....................] 58.33%\n",
      "this epoch [#########################################.........] 83.33%\n",
      "      3500 iter, 5 epoch / 10 epochs\n",
      "   0.63824 iters/sec. Estimated time to finish: 1:05:17.039540.\n",
      "6           0.905933       0.261494    0.886                     0.320517              \n",
      "     total [##############################....................] 60.00%\n",
      "this epoch [..................................................]  0.00%\n",
      "      3600 iter, 6 epoch / 10 epochs\n",
      "   0.63182 iters/sec. Estimated time to finish: 1:03:18.533333.\n",
      "     total [##############################....................] 61.67%\n",
      "this epoch [########..........................................] 16.67%\n",
      "      3700 iter, 6 epoch / 10 epochs\n",
      "   0.63156 iters/sec. Estimated time to finish: 1:00:41.779105.\n",
      "     total [###############################...................] 63.33%\n",
      "this epoch [################..................................] 33.33%\n",
      "      3800 iter, 6 epoch / 10 epochs\n",
      "   0.63165 iters/sec. Estimated time to finish: 0:58:02.932407.\n",
      "     total [################################..................] 65.00%\n",
      "this epoch [#########################.........................] 50.00%\n",
      "      3900 iter, 6 epoch / 10 epochs\n",
      "   0.63331 iters/sec. Estimated time to finish: 0:55:15.926807.\n",
      "     total [#################################.................] 66.67%\n",
      "this epoch [#################################.................] 66.67%\n",
      "      4000 iter, 6 epoch / 10 epochs\n",
      "   0.63529 iters/sec. Estimated time to finish: 0:52:28.146301.\n",
      "     total [##################################................] 68.33%\n",
      "this epoch [#########################################.........] 83.33%\n",
      "      4100 iter, 6 epoch / 10 epochs\n",
      "   0.63603 iters/sec. Estimated time to finish: 0:49:47.276050.\n",
      "7           0.911117       0.246226    0.8888                    0.31272               \n",
      "     total [###################################...............] 70.00%\n",
      "this epoch [..................................................]  0.00%\n",
      "      4200 iter, 7 epoch / 10 epochs\n",
      "    0.6283 iters/sec. Estimated time to finish: 0:47:44.856273.\n",
      "     total [###################################...............] 71.67%\n",
      "this epoch [########..........................................] 16.67%\n",
      "      4300 iter, 7 epoch / 10 epochs\n",
      "    0.6295 iters/sec. Estimated time to finish: 0:45:00.541444.\n",
      "     total [####################################..............] 73.33%\n",
      "this epoch [################..................................] 33.33%\n",
      "      4400 iter, 7 epoch / 10 epochs\n",
      "   0.62879 iters/sec. Estimated time to finish: 0:42:24.581250.\n",
      "     total [#####################################.............] 75.00%\n",
      "this epoch [#########################.........................] 50.00%\n",
      "      4500 iter, 7 epoch / 10 epochs\n",
      "   0.62894 iters/sec. Estimated time to finish: 0:39:44.980165.\n",
      "     total [######################################............] 76.67%\n",
      "this epoch [#################################.................] 66.67%\n",
      "      4600 iter, 7 epoch / 10 epochs\n",
      "   0.62841 iters/sec. Estimated time to finish: 0:37:07.832980.\n",
      "     total [#######################################...........] 78.33%\n",
      "this epoch [#########################################.........] 83.33%\n",
      "      4700 iter, 7 epoch / 10 epochs\n",
      "   0.62805 iters/sec. Estimated time to finish: 0:34:29.899835.\n",
      "8           0.91565        0.233963    0.8851                    0.3251                \n",
      "     total [########################################..........] 80.00%\n",
      "this epoch [..................................................]  0.00%\n",
      "      4800 iter, 8 epoch / 10 epochs\n",
      "   0.62349 iters/sec. Estimated time to finish: 0:32:04.649847.\n",
      "     total [########################################..........] 81.67%\n",
      "this epoch [########..........................................] 16.67%\n",
      "      4900 iter, 8 epoch / 10 epochs\n",
      "    0.6252 iters/sec. Estimated time to finish: 0:29:19.442425.\n",
      "     total [#########################################.........] 83.33%\n",
      "this epoch [################..................................] 33.33%\n",
      "      5000 iter, 8 epoch / 10 epochs\n",
      "   0.62556 iters/sec. Estimated time to finish: 0:26:38.561536.\n",
      "     total [##########################################........] 85.00%\n",
      "this epoch [#########################.........................] 50.00%\n",
      "      5100 iter, 8 epoch / 10 epochs\n",
      "   0.62053 iters/sec. Estimated time to finish: 0:24:10.384073.\n",
      "     total [###########################################.......] 86.67%\n",
      "this epoch [#################################.................] 66.67%\n",
      "      5200 iter, 8 epoch / 10 epochs\n",
      "    0.6135 iters/sec. Estimated time to finish: 0:21:44.001762.\n",
      "     total [############################################......] 88.33%\n",
      "this epoch [#########################################.........] 83.33%\n",
      "      5300 iter, 8 epoch / 10 epochs\n",
      "   0.61136 iters/sec. Estimated time to finish: 0:19:04.984846.\n",
      "9           0.92065        0.221334    0.8931                    0.306728              \n",
      "     total [#############################################.....] 90.00%\n",
      "this epoch [..................................................]  0.00%\n",
      "      5400 iter, 9 epoch / 10 epochs\n",
      "   0.60206 iters/sec. Estimated time to finish: 0:16:36.583579.\n",
      "     total [#############################################.....] 91.67%\n",
      "this epoch [########..........................................] 16.67%\n",
      "      5500 iter, 9 epoch / 10 epochs\n",
      "   0.60122 iters/sec. Estimated time to finish: 0:13:51.641175.\n",
      "     total [##############################################....] 93.33%\n",
      "this epoch [################..................................] 33.33%\n",
      "      5600 iter, 9 epoch / 10 epochs\n",
      "   0.60249 iters/sec. Estimated time to finish: 0:11:03.915976.\n",
      "     total [###############################################...] 95.00%\n",
      "this epoch [#########################.........................] 50.00%\n",
      "      5700 iter, 9 epoch / 10 epochs\n",
      "    0.6036 iters/sec. Estimated time to finish: 0:08:17.019354.\n",
      "     total [################################################..] 96.67%\n",
      "this epoch [#################################.................] 66.67%\n",
      "      5800 iter, 9 epoch / 10 epochs\n",
      "   0.60448 iters/sec. Estimated time to finish: 0:05:30.865087.\n",
      "     total [#################################################.] 98.33%\n",
      "this epoch [#########################################.........] 83.33%\n",
      "      5900 iter, 9 epoch / 10 epochs\n",
      "   0.60581 iters/sec. Estimated time to finish: 0:02:45.069119.\n",
      "10          0.922867       0.212164    0.8908                    0.323357              \n",
      "     total [##################################################] 100.00%\n",
      "this epoch [..................................................]  0.00%\n",
      "      6000 iter, 10 epoch / 10 epochs\n",
      "   0.60227 iters/sec. Estimated time to finish: 0:00:00.\n"
     ]
    }
   ],
   "source": [
    "trainer.run()"
   ]
  },
  {
   "cell_type": "code",
   "execution_count": 30,
   "metadata": {
    "collapsed": true
   },
   "outputs": [],
   "source": [
    "#PlotReportのグラフを出力する関数を定義\n",
    "from pylab import box\n",
    "def show_graph(src):\n",
    "    img =  plt.imread(src)\n",
    "    xpixels, ypixels = img.shape[0],img.shape[1]\n",
    "    dpi = 100\n",
    "    margin = 0.01\n",
    "    figsize = (1 + margin) * ypixels / dpi, (1 + margin) * xpixels / dpi\n",
    "\n",
    "    fig = plt.figure(figsize=figsize, dpi=dpi)\n",
    "    ax = fig.add_axes([margin, margin, 1 - 2*margin, 1 - 2*margin])\n",
    "    ax.tick_params(labelbottom=\"off\",bottom=\"off\")\n",
    "    ax.tick_params(labelleft=\"off\",left=\"off\")\n",
    "\n",
    "    ax.imshow(img, interpolation='none')\n",
    "    box(\"off\")\n",
    "    plt.show()"
   ]
  },
  {
   "cell_type": "code",
   "execution_count": 31,
   "metadata": {},
   "outputs": [
    {
     "data": {
      "image/png": "[encoded data removed]",
      "text/plain": [
       "<matplotlib.figure.Figure at 0x2559811bd30>"
      ]
     },
     "metadata": {},
     "output_type": "display_data"
    },
    {
     "data": {
      "image/png": "[encoded data removed]",
      "text/plain": [
       "<matplotlib.figure.Figure at 0x255983f2048>"
      ]
     },
     "metadata": {},
     "output_type": "display_data"
    }
   ],
   "source": [
    "#グラフの出力\n",
    "show_graph('result/loss.png')\n",
    "show_graph('result/accuracy.png')\n",
    "#3回目以降から過学習気味であった。\n",
    "#この結果から前述した回数を増やせばいいというのは成り立たないことが分かった。\n",
    "#Layerを変えたり補正"
   ]
  },
  {
   "cell_type": "code",
   "execution_count": 33,
   "metadata": {},
   "outputs": [],
   "source": [
    "#予測を行う関数を定義\n",
    "def predict(model, X):\n",
    "    if len(X.shape) == 3:  # データ数が1の場合は、バッチサイズ分の次元を追加\n",
    "        pred = model.predictor(X[None, ...]).data.argmax()\n",
    "    else:  # データ数が2以上の場合はそのまま\n",
    "        pred = model.predictor(X).data.argmax(axis=1)\n",
    "    return pred"
   ]
  },
  {
   "cell_type": "code",
   "execution_count": 35,
   "metadata": {},
   "outputs": [],
   "source": [
    "#前に行ったニューラルネットワークと比較するため同じ評価指標で出力\n",
    "from sklearn import metrics\n",
    "print('accuracy: %.3f' % metrics.accuracy_score(y_test, predict(model, X_test)))\n",
    "print('recall: %.3f' % metrics.recall_score(y_test, predict(model, X_test), average='macro'))\n",
    "print('precision: %.3f' % metrics.precision_score(y_test, predict(model, X_test), average='macro'))\n",
    "print('f1_score: %.3f' % metrics.f1_score(y_test, predict(model, X_test), average='macro'))\n",
    "'''\n",
    "メモリーエラーが出たので省略する。ニューラルネットワークの時は0.86未満だった。\n",
    "過学習を起こし始めていたが、グラフから0.89くらいだと思われる。\n",
    "ニューラルネットワークより高い精度を実現できた。\n",
    "'''"
   ]
  },
  {
   "cell_type": "code",
   "execution_count": 36,
   "metadata": {
    "collapsed": true
   },
   "outputs": [],
   "source": []
  },
  {
   "cell_type": "code",
   "execution_count": null,
   "metadata": {
    "collapsed": true
   },
   "outputs": [],
   "source": []
  }
 ],
 "metadata": {
  "kernelspec": {
   "display_name": "Python 3",
   "language": "python",
   "name": "python3"
  },
  "language_info": {
   "codemirror_mode": {
    "name": "ipython",
    "version": 3
   },
   "file_extension": ".py",
   "mimetype": "text/x-python",
   "name": "python",
   "nbconvert_exporter": "python",
   "pygments_lexer": "ipython3",
   "version": "3.6.1"
  }
 },
 "nbformat": 4,
 "nbformat_minor": 2
}
